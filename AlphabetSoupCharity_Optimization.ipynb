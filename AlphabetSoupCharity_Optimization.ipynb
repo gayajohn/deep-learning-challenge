{
  "nbformat": 4,
  "nbformat_minor": 0,
  "metadata": {
    "colab": {
      "provenance": []
    },
    "kernelspec": {
      "name": "python3",
      "display_name": "Python 3"
    },
    "language_info": {
      "name": "python"
    }
  },
  "cells": [
    {
      "cell_type": "code",
      "execution_count": null,
      "metadata": {
        "colab": {
          "base_uri": "https://localhost:8080/"
        },
        "id": "bc4doG4Hl2dz",
        "outputId": "f8bf86ea-903e-48ba-f985-62618da017a4"
      },
      "outputs": [
        {
          "output_type": "stream",
          "name": "stdout",
          "text": [
            "Collecting keras_tuner\n",
            "  Downloading keras_tuner-1.4.6-py3-none-any.whl (128 kB)\n",
            "\u001b[?25l     \u001b[90m━━━━━━━━━━━━━━━━━━━━━━━━━━━━━━━━━━━━━━━━\u001b[0m \u001b[32m0.0/128.9 kB\u001b[0m \u001b[31m?\u001b[0m eta \u001b[36m-:--:--\u001b[0m\r\u001b[2K     \u001b[91m━━━━━━━━━━━━━━━━━━━━━━━━━━━━━━━━━━━━━━\u001b[0m\u001b[90m╺\u001b[0m\u001b[90m━\u001b[0m \u001b[32m122.9/128.9 kB\u001b[0m \u001b[31m3.6 MB/s\u001b[0m eta \u001b[36m0:00:01\u001b[0m\r\u001b[2K     \u001b[90m━━━━━━━━━━━━━━━━━━━━━━━━━━━━━━━━━━━━━━━━\u001b[0m \u001b[32m128.9/128.9 kB\u001b[0m \u001b[31m2.7 MB/s\u001b[0m eta \u001b[36m0:00:00\u001b[0m\n",
            "\u001b[?25hRequirement already satisfied: keras in /usr/local/lib/python3.10/dist-packages (from keras_tuner) (2.14.0)\n",
            "Requirement already satisfied: packaging in /usr/local/lib/python3.10/dist-packages (from keras_tuner) (23.2)\n",
            "Requirement already satisfied: requests in /usr/local/lib/python3.10/dist-packages (from keras_tuner) (2.31.0)\n",
            "Collecting kt-legacy (from keras_tuner)\n",
            "  Downloading kt_legacy-1.0.5-py3-none-any.whl (9.6 kB)\n",
            "Requirement already satisfied: charset-normalizer<4,>=2 in /usr/local/lib/python3.10/dist-packages (from requests->keras_tuner) (3.3.2)\n",
            "Requirement already satisfied: idna<4,>=2.5 in /usr/local/lib/python3.10/dist-packages (from requests->keras_tuner) (3.4)\n",
            "Requirement already satisfied: urllib3<3,>=1.21.1 in /usr/local/lib/python3.10/dist-packages (from requests->keras_tuner) (2.0.7)\n",
            "Requirement already satisfied: certifi>=2017.4.17 in /usr/local/lib/python3.10/dist-packages (from requests->keras_tuner) (2023.7.22)\n",
            "Installing collected packages: kt-legacy, keras_tuner\n",
            "Successfully installed keras_tuner-1.4.6 kt-legacy-1.0.5\n"
          ]
        }
      ],
      "source": [
        "! pip install keras_tuner"
      ]
    },
    {
      "cell_type": "markdown",
      "source": [
        "## Preprocessing"
      ],
      "metadata": {
        "id": "i993BUlv4tiW"
      }
    },
    {
      "cell_type": "code",
      "source": [
        "# Import our dependencies\n",
        "from sklearn.model_selection import train_test_split\n",
        "from sklearn.preprocessing import StandardScaler\n",
        "import pandas as pd\n",
        "import tensorflow as tf\n",
        "import numpy as np\n",
        "from scipy import stats\n",
        "# Import the kerastuner library\n",
        "import keras_tuner as kt\n",
        "\n",
        "\n",
        "#  Import and read the charity_data.csv.\n",
        "import pandas as pd\n",
        "application_df = pd.read_csv(\"https://static.bc-edx.com/data/dl-1-2/m21/lms/starter/charity_data.csv\")\n",
        "application_df.head()"
      ],
      "metadata": {
        "colab": {
          "base_uri": "https://localhost:8080/",
          "height": 451
        },
        "id": "1aOwXp9-3egi",
        "outputId": "362a1bf3-d5aa-4069-bb7e-5deba8876994"
      },
      "execution_count": null,
      "outputs": [
        {
          "output_type": "execute_result",
          "data": {
            "text/plain": [
              "        EIN                                      NAME APPLICATION_TYPE  \\\n",
              "0  10520599              BLUE KNIGHTS MOTORCYCLE CLUB              T10   \n",
              "1  10531628    AMERICAN CHESAPEAKE CLUB CHARITABLE TR               T3   \n",
              "2  10547893        ST CLOUD PROFESSIONAL FIREFIGHTERS               T5   \n",
              "3  10553066            SOUTHSIDE ATHLETIC ASSOCIATION               T3   \n",
              "4  10556103  GENETIC RESEARCH INSTITUTE OF THE DESERT               T3   \n",
              "\n",
              "        AFFILIATION CLASSIFICATION      USE_CASE  ORGANIZATION  STATUS  \\\n",
              "0       Independent          C1000    ProductDev   Association       1   \n",
              "1       Independent          C2000  Preservation  Co-operative       1   \n",
              "2  CompanySponsored          C3000    ProductDev   Association       1   \n",
              "3  CompanySponsored          C2000  Preservation         Trust       1   \n",
              "4       Independent          C1000     Heathcare         Trust       1   \n",
              "\n",
              "      INCOME_AMT SPECIAL_CONSIDERATIONS  ASK_AMT  IS_SUCCESSFUL  \n",
              "0              0                      N     5000              1  \n",
              "1         1-9999                      N   108590              1  \n",
              "2              0                      N     5000              0  \n",
              "3    10000-24999                      N     6692              1  \n",
              "4  100000-499999                      N   142590              1  "
            ],
            "text/html": [
              "\n",
              "  <div id=\"df-67c6be97-4268-4037-81c7-beb987b3e499\" class=\"colab-df-container\">\n",
              "    <div>\n",
              "<style scoped>\n",
              "    .dataframe tbody tr th:only-of-type {\n",
              "        vertical-align: middle;\n",
              "    }\n",
              "\n",
              "    .dataframe tbody tr th {\n",
              "        vertical-align: top;\n",
              "    }\n",
              "\n",
              "    .dataframe thead th {\n",
              "        text-align: right;\n",
              "    }\n",
              "</style>\n",
              "<table border=\"1\" class=\"dataframe\">\n",
              "  <thead>\n",
              "    <tr style=\"text-align: right;\">\n",
              "      <th></th>\n",
              "      <th>EIN</th>\n",
              "      <th>NAME</th>\n",
              "      <th>APPLICATION_TYPE</th>\n",
              "      <th>AFFILIATION</th>\n",
              "      <th>CLASSIFICATION</th>\n",
              "      <th>USE_CASE</th>\n",
              "      <th>ORGANIZATION</th>\n",
              "      <th>STATUS</th>\n",
              "      <th>INCOME_AMT</th>\n",
              "      <th>SPECIAL_CONSIDERATIONS</th>\n",
              "      <th>ASK_AMT</th>\n",
              "      <th>IS_SUCCESSFUL</th>\n",
              "    </tr>\n",
              "  </thead>\n",
              "  <tbody>\n",
              "    <tr>\n",
              "      <th>0</th>\n",
              "      <td>10520599</td>\n",
              "      <td>BLUE KNIGHTS MOTORCYCLE CLUB</td>\n",
              "      <td>T10</td>\n",
              "      <td>Independent</td>\n",
              "      <td>C1000</td>\n",
              "      <td>ProductDev</td>\n",
              "      <td>Association</td>\n",
              "      <td>1</td>\n",
              "      <td>0</td>\n",
              "      <td>N</td>\n",
              "      <td>5000</td>\n",
              "      <td>1</td>\n",
              "    </tr>\n",
              "    <tr>\n",
              "      <th>1</th>\n",
              "      <td>10531628</td>\n",
              "      <td>AMERICAN CHESAPEAKE CLUB CHARITABLE TR</td>\n",
              "      <td>T3</td>\n",
              "      <td>Independent</td>\n",
              "      <td>C2000</td>\n",
              "      <td>Preservation</td>\n",
              "      <td>Co-operative</td>\n",
              "      <td>1</td>\n",
              "      <td>1-9999</td>\n",
              "      <td>N</td>\n",
              "      <td>108590</td>\n",
              "      <td>1</td>\n",
              "    </tr>\n",
              "    <tr>\n",
              "      <th>2</th>\n",
              "      <td>10547893</td>\n",
              "      <td>ST CLOUD PROFESSIONAL FIREFIGHTERS</td>\n",
              "      <td>T5</td>\n",
              "      <td>CompanySponsored</td>\n",
              "      <td>C3000</td>\n",
              "      <td>ProductDev</td>\n",
              "      <td>Association</td>\n",
              "      <td>1</td>\n",
              "      <td>0</td>\n",
              "      <td>N</td>\n",
              "      <td>5000</td>\n",
              "      <td>0</td>\n",
              "    </tr>\n",
              "    <tr>\n",
              "      <th>3</th>\n",
              "      <td>10553066</td>\n",
              "      <td>SOUTHSIDE ATHLETIC ASSOCIATION</td>\n",
              "      <td>T3</td>\n",
              "      <td>CompanySponsored</td>\n",
              "      <td>C2000</td>\n",
              "      <td>Preservation</td>\n",
              "      <td>Trust</td>\n",
              "      <td>1</td>\n",
              "      <td>10000-24999</td>\n",
              "      <td>N</td>\n",
              "      <td>6692</td>\n",
              "      <td>1</td>\n",
              "    </tr>\n",
              "    <tr>\n",
              "      <th>4</th>\n",
              "      <td>10556103</td>\n",
              "      <td>GENETIC RESEARCH INSTITUTE OF THE DESERT</td>\n",
              "      <td>T3</td>\n",
              "      <td>Independent</td>\n",
              "      <td>C1000</td>\n",
              "      <td>Heathcare</td>\n",
              "      <td>Trust</td>\n",
              "      <td>1</td>\n",
              "      <td>100000-499999</td>\n",
              "      <td>N</td>\n",
              "      <td>142590</td>\n",
              "      <td>1</td>\n",
              "    </tr>\n",
              "  </tbody>\n",
              "</table>\n",
              "</div>\n",
              "    <div class=\"colab-df-buttons\">\n",
              "\n",
              "  <div class=\"colab-df-container\">\n",
              "    <button class=\"colab-df-convert\" onclick=\"convertToInteractive('df-67c6be97-4268-4037-81c7-beb987b3e499')\"\n",
              "            title=\"Convert this dataframe to an interactive table.\"\n",
              "            style=\"display:none;\">\n",
              "\n",
              "  <svg xmlns=\"http://www.w3.org/2000/svg\" height=\"24px\" viewBox=\"0 -960 960 960\">\n",
              "    <path d=\"M120-120v-720h720v720H120Zm60-500h600v-160H180v160Zm220 220h160v-160H400v160Zm0 220h160v-160H400v160ZM180-400h160v-160H180v160Zm440 0h160v-160H620v160ZM180-180h160v-160H180v160Zm440 0h160v-160H620v160Z\"/>\n",
              "  </svg>\n",
              "    </button>\n",
              "\n",
              "  <style>\n",
              "    .colab-df-container {\n",
              "      display:flex;\n",
              "      gap: 12px;\n",
              "    }\n",
              "\n",
              "    .colab-df-convert {\n",
              "      background-color: #E8F0FE;\n",
              "      border: none;\n",
              "      border-radius: 50%;\n",
              "      cursor: pointer;\n",
              "      display: none;\n",
              "      fill: #1967D2;\n",
              "      height: 32px;\n",
              "      padding: 0 0 0 0;\n",
              "      width: 32px;\n",
              "    }\n",
              "\n",
              "    .colab-df-convert:hover {\n",
              "      background-color: #E2EBFA;\n",
              "      box-shadow: 0px 1px 2px rgba(60, 64, 67, 0.3), 0px 1px 3px 1px rgba(60, 64, 67, 0.15);\n",
              "      fill: #174EA6;\n",
              "    }\n",
              "\n",
              "    .colab-df-buttons div {\n",
              "      margin-bottom: 4px;\n",
              "    }\n",
              "\n",
              "    [theme=dark] .colab-df-convert {\n",
              "      background-color: #3B4455;\n",
              "      fill: #D2E3FC;\n",
              "    }\n",
              "\n",
              "    [theme=dark] .colab-df-convert:hover {\n",
              "      background-color: #434B5C;\n",
              "      box-shadow: 0px 1px 3px 1px rgba(0, 0, 0, 0.15);\n",
              "      filter: drop-shadow(0px 1px 2px rgba(0, 0, 0, 0.3));\n",
              "      fill: #FFFFFF;\n",
              "    }\n",
              "  </style>\n",
              "\n",
              "    <script>\n",
              "      const buttonEl =\n",
              "        document.querySelector('#df-67c6be97-4268-4037-81c7-beb987b3e499 button.colab-df-convert');\n",
              "      buttonEl.style.display =\n",
              "        google.colab.kernel.accessAllowed ? 'block' : 'none';\n",
              "\n",
              "      async function convertToInteractive(key) {\n",
              "        const element = document.querySelector('#df-67c6be97-4268-4037-81c7-beb987b3e499');\n",
              "        const dataTable =\n",
              "          await google.colab.kernel.invokeFunction('convertToInteractive',\n",
              "                                                    [key], {});\n",
              "        if (!dataTable) return;\n",
              "\n",
              "        const docLinkHtml = 'Like what you see? Visit the ' +\n",
              "          '<a target=\"_blank\" href=https://colab.research.google.com/notebooks/data_table.ipynb>data table notebook</a>'\n",
              "          + ' to learn more about interactive tables.';\n",
              "        element.innerHTML = '';\n",
              "        dataTable['output_type'] = 'display_data';\n",
              "        await google.colab.output.renderOutput(dataTable, element);\n",
              "        const docLink = document.createElement('div');\n",
              "        docLink.innerHTML = docLinkHtml;\n",
              "        element.appendChild(docLink);\n",
              "      }\n",
              "    </script>\n",
              "  </div>\n",
              "\n",
              "\n",
              "<div id=\"df-454c78d1-756a-4c6d-ac20-a289a1ed28f5\">\n",
              "  <button class=\"colab-df-quickchart\" onclick=\"quickchart('df-454c78d1-756a-4c6d-ac20-a289a1ed28f5')\"\n",
              "            title=\"Suggest charts\"\n",
              "            style=\"display:none;\">\n",
              "\n",
              "<svg xmlns=\"http://www.w3.org/2000/svg\" height=\"24px\"viewBox=\"0 0 24 24\"\n",
              "     width=\"24px\">\n",
              "    <g>\n",
              "        <path d=\"M19 3H5c-1.1 0-2 .9-2 2v14c0 1.1.9 2 2 2h14c1.1 0 2-.9 2-2V5c0-1.1-.9-2-2-2zM9 17H7v-7h2v7zm4 0h-2V7h2v10zm4 0h-2v-4h2v4z\"/>\n",
              "    </g>\n",
              "</svg>\n",
              "  </button>\n",
              "\n",
              "<style>\n",
              "  .colab-df-quickchart {\n",
              "      --bg-color: #E8F0FE;\n",
              "      --fill-color: #1967D2;\n",
              "      --hover-bg-color: #E2EBFA;\n",
              "      --hover-fill-color: #174EA6;\n",
              "      --disabled-fill-color: #AAA;\n",
              "      --disabled-bg-color: #DDD;\n",
              "  }\n",
              "\n",
              "  [theme=dark] .colab-df-quickchart {\n",
              "      --bg-color: #3B4455;\n",
              "      --fill-color: #D2E3FC;\n",
              "      --hover-bg-color: #434B5C;\n",
              "      --hover-fill-color: #FFFFFF;\n",
              "      --disabled-bg-color: #3B4455;\n",
              "      --disabled-fill-color: #666;\n",
              "  }\n",
              "\n",
              "  .colab-df-quickchart {\n",
              "    background-color: var(--bg-color);\n",
              "    border: none;\n",
              "    border-radius: 50%;\n",
              "    cursor: pointer;\n",
              "    display: none;\n",
              "    fill: var(--fill-color);\n",
              "    height: 32px;\n",
              "    padding: 0;\n",
              "    width: 32px;\n",
              "  }\n",
              "\n",
              "  .colab-df-quickchart:hover {\n",
              "    background-color: var(--hover-bg-color);\n",
              "    box-shadow: 0 1px 2px rgba(60, 64, 67, 0.3), 0 1px 3px 1px rgba(60, 64, 67, 0.15);\n",
              "    fill: var(--button-hover-fill-color);\n",
              "  }\n",
              "\n",
              "  .colab-df-quickchart-complete:disabled,\n",
              "  .colab-df-quickchart-complete:disabled:hover {\n",
              "    background-color: var(--disabled-bg-color);\n",
              "    fill: var(--disabled-fill-color);\n",
              "    box-shadow: none;\n",
              "  }\n",
              "\n",
              "  .colab-df-spinner {\n",
              "    border: 2px solid var(--fill-color);\n",
              "    border-color: transparent;\n",
              "    border-bottom-color: var(--fill-color);\n",
              "    animation:\n",
              "      spin 1s steps(1) infinite;\n",
              "  }\n",
              "\n",
              "  @keyframes spin {\n",
              "    0% {\n",
              "      border-color: transparent;\n",
              "      border-bottom-color: var(--fill-color);\n",
              "      border-left-color: var(--fill-color);\n",
              "    }\n",
              "    20% {\n",
              "      border-color: transparent;\n",
              "      border-left-color: var(--fill-color);\n",
              "      border-top-color: var(--fill-color);\n",
              "    }\n",
              "    30% {\n",
              "      border-color: transparent;\n",
              "      border-left-color: var(--fill-color);\n",
              "      border-top-color: var(--fill-color);\n",
              "      border-right-color: var(--fill-color);\n",
              "    }\n",
              "    40% {\n",
              "      border-color: transparent;\n",
              "      border-right-color: var(--fill-color);\n",
              "      border-top-color: var(--fill-color);\n",
              "    }\n",
              "    60% {\n",
              "      border-color: transparent;\n",
              "      border-right-color: var(--fill-color);\n",
              "    }\n",
              "    80% {\n",
              "      border-color: transparent;\n",
              "      border-right-color: var(--fill-color);\n",
              "      border-bottom-color: var(--fill-color);\n",
              "    }\n",
              "    90% {\n",
              "      border-color: transparent;\n",
              "      border-bottom-color: var(--fill-color);\n",
              "    }\n",
              "  }\n",
              "</style>\n",
              "\n",
              "  <script>\n",
              "    async function quickchart(key) {\n",
              "      const quickchartButtonEl =\n",
              "        document.querySelector('#' + key + ' button');\n",
              "      quickchartButtonEl.disabled = true;  // To prevent multiple clicks.\n",
              "      quickchartButtonEl.classList.add('colab-df-spinner');\n",
              "      try {\n",
              "        const charts = await google.colab.kernel.invokeFunction(\n",
              "            'suggestCharts', [key], {});\n",
              "      } catch (error) {\n",
              "        console.error('Error during call to suggestCharts:', error);\n",
              "      }\n",
              "      quickchartButtonEl.classList.remove('colab-df-spinner');\n",
              "      quickchartButtonEl.classList.add('colab-df-quickchart-complete');\n",
              "    }\n",
              "    (() => {\n",
              "      let quickchartButtonEl =\n",
              "        document.querySelector('#df-454c78d1-756a-4c6d-ac20-a289a1ed28f5 button');\n",
              "      quickchartButtonEl.style.display =\n",
              "        google.colab.kernel.accessAllowed ? 'block' : 'none';\n",
              "    })();\n",
              "  </script>\n",
              "</div>\n",
              "    </div>\n",
              "  </div>\n"
            ]
          },
          "metadata": {},
          "execution_count": 5
        }
      ]
    },
    {
      "cell_type": "code",
      "source": [
        "# Drop the non-beneficial ID columns, 'EIN' and 'NAME'.\n",
        "application_df.drop(['EIN', 'NAME'], axis=1, inplace=True)\n",
        "\n",
        "application_df.head()"
      ],
      "metadata": {
        "colab": {
          "base_uri": "https://localhost:8080/",
          "height": 261
        },
        "id": "78vU85iR4PEH",
        "outputId": "8f8b1819-ebc3-420e-c16c-2ea167a20a5d"
      },
      "execution_count": null,
      "outputs": [
        {
          "output_type": "execute_result",
          "data": {
            "text/plain": [
              "  APPLICATION_TYPE       AFFILIATION CLASSIFICATION      USE_CASE  \\\n",
              "0              T10       Independent          C1000    ProductDev   \n",
              "1               T3       Independent          C2000  Preservation   \n",
              "2               T5  CompanySponsored          C3000    ProductDev   \n",
              "3               T3  CompanySponsored          C2000  Preservation   \n",
              "4               T3       Independent          C1000     Heathcare   \n",
              "\n",
              "   ORGANIZATION  STATUS     INCOME_AMT SPECIAL_CONSIDERATIONS  ASK_AMT  \\\n",
              "0   Association       1              0                      N     5000   \n",
              "1  Co-operative       1         1-9999                      N   108590   \n",
              "2   Association       1              0                      N     5000   \n",
              "3         Trust       1    10000-24999                      N     6692   \n",
              "4         Trust       1  100000-499999                      N   142590   \n",
              "\n",
              "   IS_SUCCESSFUL  \n",
              "0              1  \n",
              "1              1  \n",
              "2              0  \n",
              "3              1  \n",
              "4              1  "
            ],
            "text/html": [
              "\n",
              "  <div id=\"df-d0721283-e300-4dd6-ae65-345b6f8cb3b5\" class=\"colab-df-container\">\n",
              "    <div>\n",
              "<style scoped>\n",
              "    .dataframe tbody tr th:only-of-type {\n",
              "        vertical-align: middle;\n",
              "    }\n",
              "\n",
              "    .dataframe tbody tr th {\n",
              "        vertical-align: top;\n",
              "    }\n",
              "\n",
              "    .dataframe thead th {\n",
              "        text-align: right;\n",
              "    }\n",
              "</style>\n",
              "<table border=\"1\" class=\"dataframe\">\n",
              "  <thead>\n",
              "    <tr style=\"text-align: right;\">\n",
              "      <th></th>\n",
              "      <th>APPLICATION_TYPE</th>\n",
              "      <th>AFFILIATION</th>\n",
              "      <th>CLASSIFICATION</th>\n",
              "      <th>USE_CASE</th>\n",
              "      <th>ORGANIZATION</th>\n",
              "      <th>STATUS</th>\n",
              "      <th>INCOME_AMT</th>\n",
              "      <th>SPECIAL_CONSIDERATIONS</th>\n",
              "      <th>ASK_AMT</th>\n",
              "      <th>IS_SUCCESSFUL</th>\n",
              "    </tr>\n",
              "  </thead>\n",
              "  <tbody>\n",
              "    <tr>\n",
              "      <th>0</th>\n",
              "      <td>T10</td>\n",
              "      <td>Independent</td>\n",
              "      <td>C1000</td>\n",
              "      <td>ProductDev</td>\n",
              "      <td>Association</td>\n",
              "      <td>1</td>\n",
              "      <td>0</td>\n",
              "      <td>N</td>\n",
              "      <td>5000</td>\n",
              "      <td>1</td>\n",
              "    </tr>\n",
              "    <tr>\n",
              "      <th>1</th>\n",
              "      <td>T3</td>\n",
              "      <td>Independent</td>\n",
              "      <td>C2000</td>\n",
              "      <td>Preservation</td>\n",
              "      <td>Co-operative</td>\n",
              "      <td>1</td>\n",
              "      <td>1-9999</td>\n",
              "      <td>N</td>\n",
              "      <td>108590</td>\n",
              "      <td>1</td>\n",
              "    </tr>\n",
              "    <tr>\n",
              "      <th>2</th>\n",
              "      <td>T5</td>\n",
              "      <td>CompanySponsored</td>\n",
              "      <td>C3000</td>\n",
              "      <td>ProductDev</td>\n",
              "      <td>Association</td>\n",
              "      <td>1</td>\n",
              "      <td>0</td>\n",
              "      <td>N</td>\n",
              "      <td>5000</td>\n",
              "      <td>0</td>\n",
              "    </tr>\n",
              "    <tr>\n",
              "      <th>3</th>\n",
              "      <td>T3</td>\n",
              "      <td>CompanySponsored</td>\n",
              "      <td>C2000</td>\n",
              "      <td>Preservation</td>\n",
              "      <td>Trust</td>\n",
              "      <td>1</td>\n",
              "      <td>10000-24999</td>\n",
              "      <td>N</td>\n",
              "      <td>6692</td>\n",
              "      <td>1</td>\n",
              "    </tr>\n",
              "    <tr>\n",
              "      <th>4</th>\n",
              "      <td>T3</td>\n",
              "      <td>Independent</td>\n",
              "      <td>C1000</td>\n",
              "      <td>Heathcare</td>\n",
              "      <td>Trust</td>\n",
              "      <td>1</td>\n",
              "      <td>100000-499999</td>\n",
              "      <td>N</td>\n",
              "      <td>142590</td>\n",
              "      <td>1</td>\n",
              "    </tr>\n",
              "  </tbody>\n",
              "</table>\n",
              "</div>\n",
              "    <div class=\"colab-df-buttons\">\n",
              "\n",
              "  <div class=\"colab-df-container\">\n",
              "    <button class=\"colab-df-convert\" onclick=\"convertToInteractive('df-d0721283-e300-4dd6-ae65-345b6f8cb3b5')\"\n",
              "            title=\"Convert this dataframe to an interactive table.\"\n",
              "            style=\"display:none;\">\n",
              "\n",
              "  <svg xmlns=\"http://www.w3.org/2000/svg\" height=\"24px\" viewBox=\"0 -960 960 960\">\n",
              "    <path d=\"M120-120v-720h720v720H120Zm60-500h600v-160H180v160Zm220 220h160v-160H400v160Zm0 220h160v-160H400v160ZM180-400h160v-160H180v160Zm440 0h160v-160H620v160ZM180-180h160v-160H180v160Zm440 0h160v-160H620v160Z\"/>\n",
              "  </svg>\n",
              "    </button>\n",
              "\n",
              "  <style>\n",
              "    .colab-df-container {\n",
              "      display:flex;\n",
              "      gap: 12px;\n",
              "    }\n",
              "\n",
              "    .colab-df-convert {\n",
              "      background-color: #E8F0FE;\n",
              "      border: none;\n",
              "      border-radius: 50%;\n",
              "      cursor: pointer;\n",
              "      display: none;\n",
              "      fill: #1967D2;\n",
              "      height: 32px;\n",
              "      padding: 0 0 0 0;\n",
              "      width: 32px;\n",
              "    }\n",
              "\n",
              "    .colab-df-convert:hover {\n",
              "      background-color: #E2EBFA;\n",
              "      box-shadow: 0px 1px 2px rgba(60, 64, 67, 0.3), 0px 1px 3px 1px rgba(60, 64, 67, 0.15);\n",
              "      fill: #174EA6;\n",
              "    }\n",
              "\n",
              "    .colab-df-buttons div {\n",
              "      margin-bottom: 4px;\n",
              "    }\n",
              "\n",
              "    [theme=dark] .colab-df-convert {\n",
              "      background-color: #3B4455;\n",
              "      fill: #D2E3FC;\n",
              "    }\n",
              "\n",
              "    [theme=dark] .colab-df-convert:hover {\n",
              "      background-color: #434B5C;\n",
              "      box-shadow: 0px 1px 3px 1px rgba(0, 0, 0, 0.15);\n",
              "      filter: drop-shadow(0px 1px 2px rgba(0, 0, 0, 0.3));\n",
              "      fill: #FFFFFF;\n",
              "    }\n",
              "  </style>\n",
              "\n",
              "    <script>\n",
              "      const buttonEl =\n",
              "        document.querySelector('#df-d0721283-e300-4dd6-ae65-345b6f8cb3b5 button.colab-df-convert');\n",
              "      buttonEl.style.display =\n",
              "        google.colab.kernel.accessAllowed ? 'block' : 'none';\n",
              "\n",
              "      async function convertToInteractive(key) {\n",
              "        const element = document.querySelector('#df-d0721283-e300-4dd6-ae65-345b6f8cb3b5');\n",
              "        const dataTable =\n",
              "          await google.colab.kernel.invokeFunction('convertToInteractive',\n",
              "                                                    [key], {});\n",
              "        if (!dataTable) return;\n",
              "\n",
              "        const docLinkHtml = 'Like what you see? Visit the ' +\n",
              "          '<a target=\"_blank\" href=https://colab.research.google.com/notebooks/data_table.ipynb>data table notebook</a>'\n",
              "          + ' to learn more about interactive tables.';\n",
              "        element.innerHTML = '';\n",
              "        dataTable['output_type'] = 'display_data';\n",
              "        await google.colab.output.renderOutput(dataTable, element);\n",
              "        const docLink = document.createElement('div');\n",
              "        docLink.innerHTML = docLinkHtml;\n",
              "        element.appendChild(docLink);\n",
              "      }\n",
              "    </script>\n",
              "  </div>\n",
              "\n",
              "\n",
              "<div id=\"df-15e1dac6-90d1-4cf1-92ec-9728b8784b39\">\n",
              "  <button class=\"colab-df-quickchart\" onclick=\"quickchart('df-15e1dac6-90d1-4cf1-92ec-9728b8784b39')\"\n",
              "            title=\"Suggest charts\"\n",
              "            style=\"display:none;\">\n",
              "\n",
              "<svg xmlns=\"http://www.w3.org/2000/svg\" height=\"24px\"viewBox=\"0 0 24 24\"\n",
              "     width=\"24px\">\n",
              "    <g>\n",
              "        <path d=\"M19 3H5c-1.1 0-2 .9-2 2v14c0 1.1.9 2 2 2h14c1.1 0 2-.9 2-2V5c0-1.1-.9-2-2-2zM9 17H7v-7h2v7zm4 0h-2V7h2v10zm4 0h-2v-4h2v4z\"/>\n",
              "    </g>\n",
              "</svg>\n",
              "  </button>\n",
              "\n",
              "<style>\n",
              "  .colab-df-quickchart {\n",
              "      --bg-color: #E8F0FE;\n",
              "      --fill-color: #1967D2;\n",
              "      --hover-bg-color: #E2EBFA;\n",
              "      --hover-fill-color: #174EA6;\n",
              "      --disabled-fill-color: #AAA;\n",
              "      --disabled-bg-color: #DDD;\n",
              "  }\n",
              "\n",
              "  [theme=dark] .colab-df-quickchart {\n",
              "      --bg-color: #3B4455;\n",
              "      --fill-color: #D2E3FC;\n",
              "      --hover-bg-color: #434B5C;\n",
              "      --hover-fill-color: #FFFFFF;\n",
              "      --disabled-bg-color: #3B4455;\n",
              "      --disabled-fill-color: #666;\n",
              "  }\n",
              "\n",
              "  .colab-df-quickchart {\n",
              "    background-color: var(--bg-color);\n",
              "    border: none;\n",
              "    border-radius: 50%;\n",
              "    cursor: pointer;\n",
              "    display: none;\n",
              "    fill: var(--fill-color);\n",
              "    height: 32px;\n",
              "    padding: 0;\n",
              "    width: 32px;\n",
              "  }\n",
              "\n",
              "  .colab-df-quickchart:hover {\n",
              "    background-color: var(--hover-bg-color);\n",
              "    box-shadow: 0 1px 2px rgba(60, 64, 67, 0.3), 0 1px 3px 1px rgba(60, 64, 67, 0.15);\n",
              "    fill: var(--button-hover-fill-color);\n",
              "  }\n",
              "\n",
              "  .colab-df-quickchart-complete:disabled,\n",
              "  .colab-df-quickchart-complete:disabled:hover {\n",
              "    background-color: var(--disabled-bg-color);\n",
              "    fill: var(--disabled-fill-color);\n",
              "    box-shadow: none;\n",
              "  }\n",
              "\n",
              "  .colab-df-spinner {\n",
              "    border: 2px solid var(--fill-color);\n",
              "    border-color: transparent;\n",
              "    border-bottom-color: var(--fill-color);\n",
              "    animation:\n",
              "      spin 1s steps(1) infinite;\n",
              "  }\n",
              "\n",
              "  @keyframes spin {\n",
              "    0% {\n",
              "      border-color: transparent;\n",
              "      border-bottom-color: var(--fill-color);\n",
              "      border-left-color: var(--fill-color);\n",
              "    }\n",
              "    20% {\n",
              "      border-color: transparent;\n",
              "      border-left-color: var(--fill-color);\n",
              "      border-top-color: var(--fill-color);\n",
              "    }\n",
              "    30% {\n",
              "      border-color: transparent;\n",
              "      border-left-color: var(--fill-color);\n",
              "      border-top-color: var(--fill-color);\n",
              "      border-right-color: var(--fill-color);\n",
              "    }\n",
              "    40% {\n",
              "      border-color: transparent;\n",
              "      border-right-color: var(--fill-color);\n",
              "      border-top-color: var(--fill-color);\n",
              "    }\n",
              "    60% {\n",
              "      border-color: transparent;\n",
              "      border-right-color: var(--fill-color);\n",
              "    }\n",
              "    80% {\n",
              "      border-color: transparent;\n",
              "      border-right-color: var(--fill-color);\n",
              "      border-bottom-color: var(--fill-color);\n",
              "    }\n",
              "    90% {\n",
              "      border-color: transparent;\n",
              "      border-bottom-color: var(--fill-color);\n",
              "    }\n",
              "  }\n",
              "</style>\n",
              "\n",
              "  <script>\n",
              "    async function quickchart(key) {\n",
              "      const quickchartButtonEl =\n",
              "        document.querySelector('#' + key + ' button');\n",
              "      quickchartButtonEl.disabled = true;  // To prevent multiple clicks.\n",
              "      quickchartButtonEl.classList.add('colab-df-spinner');\n",
              "      try {\n",
              "        const charts = await google.colab.kernel.invokeFunction(\n",
              "            'suggestCharts', [key], {});\n",
              "      } catch (error) {\n",
              "        console.error('Error during call to suggestCharts:', error);\n",
              "      }\n",
              "      quickchartButtonEl.classList.remove('colab-df-spinner');\n",
              "      quickchartButtonEl.classList.add('colab-df-quickchart-complete');\n",
              "    }\n",
              "    (() => {\n",
              "      let quickchartButtonEl =\n",
              "        document.querySelector('#df-15e1dac6-90d1-4cf1-92ec-9728b8784b39 button');\n",
              "      quickchartButtonEl.style.display =\n",
              "        google.colab.kernel.accessAllowed ? 'block' : 'none';\n",
              "    })();\n",
              "  </script>\n",
              "</div>\n",
              "    </div>\n",
              "  </div>\n"
            ]
          },
          "metadata": {},
          "execution_count": 6
        }
      ]
    },
    {
      "cell_type": "code",
      "source": [
        "# Getting dataframe info\n",
        "application_df.info()"
      ],
      "metadata": {
        "colab": {
          "base_uri": "https://localhost:8080/"
        },
        "id": "qEJgmV6n4RHE",
        "outputId": "d42bbe31-782f-40c0-900c-1983a0e03d4f"
      },
      "execution_count": null,
      "outputs": [
        {
          "output_type": "stream",
          "name": "stdout",
          "text": [
            "<class 'pandas.core.frame.DataFrame'>\n",
            "RangeIndex: 34299 entries, 0 to 34298\n",
            "Data columns (total 10 columns):\n",
            " #   Column                  Non-Null Count  Dtype \n",
            "---  ------                  --------------  ----- \n",
            " 0   APPLICATION_TYPE        34299 non-null  object\n",
            " 1   AFFILIATION             34299 non-null  object\n",
            " 2   CLASSIFICATION          34299 non-null  object\n",
            " 3   USE_CASE                34299 non-null  object\n",
            " 4   ORGANIZATION            34299 non-null  object\n",
            " 5   STATUS                  34299 non-null  int64 \n",
            " 6   INCOME_AMT              34299 non-null  object\n",
            " 7   SPECIAL_CONSIDERATIONS  34299 non-null  object\n",
            " 8   ASK_AMT                 34299 non-null  int64 \n",
            " 9   IS_SUCCESSFUL           34299 non-null  int64 \n",
            "dtypes: int64(3), object(7)\n",
            "memory usage: 2.6+ MB\n"
          ]
        }
      ]
    },
    {
      "cell_type": "code",
      "source": [
        "# Determine the number of unique values in each column.\n",
        "application_df.nunique()"
      ],
      "metadata": {
        "colab": {
          "base_uri": "https://localhost:8080/"
        },
        "id": "SzGZtSJI4TPa",
        "outputId": "41fc0702-6c01-4778-98cf-2a686fb3febf"
      },
      "execution_count": null,
      "outputs": [
        {
          "output_type": "execute_result",
          "data": {
            "text/plain": [
              "APPLICATION_TYPE            17\n",
              "AFFILIATION                  6\n",
              "CLASSIFICATION              71\n",
              "USE_CASE                     5\n",
              "ORGANIZATION                 4\n",
              "STATUS                       2\n",
              "INCOME_AMT                   9\n",
              "SPECIAL_CONSIDERATIONS       2\n",
              "ASK_AMT                   8747\n",
              "IS_SUCCESSFUL                2\n",
              "dtype: int64"
            ]
          },
          "metadata": {},
          "execution_count": 8
        }
      ]
    },
    {
      "cell_type": "code",
      "source": [
        "# Look at APPLICATION_TYPE value counts for binning\n",
        "app_type_vc = application_df['APPLICATION_TYPE'].value_counts()\n",
        "print(app_type_vc)"
      ],
      "metadata": {
        "colab": {
          "base_uri": "https://localhost:8080/"
        },
        "id": "yM2cvgeR4VUH",
        "outputId": "591234cf-d1e9-4bdb-ed8c-f676c3900d95"
      },
      "execution_count": null,
      "outputs": [
        {
          "output_type": "stream",
          "name": "stdout",
          "text": [
            "T3     27037\n",
            "T4      1542\n",
            "T6      1216\n",
            "T5      1173\n",
            "T19     1065\n",
            "T8       737\n",
            "T7       725\n",
            "T10      528\n",
            "T9       156\n",
            "T13       66\n",
            "T12       27\n",
            "T2        16\n",
            "T25        3\n",
            "T14        3\n",
            "T29        2\n",
            "T15        2\n",
            "T17        1\n",
            "Name: APPLICATION_TYPE, dtype: int64\n"
          ]
        }
      ]
    },
    {
      "cell_type": "code",
      "source": [
        "# Choose a cutoff value and create a list of application types to be replaced\n",
        "# use the variable name `application_types_to_replace`\n",
        "app_type_filter = app_type_vc[app_type_vc < 500]\n",
        "application_types_to_replace = app_type_filter.index.tolist()\n",
        "\n",
        "# Replace in dataframe\n",
        "for app in application_types_to_replace:\n",
        "    application_df['APPLICATION_TYPE'] = application_df['APPLICATION_TYPE'].replace(app,\"Other\")\n",
        "\n",
        "# Check to make sure binning was successful\n",
        "application_df['APPLICATION_TYPE'].value_counts()"
      ],
      "metadata": {
        "colab": {
          "base_uri": "https://localhost:8080/"
        },
        "id": "Q3D5l1D34YaY",
        "outputId": "e99cc1e9-748e-4a3d-c57b-4756c8eaba34"
      },
      "execution_count": null,
      "outputs": [
        {
          "output_type": "execute_result",
          "data": {
            "text/plain": [
              "T3       27037\n",
              "T4        1542\n",
              "T6        1216\n",
              "T5        1173\n",
              "T19       1065\n",
              "T8         737\n",
              "T7         725\n",
              "T10        528\n",
              "Other      276\n",
              "Name: APPLICATION_TYPE, dtype: int64"
            ]
          },
          "metadata": {},
          "execution_count": 10
        }
      ]
    },
    {
      "cell_type": "code",
      "source": [
        "# Look at CLASSIFICATION value counts for binning\n",
        "classification_vc = application_df['CLASSIFICATION'].value_counts()\n",
        "print(classification_vc)"
      ],
      "metadata": {
        "colab": {
          "base_uri": "https://localhost:8080/"
        },
        "id": "xb8OZxZw4b4y",
        "outputId": "fafeef1c-f91f-443a-b262-2e0761921167"
      },
      "execution_count": null,
      "outputs": [
        {
          "output_type": "stream",
          "name": "stdout",
          "text": [
            "C1000    17326\n",
            "C2000     6074\n",
            "C1200     4837\n",
            "C3000     1918\n",
            "C2100     1883\n",
            "         ...  \n",
            "C4120        1\n",
            "C8210        1\n",
            "C2561        1\n",
            "C4500        1\n",
            "C2150        1\n",
            "Name: CLASSIFICATION, Length: 71, dtype: int64\n"
          ]
        }
      ]
    },
    {
      "cell_type": "code",
      "source": [
        "# You may find it helpful to look at CLASSIFICATION value counts >1\n",
        "# Get the value counts for the 'CLASSIFICATION' column\n",
        "print(classification_vc[classification_vc>1])\n"
      ],
      "metadata": {
        "colab": {
          "base_uri": "https://localhost:8080/"
        },
        "id": "0jKKEQnP4eHI",
        "outputId": "bb6a05ac-f08b-4710-d53f-30eec948dfc4"
      },
      "execution_count": null,
      "outputs": [
        {
          "output_type": "stream",
          "name": "stdout",
          "text": [
            "C1000    17326\n",
            "C2000     6074\n",
            "C1200     4837\n",
            "C3000     1918\n",
            "C2100     1883\n",
            "C7000      777\n",
            "C1700      287\n",
            "C4000      194\n",
            "C5000      116\n",
            "C1270      114\n",
            "C2700      104\n",
            "C2800       95\n",
            "C7100       75\n",
            "C1300       58\n",
            "C1280       50\n",
            "C1230       36\n",
            "C1400       34\n",
            "C7200       32\n",
            "C2300       32\n",
            "C1240       30\n",
            "C8000       20\n",
            "C7120       18\n",
            "C1500       16\n",
            "C1800       15\n",
            "C6000       15\n",
            "C1250       14\n",
            "C8200       11\n",
            "C1238       10\n",
            "C1278       10\n",
            "C1235        9\n",
            "C1237        9\n",
            "C7210        7\n",
            "C2400        6\n",
            "C1720        6\n",
            "C4100        6\n",
            "C1257        5\n",
            "C1600        5\n",
            "C1260        3\n",
            "C2710        3\n",
            "C0           3\n",
            "C3200        2\n",
            "C1234        2\n",
            "C1246        2\n",
            "C1267        2\n",
            "C1256        2\n",
            "Name: CLASSIFICATION, dtype: int64\n"
          ]
        }
      ]
    },
    {
      "cell_type": "code",
      "source": [
        "# Choose a cutoff value and create a list of classifications to be replaced\n",
        "# use the variable name `classifications_to_replace`\n",
        "classification_filter = classification_vc[classification_vc<700]\n",
        "classifications_to_replace = classification_filter.index.tolist()\n",
        "\n",
        "# Replace in dataframe\n",
        "for cls in classifications_to_replace:\n",
        "    application_df['CLASSIFICATION'] = application_df['CLASSIFICATION'].replace(cls,\"Other\")\n",
        "\n",
        "# Check to make sure binning was successful\n",
        "application_df['CLASSIFICATION'].value_counts()"
      ],
      "metadata": {
        "colab": {
          "base_uri": "https://localhost:8080/"
        },
        "id": "084RFiNE4gkq",
        "outputId": "c4218a22-d40b-41e8-e37d-a1b1d1b4352a"
      },
      "execution_count": null,
      "outputs": [
        {
          "output_type": "execute_result",
          "data": {
            "text/plain": [
              "C1000    17326\n",
              "C2000     6074\n",
              "C1200     4837\n",
              "C3000     1918\n",
              "C2100     1883\n",
              "Other     1484\n",
              "C7000      777\n",
              "Name: CLASSIFICATION, dtype: int64"
            ]
          },
          "metadata": {},
          "execution_count": 13
        }
      ]
    },
    {
      "cell_type": "code",
      "source": [
        "# 'SPECIAL_CONSIDERATIONS' column has values Y or N. Converting it to numeric 1/0\n",
        "# Define a mapping dictionary\n",
        "mapping = {'Y': 1, 'N': 0}\n",
        "\n",
        "# Use the map function to replace values in the 'SPECIAL_CONSIDERATIONS' column\n",
        "application_df['SPECIAL_CONSIDERATIONS'] = application_df['SPECIAL_CONSIDERATIONS'].map(mapping)"
      ],
      "metadata": {
        "id": "lDWwCvnr4i_V"
      },
      "execution_count": null,
      "outputs": []
    },
    {
      "cell_type": "code",
      "source": [
        "# Convert categorical data to numeric with `pd.get_dummies`\n",
        "\n",
        "# List of categorical columns to one-hot encode\n",
        "categorical_columns = application_df.dtypes[application_df.dtypes == \"object\"].index.tolist()\n",
        "\n",
        "\n",
        "# Perform one-hot encoding for the specified columns\n",
        "dummy_columns = pd.get_dummies(application_df[categorical_columns], columns=categorical_columns)\n",
        "\n",
        "# Merge the one-hot encoded columns with the non-categorical columns\n",
        "application_df_encoded = pd.concat([application_df.drop(columns=categorical_columns), dummy_columns], axis=1)\n",
        "\n",
        "application_df_encoded.info()"
      ],
      "metadata": {
        "colab": {
          "base_uri": "https://localhost:8080/"
        },
        "id": "SSMDWMwx4log",
        "outputId": "467a1018-9e57-4dc1-8f91-2428b053bd0f"
      },
      "execution_count": null,
      "outputs": [
        {
          "output_type": "stream",
          "name": "stdout",
          "text": [
            "<class 'pandas.core.frame.DataFrame'>\n",
            "RangeIndex: 34299 entries, 0 to 34298\n",
            "Data columns (total 44 columns):\n",
            " #   Column                        Non-Null Count  Dtype\n",
            "---  ------                        --------------  -----\n",
            " 0   STATUS                        34299 non-null  int64\n",
            " 1   SPECIAL_CONSIDERATIONS        34299 non-null  int64\n",
            " 2   ASK_AMT                       34299 non-null  int64\n",
            " 3   IS_SUCCESSFUL                 34299 non-null  int64\n",
            " 4   APPLICATION_TYPE_Other        34299 non-null  uint8\n",
            " 5   APPLICATION_TYPE_T10          34299 non-null  uint8\n",
            " 6   APPLICATION_TYPE_T19          34299 non-null  uint8\n",
            " 7   APPLICATION_TYPE_T3           34299 non-null  uint8\n",
            " 8   APPLICATION_TYPE_T4           34299 non-null  uint8\n",
            " 9   APPLICATION_TYPE_T5           34299 non-null  uint8\n",
            " 10  APPLICATION_TYPE_T6           34299 non-null  uint8\n",
            " 11  APPLICATION_TYPE_T7           34299 non-null  uint8\n",
            " 12  APPLICATION_TYPE_T8           34299 non-null  uint8\n",
            " 13  AFFILIATION_CompanySponsored  34299 non-null  uint8\n",
            " 14  AFFILIATION_Family/Parent     34299 non-null  uint8\n",
            " 15  AFFILIATION_Independent       34299 non-null  uint8\n",
            " 16  AFFILIATION_National          34299 non-null  uint8\n",
            " 17  AFFILIATION_Other             34299 non-null  uint8\n",
            " 18  AFFILIATION_Regional          34299 non-null  uint8\n",
            " 19  CLASSIFICATION_C1000          34299 non-null  uint8\n",
            " 20  CLASSIFICATION_C1200          34299 non-null  uint8\n",
            " 21  CLASSIFICATION_C2000          34299 non-null  uint8\n",
            " 22  CLASSIFICATION_C2100          34299 non-null  uint8\n",
            " 23  CLASSIFICATION_C3000          34299 non-null  uint8\n",
            " 24  CLASSIFICATION_C7000          34299 non-null  uint8\n",
            " 25  CLASSIFICATION_Other          34299 non-null  uint8\n",
            " 26  USE_CASE_CommunityServ        34299 non-null  uint8\n",
            " 27  USE_CASE_Heathcare            34299 non-null  uint8\n",
            " 28  USE_CASE_Other                34299 non-null  uint8\n",
            " 29  USE_CASE_Preservation         34299 non-null  uint8\n",
            " 30  USE_CASE_ProductDev           34299 non-null  uint8\n",
            " 31  ORGANIZATION_Association      34299 non-null  uint8\n",
            " 32  ORGANIZATION_Co-operative     34299 non-null  uint8\n",
            " 33  ORGANIZATION_Corporation      34299 non-null  uint8\n",
            " 34  ORGANIZATION_Trust            34299 non-null  uint8\n",
            " 35  INCOME_AMT_0                  34299 non-null  uint8\n",
            " 36  INCOME_AMT_1-9999             34299 non-null  uint8\n",
            " 37  INCOME_AMT_10000-24999        34299 non-null  uint8\n",
            " 38  INCOME_AMT_100000-499999      34299 non-null  uint8\n",
            " 39  INCOME_AMT_10M-50M            34299 non-null  uint8\n",
            " 40  INCOME_AMT_1M-5M              34299 non-null  uint8\n",
            " 41  INCOME_AMT_25000-99999        34299 non-null  uint8\n",
            " 42  INCOME_AMT_50M+               34299 non-null  uint8\n",
            " 43  INCOME_AMT_5M-10M             34299 non-null  uint8\n",
            "dtypes: int64(4), uint8(40)\n",
            "memory usage: 2.4 MB\n"
          ]
        }
      ]
    },
    {
      "cell_type": "code",
      "source": [
        "# Split our preprocessed data into our features and target arrays\n",
        "X = application_df_encoded.drop(columns = 'IS_SUCCESSFUL')\n",
        "y = application_df_encoded['IS_SUCCESSFUL']\n",
        "\n",
        "# Split the preprocessed data into a training and testing dataset\n",
        "X_train, X_test, y_train, y_test = train_test_split(X,\n",
        "                                                    y,\n",
        "                                                    random_state=1,\n",
        "                                                    stratify=y)\n"
      ],
      "metadata": {
        "id": "q6FV1pTC4nqE"
      },
      "execution_count": null,
      "outputs": []
    },
    {
      "cell_type": "code",
      "source": [
        "# Create a StandardScaler instances\n",
        "scaler = StandardScaler()\n",
        "\n",
        "# Fit the StandardScaler\n",
        "X_scaler = scaler.fit(X_train)\n",
        "\n",
        "# Scale the data\n",
        "X_train_scaled = X_scaler.transform(X_train)\n",
        "X_test_scaled = X_scaler.transform(X_test)"
      ],
      "metadata": {
        "id": "VrFCJcjw4r5w"
      },
      "execution_count": null,
      "outputs": []
    },
    {
      "cell_type": "markdown",
      "source": [
        "## Compile, Train and Evaluate the Model"
      ],
      "metadata": {
        "id": "kw42jzX3436O"
      }
    },
    {
      "cell_type": "code",
      "source": [
        "# Define the model - deep neural net, i.e., the number of input features and hidden nodes for each layer.\n",
        "number_input_features = len(X_train_scaled[0])\n",
        "hidden_nodes_layer1 =  80\n",
        "hidden_nodes_layer2 = 30\n",
        "\n",
        "nn = tf.keras.models.Sequential()\n",
        "\n",
        "# First hidden layer\n",
        "nn.add(\n",
        "    tf.keras.layers.Dense(units=hidden_nodes_layer1, input_dim=number_input_features, activation=\"relu\")\n",
        ")\n",
        "# Second hidden layer\n",
        "nn.add(tf.keras.layers.Dense(units=hidden_nodes_layer2, activation=\"relu\"))\n",
        "\n",
        "# Output layer\n",
        "nn.add(tf.keras.layers.Dense(units=1, activation=\"sigmoid\"))\n",
        "\n",
        "# Check the structure of the model\n",
        "nn.summary()"
      ],
      "metadata": {
        "colab": {
          "base_uri": "https://localhost:8080/"
        },
        "id": "bH_WLxsa48k4",
        "outputId": "7b05e197-5199-4a54-b04d-95a47d11ed85"
      },
      "execution_count": null,
      "outputs": [
        {
          "output_type": "stream",
          "name": "stdout",
          "text": [
            "Model: \"sequential_1\"\n",
            "_________________________________________________________________\n",
            " Layer (type)                Output Shape              Param #   \n",
            "=================================================================\n",
            " dense_3 (Dense)             (None, 80)                3520      \n",
            "                                                                 \n",
            " dense_4 (Dense)             (None, 30)                2430      \n",
            "                                                                 \n",
            " dense_5 (Dense)             (None, 1)                 31        \n",
            "                                                                 \n",
            "=================================================================\n",
            "Total params: 5981 (23.36 KB)\n",
            "Trainable params: 5981 (23.36 KB)\n",
            "Non-trainable params: 0 (0.00 Byte)\n",
            "_________________________________________________________________\n"
          ]
        }
      ]
    },
    {
      "cell_type": "code",
      "source": [
        "# Compile the model\n",
        "nn.compile(loss=\"binary_crossentropy\", optimizer=\"adam\", metrics=[\"accuracy\"])"
      ],
      "metadata": {
        "id": "DVHH3sVT4_XH"
      },
      "execution_count": null,
      "outputs": []
    },
    {
      "cell_type": "code",
      "source": [
        "# Define a callback to save model weights every five epochs\n",
        "checkpoint_callback = tf.keras.callbacks.ModelCheckpoint(\n",
        "    filepath=\"model_weights_1.h5\",  # Filepath to save the model weights\n",
        "    save_best_only=True,          # Save only the best model\n",
        "    save_weights_only=True,       # Save only the model weights\n",
        "    monitor=\"val_loss\",           # Metric to monitor (e.g., validation loss)\n",
        "    mode=\"min\",                   # \"min\" for loss, \"max\" for accuracy, \"auto\" for automatic\n",
        "    verbose=1,                    # Verbosity\n",
        "    period=5                      # Save every 5 epochs\n",
        ")\n",
        "\n",
        "# Example model fitting with the callback\n",
        "nn.fit(\n",
        "    X_train_scaled, y_train,\n",
        "    epochs=100,\n",
        "    callbacks=[checkpoint_callback]  # Include the callback during training\n",
        ")"
      ],
      "metadata": {
        "colab": {
          "base_uri": "https://localhost:8080/"
        },
        "id": "Ut_Alz6f5CNW",
        "outputId": "192efa15-7160-4b5d-9645-0466136b28a1"
      },
      "execution_count": null,
      "outputs": [
        {
          "output_type": "stream",
          "name": "stderr",
          "text": [
            "WARNING:tensorflow:`period` argument is deprecated. Please use `save_freq` to specify the frequency in number of batches seen.\n"
          ]
        },
        {
          "output_type": "stream",
          "name": "stdout",
          "text": [
            "Epoch 1/100\n",
            "804/804 [==============================] - 6s 6ms/step - loss: 0.5694 - accuracy: 0.7219\n",
            "Epoch 2/100\n",
            "804/804 [==============================] - 3s 3ms/step - loss: 0.5550 - accuracy: 0.7287\n",
            "Epoch 3/100\n",
            "804/804 [==============================] - 2s 3ms/step - loss: 0.5517 - accuracy: 0.7299\n",
            "Epoch 4/100\n",
            "804/804 [==============================] - 2s 3ms/step - loss: 0.5496 - accuracy: 0.7319\n",
            "Epoch 5/100\n",
            "790/804 [============================>.] - ETA: 0s - loss: 0.5486 - accuracy: 0.7317"
          ]
        },
        {
          "output_type": "stream",
          "name": "stderr",
          "text": [
            "WARNING:tensorflow:Can save best model only with val_loss available, skipping.\n"
          ]
        },
        {
          "output_type": "stream",
          "name": "stdout",
          "text": [
            "\b\b\b\b\b\b\b\b\b\b\b\b\b\b\b\b\b\b\b\b\b\b\b\b\b\b\b\b\b\b\b\b\b\b\b\b\b\b\b\b\b\b\b\b\b\b\b\b\b\b\b\b\b\b\b\b\b\b\b\b\b\b\b\b\b\b\b\b\b\b\b\b\b\b\b\b\b\b\b\b\b\b\b\b\r804/804 [==============================] - 2s 3ms/step - loss: 0.5492 - accuracy: 0.7314\n",
            "Epoch 6/100\n",
            "804/804 [==============================] - 4s 4ms/step - loss: 0.5474 - accuracy: 0.7320\n",
            "Epoch 7/100\n",
            "804/804 [==============================] - 2s 3ms/step - loss: 0.5468 - accuracy: 0.7325\n",
            "Epoch 8/100\n",
            "804/804 [==============================] - 2s 2ms/step - loss: 0.5456 - accuracy: 0.7343\n",
            "Epoch 9/100\n",
            "804/804 [==============================] - 2s 3ms/step - loss: 0.5457 - accuracy: 0.7327\n",
            "Epoch 10/100\n",
            "799/804 [============================>.] - ETA: 0s - loss: 0.5449 - accuracy: 0.7326"
          ]
        },
        {
          "output_type": "stream",
          "name": "stderr",
          "text": [
            "WARNING:tensorflow:Can save best model only with val_loss available, skipping.\n"
          ]
        },
        {
          "output_type": "stream",
          "name": "stdout",
          "text": [
            "\b\b\b\b\b\b\b\b\b\b\b\b\b\b\b\b\b\b\b\b\b\b\b\b\b\b\b\b\b\b\b\b\b\b\b\b\b\b\b\b\b\b\b\b\b\b\b\b\b\b\b\b\b\b\b\b\b\b\b\b\b\b\b\b\b\b\b\b\b\b\b\b\b\b\b\b\b\b\b\b\b\b\b\b\r804/804 [==============================] - 3s 3ms/step - loss: 0.5447 - accuracy: 0.7326\n",
            "Epoch 11/100\n",
            "804/804 [==============================] - 3s 4ms/step - loss: 0.5445 - accuracy: 0.7338\n",
            "Epoch 12/100\n",
            "804/804 [==============================] - 3s 4ms/step - loss: 0.5438 - accuracy: 0.7347\n",
            "Epoch 13/100\n",
            "804/804 [==============================] - 2s 3ms/step - loss: 0.5432 - accuracy: 0.7345\n",
            "Epoch 14/100\n",
            "804/804 [==============================] - 2s 3ms/step - loss: 0.5437 - accuracy: 0.7326\n",
            "Epoch 15/100\n",
            "799/804 [============================>.] - ETA: 0s - loss: 0.5430 - accuracy: 0.7355"
          ]
        },
        {
          "output_type": "stream",
          "name": "stderr",
          "text": [
            "WARNING:tensorflow:Can save best model only with val_loss available, skipping.\n"
          ]
        },
        {
          "output_type": "stream",
          "name": "stdout",
          "text": [
            "\b\b\b\b\b\b\b\b\b\b\b\b\b\b\b\b\b\b\b\b\b\b\b\b\b\b\b\b\b\b\b\b\b\b\b\b\b\b\b\b\b\b\b\b\b\b\b\b\b\b\b\b\b\b\b\b\b\b\b\b\b\b\b\b\b\b\b\b\b\b\b\b\b\b\b\b\b\b\b\b\b\b\b\b\r804/804 [==============================] - 2s 3ms/step - loss: 0.5429 - accuracy: 0.7355\n",
            "Epoch 16/100\n",
            "804/804 [==============================] - 2s 2ms/step - loss: 0.5420 - accuracy: 0.7367\n",
            "Epoch 17/100\n",
            "804/804 [==============================] - 3s 4ms/step - loss: 0.5425 - accuracy: 0.7341\n",
            "Epoch 18/100\n",
            "804/804 [==============================] - 2s 2ms/step - loss: 0.5415 - accuracy: 0.7355\n",
            "Epoch 19/100\n",
            "804/804 [==============================] - 2s 2ms/step - loss: 0.5418 - accuracy: 0.7357\n",
            "Epoch 20/100\n",
            "782/804 [============================>.] - ETA: 0s - loss: 0.5405 - accuracy: 0.7369"
          ]
        },
        {
          "output_type": "stream",
          "name": "stderr",
          "text": [
            "WARNING:tensorflow:Can save best model only with val_loss available, skipping.\n"
          ]
        },
        {
          "output_type": "stream",
          "name": "stdout",
          "text": [
            "\b\b\b\b\b\b\b\b\b\b\b\b\b\b\b\b\b\b\b\b\b\b\b\b\b\b\b\b\b\b\b\b\b\b\b\b\b\b\b\b\b\b\b\b\b\b\b\b\b\b\b\b\b\b\b\b\b\b\b\b\b\b\b\b\b\b\b\b\b\b\b\b\b\b\b\b\b\b\b\b\b\b\b\b\r804/804 [==============================] - 2s 2ms/step - loss: 0.5409 - accuracy: 0.7364\n",
            "Epoch 21/100\n",
            "804/804 [==============================] - 2s 2ms/step - loss: 0.5409 - accuracy: 0.7359\n",
            "Epoch 22/100\n",
            "804/804 [==============================] - 2s 2ms/step - loss: 0.5406 - accuracy: 0.7372\n",
            "Epoch 23/100\n",
            "804/804 [==============================] - 3s 3ms/step - loss: 0.5405 - accuracy: 0.7371\n",
            "Epoch 24/100\n",
            "804/804 [==============================] - 2s 3ms/step - loss: 0.5405 - accuracy: 0.7369\n",
            "Epoch 25/100\n",
            "792/804 [============================>.] - ETA: 0s - loss: 0.5399 - accuracy: 0.7373"
          ]
        },
        {
          "output_type": "stream",
          "name": "stderr",
          "text": [
            "WARNING:tensorflow:Can save best model only with val_loss available, skipping.\n"
          ]
        },
        {
          "output_type": "stream",
          "name": "stdout",
          "text": [
            "\b\b\b\b\b\b\b\b\b\b\b\b\b\b\b\b\b\b\b\b\b\b\b\b\b\b\b\b\b\b\b\b\b\b\b\b\b\b\b\b\b\b\b\b\b\b\b\b\b\b\b\b\b\b\b\b\b\b\b\b\b\b\b\b\b\b\b\b\b\b\b\b\b\b\b\b\b\b\b\b\b\b\b\b\r804/804 [==============================] - 2s 2ms/step - loss: 0.5400 - accuracy: 0.7374\n",
            "Epoch 26/100\n",
            "804/804 [==============================] - 2s 2ms/step - loss: 0.5397 - accuracy: 0.7378\n",
            "Epoch 27/100\n",
            "804/804 [==============================] - 2s 2ms/step - loss: 0.5388 - accuracy: 0.7354\n",
            "Epoch 28/100\n",
            "804/804 [==============================] - 2s 2ms/step - loss: 0.5393 - accuracy: 0.7373\n",
            "Epoch 29/100\n",
            "804/804 [==============================] - 2s 2ms/step - loss: 0.5391 - accuracy: 0.7378\n",
            "Epoch 30/100\n",
            "799/804 [============================>.] - ETA: 0s - loss: 0.5392 - accuracy: 0.7379"
          ]
        },
        {
          "output_type": "stream",
          "name": "stderr",
          "text": [
            "WARNING:tensorflow:Can save best model only with val_loss available, skipping.\n"
          ]
        },
        {
          "output_type": "stream",
          "name": "stdout",
          "text": [
            "\b\b\b\b\b\b\b\b\b\b\b\b\b\b\b\b\b\b\b\b\b\b\b\b\b\b\b\b\b\b\b\b\b\b\b\b\b\b\b\b\b\b\b\b\b\b\b\b\b\b\b\b\b\b\b\b\b\b\b\b\b\b\b\b\b\b\b\b\b\b\b\b\b\b\b\b\b\b\b\b\b\b\b\b\r804/804 [==============================] - 3s 3ms/step - loss: 0.5391 - accuracy: 0.7380\n",
            "Epoch 31/100\n",
            "804/804 [==============================] - 3s 3ms/step - loss: 0.5387 - accuracy: 0.7378\n",
            "Epoch 32/100\n",
            "804/804 [==============================] - 2s 3ms/step - loss: 0.5384 - accuracy: 0.7376\n",
            "Epoch 33/100\n",
            "804/804 [==============================] - 2s 3ms/step - loss: 0.5388 - accuracy: 0.7373\n",
            "Epoch 34/100\n",
            "804/804 [==============================] - 2s 3ms/step - loss: 0.5381 - accuracy: 0.7374\n",
            "Epoch 35/100\n",
            "802/804 [============================>.] - ETA: 0s - loss: 0.5377 - accuracy: 0.7371"
          ]
        },
        {
          "output_type": "stream",
          "name": "stderr",
          "text": [
            "WARNING:tensorflow:Can save best model only with val_loss available, skipping.\n"
          ]
        },
        {
          "output_type": "stream",
          "name": "stdout",
          "text": [
            "\b\b\b\b\b\b\b\b\b\b\b\b\b\b\b\b\b\b\b\b\b\b\b\b\b\b\b\b\b\b\b\b\b\b\b\b\b\b\b\b\b\b\b\b\b\b\b\b\b\b\b\b\b\b\b\b\b\b\b\b\b\b\b\b\b\b\b\b\b\b\b\b\b\b\b\b\b\b\b\b\b\b\b\b\r804/804 [==============================] - 3s 4ms/step - loss: 0.5378 - accuracy: 0.7371\n",
            "Epoch 36/100\n",
            "804/804 [==============================] - 3s 3ms/step - loss: 0.5376 - accuracy: 0.7377\n",
            "Epoch 37/100\n",
            "804/804 [==============================] - 3s 3ms/step - loss: 0.5378 - accuracy: 0.7369\n",
            "Epoch 38/100\n",
            "804/804 [==============================] - 3s 3ms/step - loss: 0.5376 - accuracy: 0.7382\n",
            "Epoch 39/100\n",
            "804/804 [==============================] - 3s 3ms/step - loss: 0.5376 - accuracy: 0.7377\n",
            "Epoch 40/100\n",
            "786/804 [============================>.] - ETA: 0s - loss: 0.5372 - accuracy: 0.7376"
          ]
        },
        {
          "output_type": "stream",
          "name": "stderr",
          "text": [
            "WARNING:tensorflow:Can save best model only with val_loss available, skipping.\n"
          ]
        },
        {
          "output_type": "stream",
          "name": "stdout",
          "text": [
            "\b\b\b\b\b\b\b\b\b\b\b\b\b\b\b\b\b\b\b\b\b\b\b\b\b\b\b\b\b\b\b\b\b\b\b\b\b\b\b\b\b\b\b\b\b\b\b\b\b\b\b\b\b\b\b\b\b\b\b\b\b\b\b\b\b\b\b\b\b\b\b\b\b\b\b\b\b\b\b\b\b\b\b\b\r804/804 [==============================] - 4s 4ms/step - loss: 0.5370 - accuracy: 0.7378\n",
            "Epoch 41/100\n",
            "804/804 [==============================] - 2s 3ms/step - loss: 0.5374 - accuracy: 0.7376\n",
            "Epoch 42/100\n",
            "804/804 [==============================] - 2s 3ms/step - loss: 0.5370 - accuracy: 0.7391\n",
            "Epoch 43/100\n",
            "804/804 [==============================] - 2s 3ms/step - loss: 0.5370 - accuracy: 0.7376\n",
            "Epoch 44/100\n",
            "804/804 [==============================] - 2s 3ms/step - loss: 0.5369 - accuracy: 0.7384\n",
            "Epoch 45/100\n",
            "785/804 [============================>.] - ETA: 0s - loss: 0.5369 - accuracy: 0.7387"
          ]
        },
        {
          "output_type": "stream",
          "name": "stderr",
          "text": [
            "WARNING:tensorflow:Can save best model only with val_loss available, skipping.\n"
          ]
        },
        {
          "output_type": "stream",
          "name": "stdout",
          "text": [
            "\b\b\b\b\b\b\b\b\b\b\b\b\b\b\b\b\b\b\b\b\b\b\b\b\b\b\b\b\b\b\b\b\b\b\b\b\b\b\b\b\b\b\b\b\b\b\b\b\b\b\b\b\b\b\b\b\b\b\b\b\b\b\b\b\b\b\b\b\b\b\b\b\b\b\b\b\b\b\b\b\b\b\b\b\r804/804 [==============================] - 4s 4ms/step - loss: 0.5366 - accuracy: 0.7386\n",
            "Epoch 46/100\n",
            "804/804 [==============================] - 2s 3ms/step - loss: 0.5361 - accuracy: 0.7392\n",
            "Epoch 47/100\n",
            "804/804 [==============================] - 3s 3ms/step - loss: 0.5370 - accuracy: 0.7388\n",
            "Epoch 48/100\n",
            "804/804 [==============================] - 2s 3ms/step - loss: 0.5362 - accuracy: 0.7393\n",
            "Epoch 49/100\n",
            "804/804 [==============================] - 2s 2ms/step - loss: 0.5366 - accuracy: 0.7379\n",
            "Epoch 50/100\n",
            "789/804 [============================>.] - ETA: 0s - loss: 0.5360 - accuracy: 0.7391"
          ]
        },
        {
          "output_type": "stream",
          "name": "stderr",
          "text": [
            "WARNING:tensorflow:Can save best model only with val_loss available, skipping.\n"
          ]
        },
        {
          "output_type": "stream",
          "name": "stdout",
          "text": [
            "\b\b\b\b\b\b\b\b\b\b\b\b\b\b\b\b\b\b\b\b\b\b\b\b\b\b\b\b\b\b\b\b\b\b\b\b\b\b\b\b\b\b\b\b\b\b\b\b\b\b\b\b\b\b\b\b\b\b\b\b\b\b\b\b\b\b\b\b\b\b\b\b\b\b\b\b\b\b\b\b\b\b\b\b\r804/804 [==============================] - 4s 5ms/step - loss: 0.5359 - accuracy: 0.7391\n",
            "Epoch 51/100\n",
            "804/804 [==============================] - 3s 3ms/step - loss: 0.5360 - accuracy: 0.7394\n",
            "Epoch 52/100\n",
            "804/804 [==============================] - 3s 3ms/step - loss: 0.5356 - accuracy: 0.7396\n",
            "Epoch 53/100\n",
            "804/804 [==============================] - 2s 3ms/step - loss: 0.5360 - accuracy: 0.7380\n",
            "Epoch 54/100\n",
            "804/804 [==============================] - 2s 3ms/step - loss: 0.5357 - accuracy: 0.7394\n",
            "Epoch 55/100\n",
            "802/804 [============================>.] - ETA: 0s - loss: 0.5359 - accuracy: 0.7382"
          ]
        },
        {
          "output_type": "stream",
          "name": "stderr",
          "text": [
            "WARNING:tensorflow:Can save best model only with val_loss available, skipping.\n"
          ]
        },
        {
          "output_type": "stream",
          "name": "stdout",
          "text": [
            "\b\b\b\b\b\b\b\b\b\b\b\b\b\b\b\b\b\b\b\b\b\b\b\b\b\b\b\b\b\b\b\b\b\b\b\b\b\b\b\b\b\b\b\b\b\b\b\b\b\b\b\b\b\b\b\b\b\b\b\b\b\b\b\b\b\b\b\b\b\b\b\b\b\b\b\b\b\b\b\b\b\b\b\b\r804/804 [==============================] - 4s 4ms/step - loss: 0.5358 - accuracy: 0.7383\n",
            "Epoch 56/100\n",
            "804/804 [==============================] - 3s 3ms/step - loss: 0.5352 - accuracy: 0.7390\n",
            "Epoch 57/100\n",
            "804/804 [==============================] - 3s 3ms/step - loss: 0.5355 - accuracy: 0.7387\n",
            "Epoch 58/100\n",
            "804/804 [==============================] - 3s 3ms/step - loss: 0.5352 - accuracy: 0.7385\n",
            "Epoch 59/100\n",
            "804/804 [==============================] - 3s 4ms/step - loss: 0.5355 - accuracy: 0.7386\n",
            "Epoch 60/100\n",
            "794/804 [============================>.] - ETA: 0s - loss: 0.5357 - accuracy: 0.7377"
          ]
        },
        {
          "output_type": "stream",
          "name": "stderr",
          "text": [
            "WARNING:tensorflow:Can save best model only with val_loss available, skipping.\n"
          ]
        },
        {
          "output_type": "stream",
          "name": "stdout",
          "text": [
            "\b\b\b\b\b\b\b\b\b\b\b\b\b\b\b\b\b\b\b\b\b\b\b\b\b\b\b\b\b\b\b\b\b\b\b\b\b\b\b\b\b\b\b\b\b\b\b\b\b\b\b\b\b\b\b\b\b\b\b\b\b\b\b\b\b\b\b\b\b\b\b\b\b\b\b\b\b\b\b\b\b\b\b\b\r804/804 [==============================] - 3s 4ms/step - loss: 0.5351 - accuracy: 0.7383\n",
            "Epoch 61/100\n",
            "804/804 [==============================] - 2s 2ms/step - loss: 0.5354 - accuracy: 0.7383\n",
            "Epoch 62/100\n",
            "804/804 [==============================] - 2s 3ms/step - loss: 0.5348 - accuracy: 0.7379\n",
            "Epoch 63/100\n",
            "804/804 [==============================] - 2s 3ms/step - loss: 0.5355 - accuracy: 0.7395\n",
            "Epoch 64/100\n",
            "804/804 [==============================] - 3s 3ms/step - loss: 0.5347 - accuracy: 0.7390\n",
            "Epoch 65/100\n",
            "800/804 [============================>.] - ETA: 0s - loss: 0.5353 - accuracy: 0.7395"
          ]
        },
        {
          "output_type": "stream",
          "name": "stderr",
          "text": [
            "WARNING:tensorflow:Can save best model only with val_loss available, skipping.\n"
          ]
        },
        {
          "output_type": "stream",
          "name": "stdout",
          "text": [
            "\b\b\b\b\b\b\b\b\b\b\b\b\b\b\b\b\b\b\b\b\b\b\b\b\b\b\b\b\b\b\b\b\b\b\b\b\b\b\b\b\b\b\b\b\b\b\b\b\b\b\b\b\b\b\b\b\b\b\b\b\b\b\b\b\b\b\b\b\b\b\b\b\b\b\b\b\b\b\b\b\b\b\b\b\r804/804 [==============================] - 3s 4ms/step - loss: 0.5350 - accuracy: 0.7398\n",
            "Epoch 66/100\n",
            "804/804 [==============================] - 2s 3ms/step - loss: 0.5347 - accuracy: 0.7399\n",
            "Epoch 67/100\n",
            "804/804 [==============================] - 2s 2ms/step - loss: 0.5350 - accuracy: 0.7388\n",
            "Epoch 68/100\n",
            "804/804 [==============================] - 2s 2ms/step - loss: 0.5345 - accuracy: 0.7386\n",
            "Epoch 69/100\n",
            "804/804 [==============================] - 2s 3ms/step - loss: 0.5343 - accuracy: 0.7402\n",
            "Epoch 70/100\n",
            "793/804 [============================>.] - ETA: 0s - loss: 0.5345 - accuracy: 0.7395"
          ]
        },
        {
          "output_type": "stream",
          "name": "stderr",
          "text": [
            "WARNING:tensorflow:Can save best model only with val_loss available, skipping.\n"
          ]
        },
        {
          "output_type": "stream",
          "name": "stdout",
          "text": [
            "\b\b\b\b\b\b\b\b\b\b\b\b\b\b\b\b\b\b\b\b\b\b\b\b\b\b\b\b\b\b\b\b\b\b\b\b\b\b\b\b\b\b\b\b\b\b\b\b\b\b\b\b\b\b\b\b\b\b\b\b\b\b\b\b\b\b\b\b\b\b\b\b\b\b\b\b\b\b\b\b\b\b\b\b\r804/804 [==============================] - 2s 2ms/step - loss: 0.5346 - accuracy: 0.7395\n",
            "Epoch 71/100\n",
            "804/804 [==============================] - 3s 4ms/step - loss: 0.5344 - accuracy: 0.7406\n",
            "Epoch 72/100\n",
            "804/804 [==============================] - 2s 2ms/step - loss: 0.5341 - accuracy: 0.7405\n",
            "Epoch 73/100\n",
            "804/804 [==============================] - 2s 2ms/step - loss: 0.5344 - accuracy: 0.7390\n",
            "Epoch 74/100\n",
            "804/804 [==============================] - 2s 2ms/step - loss: 0.5343 - accuracy: 0.7388\n",
            "Epoch 75/100\n",
            "804/804 [==============================] - ETA: 0s - loss: 0.5337 - accuracy: 0.7397"
          ]
        },
        {
          "output_type": "stream",
          "name": "stderr",
          "text": [
            "WARNING:tensorflow:Can save best model only with val_loss available, skipping.\n"
          ]
        },
        {
          "output_type": "stream",
          "name": "stdout",
          "text": [
            "\b\b\b\b\b\b\b\b\b\b\b\b\b\b\b\b\b\b\b\b\b\b\b\b\b\b\b\b\b\b\b\b\b\b\b\b\b\b\b\b\b\b\b\b\b\b\b\b\b\b\b\b\b\b\b\b\b\b\b\b\b\b\b\b\b\b\b\b\b\b\b\b\b\b\b\b\b\b\b\b\b\b\b\b\r804/804 [==============================] - 3s 3ms/step - loss: 0.5337 - accuracy: 0.7397\n",
            "Epoch 76/100\n",
            "804/804 [==============================] - 3s 4ms/step - loss: 0.5339 - accuracy: 0.7402\n",
            "Epoch 77/100\n",
            "804/804 [==============================] - 3s 4ms/step - loss: 0.5341 - accuracy: 0.7397\n",
            "Epoch 78/100\n",
            "804/804 [==============================] - 2s 3ms/step - loss: 0.5343 - accuracy: 0.7388\n",
            "Epoch 79/100\n",
            "804/804 [==============================] - 2s 3ms/step - loss: 0.5339 - accuracy: 0.7406\n",
            "Epoch 80/100\n",
            "802/804 [============================>.] - ETA: 0s - loss: 0.5340 - accuracy: 0.7400"
          ]
        },
        {
          "output_type": "stream",
          "name": "stderr",
          "text": [
            "WARNING:tensorflow:Can save best model only with val_loss available, skipping.\n"
          ]
        },
        {
          "output_type": "stream",
          "name": "stdout",
          "text": [
            "\b\b\b\b\b\b\b\b\b\b\b\b\b\b\b\b\b\b\b\b\b\b\b\b\b\b\b\b\b\b\b\b\b\b\b\b\b\b\b\b\b\b\b\b\b\b\b\b\b\b\b\b\b\b\b\b\b\b\b\b\b\b\b\b\b\b\b\b\b\b\b\b\b\b\b\b\b\b\b\b\b\b\b\b\r804/804 [==============================] - 2s 3ms/step - loss: 0.5338 - accuracy: 0.7402\n",
            "Epoch 81/100\n",
            "804/804 [==============================] - 3s 4ms/step - loss: 0.5336 - accuracy: 0.7388\n",
            "Epoch 82/100\n",
            "804/804 [==============================] - 3s 4ms/step - loss: 0.5337 - accuracy: 0.7393\n",
            "Epoch 83/100\n",
            "804/804 [==============================] - 3s 3ms/step - loss: 0.5338 - accuracy: 0.7403\n",
            "Epoch 84/100\n",
            "804/804 [==============================] - 3s 3ms/step - loss: 0.5335 - accuracy: 0.7405\n",
            "Epoch 85/100\n",
            "792/804 [============================>.] - ETA: 0s - loss: 0.5343 - accuracy: 0.7392"
          ]
        },
        {
          "output_type": "stream",
          "name": "stderr",
          "text": [
            "WARNING:tensorflow:Can save best model only with val_loss available, skipping.\n"
          ]
        },
        {
          "output_type": "stream",
          "name": "stdout",
          "text": [
            "\b\b\b\b\b\b\b\b\b\b\b\b\b\b\b\b\b\b\b\b\b\b\b\b\b\b\b\b\b\b\b\b\b\b\b\b\b\b\b\b\b\b\b\b\b\b\b\b\b\b\b\b\b\b\b\b\b\b\b\b\b\b\b\b\b\b\b\b\b\b\b\b\b\b\b\b\b\b\b\b\b\b\b\b\r804/804 [==============================] - 3s 3ms/step - loss: 0.5336 - accuracy: 0.7397\n",
            "Epoch 86/100\n",
            "804/804 [==============================] - 3s 4ms/step - loss: 0.5337 - accuracy: 0.7404\n",
            "Epoch 87/100\n",
            "804/804 [==============================] - 3s 3ms/step - loss: 0.5333 - accuracy: 0.7398\n",
            "Epoch 88/100\n",
            "804/804 [==============================] - 2s 3ms/step - loss: 0.5332 - accuracy: 0.7395\n",
            "Epoch 89/100\n",
            "804/804 [==============================] - 3s 3ms/step - loss: 0.5334 - accuracy: 0.7406\n",
            "Epoch 90/100\n",
            "789/804 [============================>.] - ETA: 0s - loss: 0.5339 - accuracy: 0.7397"
          ]
        },
        {
          "output_type": "stream",
          "name": "stderr",
          "text": [
            "WARNING:tensorflow:Can save best model only with val_loss available, skipping.\n"
          ]
        },
        {
          "output_type": "stream",
          "name": "stdout",
          "text": [
            "\b\b\b\b\b\b\b\b\b\b\b\b\b\b\b\b\b\b\b\b\b\b\b\b\b\b\b\b\b\b\b\b\b\b\b\b\b\b\b\b\b\b\b\b\b\b\b\b\b\b\b\b\b\b\b\b\b\b\b\b\b\b\b\b\b\b\b\b\b\b\b\b\b\b\b\b\b\b\b\b\b\b\b\b\r804/804 [==============================] - 3s 3ms/step - loss: 0.5331 - accuracy: 0.7402\n",
            "Epoch 91/100\n",
            "804/804 [==============================] - 3s 4ms/step - loss: 0.5333 - accuracy: 0.7399\n",
            "Epoch 92/100\n",
            "804/804 [==============================] - 3s 4ms/step - loss: 0.5332 - accuracy: 0.7398\n",
            "Epoch 93/100\n",
            "804/804 [==============================] - 2s 3ms/step - loss: 0.5334 - accuracy: 0.7400\n",
            "Epoch 94/100\n",
            "804/804 [==============================] - 3s 3ms/step - loss: 0.5329 - accuracy: 0.7392\n",
            "Epoch 95/100\n",
            "790/804 [============================>.] - ETA: 0s - loss: 0.5327 - accuracy: 0.7408"
          ]
        },
        {
          "output_type": "stream",
          "name": "stderr",
          "text": [
            "WARNING:tensorflow:Can save best model only with val_loss available, skipping.\n"
          ]
        },
        {
          "output_type": "stream",
          "name": "stdout",
          "text": [
            "\b\b\b\b\b\b\b\b\b\b\b\b\b\b\b\b\b\b\b\b\b\b\b\b\b\b\b\b\b\b\b\b\b\b\b\b\b\b\b\b\b\b\b\b\b\b\b\b\b\b\b\b\b\b\b\b\b\b\b\b\b\b\b\b\b\b\b\b\b\b\b\b\b\b\b\b\b\b\b\b\b\b\b\b\r804/804 [==============================] - 2s 3ms/step - loss: 0.5333 - accuracy: 0.7405\n",
            "Epoch 96/100\n",
            "804/804 [==============================] - 4s 5ms/step - loss: 0.5331 - accuracy: 0.7395\n",
            "Epoch 97/100\n",
            "804/804 [==============================] - 2s 3ms/step - loss: 0.5330 - accuracy: 0.7396\n",
            "Epoch 98/100\n",
            "804/804 [==============================] - 2s 3ms/step - loss: 0.5328 - accuracy: 0.7410\n",
            "Epoch 99/100\n",
            "804/804 [==============================] - 3s 3ms/step - loss: 0.5330 - accuracy: 0.7406\n",
            "Epoch 100/100\n",
            "803/804 [============================>.] - ETA: 0s - loss: 0.5328 - accuracy: 0.7404"
          ]
        },
        {
          "output_type": "stream",
          "name": "stderr",
          "text": [
            "WARNING:tensorflow:Can save best model only with val_loss available, skipping.\n"
          ]
        },
        {
          "output_type": "stream",
          "name": "stdout",
          "text": [
            "\b\b\b\b\b\b\b\b\b\b\b\b\b\b\b\b\b\b\b\b\b\b\b\b\b\b\b\b\b\b\b\b\b\b\b\b\b\b\b\b\b\b\b\b\b\b\b\b\b\b\b\b\b\b\b\b\b\b\b\b\b\b\b\b\b\b\b\b\b\b\b\b\b\b\b\b\b\b\b\b\b\b\b\b\r804/804 [==============================] - 2s 3ms/step - loss: 0.5328 - accuracy: 0.7403\n"
          ]
        },
        {
          "output_type": "execute_result",
          "data": {
            "text/plain": [
              "<keras.src.callbacks.History at 0x7930beabbf70>"
            ]
          },
          "metadata": {},
          "execution_count": 20
        }
      ]
    },
    {
      "cell_type": "code",
      "source": [
        "# Evaluate the model using the test data\n",
        "model_loss, model_accuracy = nn.evaluate(X_test_scaled,y_test,verbose=2)\n",
        "print(f\"Loss: {model_loss}, Accuracy: {model_accuracy}\")"
      ],
      "metadata": {
        "colab": {
          "base_uri": "https://localhost:8080/"
        },
        "id": "o-CDFmRk5E8E",
        "outputId": "8d244bb8-b2ca-4fd2-e2a0-1b24a2f6118b"
      },
      "execution_count": null,
      "outputs": [
        {
          "output_type": "stream",
          "name": "stdout",
          "text": [
            "268/268 - 1s - loss: 0.5625 - accuracy: 0.7278 - 509ms/epoch - 2ms/step\n",
            "Loss: 0.5624700784683228, Accuracy: 0.7278134226799011\n"
          ]
        }
      ]
    },
    {
      "cell_type": "code",
      "source": [
        "# Export our model to HDF5 file\n",
        "nn.save(\"AlphabetSoupCharity.h5\")"
      ],
      "metadata": {
        "colab": {
          "base_uri": "https://localhost:8080/"
        },
        "id": "JDxqzg6Y5Hfh",
        "outputId": "57b85a88-163e-4972-cb86-e4bfde9d18a9"
      },
      "execution_count": null,
      "outputs": [
        {
          "output_type": "stream",
          "name": "stderr",
          "text": [
            "/usr/local/lib/python3.10/dist-packages/keras/src/engine/training.py:3079: UserWarning: You are saving your model as an HDF5 file via `model.save()`. This file format is considered legacy. We recommend using instead the native Keras format, e.g. `model.save('my_model.keras')`.\n",
            "  saving_api.save_model(\n"
          ]
        }
      ]
    },
    {
      "cell_type": "markdown",
      "source": [
        "##Model Optimization"
      ],
      "metadata": {
        "id": "7Pnn_ubz5WUp"
      }
    },
    {
      "cell_type": "markdown",
      "source": [
        "### Attempt 1: Steps to Optimize Model\n",
        "\n",
        "1. Remove Outliers, by removing any rows where scaled any value of |X_train_scaled| > 3\n",
        "2. Adding a hidden layer\n",
        "3. Increasing no. of neurons to 100, 60, and 30 respectively\n",
        "4. Increasing no. of epochs to 150"
      ],
      "metadata": {
        "id": "zgP5sBJB5c27"
      }
    },
    {
      "cell_type": "code",
      "source": [
        "# Removing outliers\n",
        "\n",
        "# Calculate Z-scores for each feature in 'X_train'\n",
        "z_scores = np.abs(stats.zscore(X_train_scaled))\n",
        "\n",
        "# Set a Z-score threshold to identify outliers (e.g., |Z-score| > 3)\n",
        "threshold = 3\n",
        "\n",
        "# Create a mask to identify rows with outliers\n",
        "outlier_mask = (z_scores > threshold).any(axis=1)\n",
        "\n",
        "# Remove rows with outliers from 'X_train' and corresponding labels\n",
        "X_train_no_outliers = X_train_scaled[~outlier_mask]\n",
        "y_train_no_outliers = y_train[~outlier_mask]\n",
        "\n",
        "# Checking no. of rows left in training data\n",
        "print(len(X_train_no_outliers))"
      ],
      "metadata": {
        "colab": {
          "base_uri": "https://localhost:8080/"
        },
        "id": "vM8FS1L45awd",
        "outputId": "05c00f7f-4931-47e0-d3da-fd9cc4a29ab2"
      },
      "execution_count": null,
      "outputs": [
        {
          "output_type": "stream",
          "name": "stdout",
          "text": [
            "13374\n"
          ]
        }
      ]
    },
    {
      "cell_type": "code",
      "source": [
        "# Define the model - deep neural net, i.e., the number of input features and hidden nodes for each layer.\n",
        "number_input_features = len(X_train_no_outliers[0])\n",
        "hidden_nodes_layer1 =  100\n",
        "hidden_nodes_layer2 = 60\n",
        "hidden_nodes_layer3 = 30\n",
        "\n",
        "nn = tf.keras.models.Sequential()\n",
        "\n",
        "# First hidden layer\n",
        "nn.add(\n",
        "    tf.keras.layers.Dense(units=hidden_nodes_layer1, input_dim=number_input_features, activation=\"relu\")\n",
        ")\n",
        "# Second hidden layer\n",
        "nn.add(tf.keras.layers.Dense(units=hidden_nodes_layer2, activation=\"relu\"))\n",
        "\n",
        "# Third hidden layer\n",
        "nn.add(tf.keras.layers.Dense(units=hidden_nodes_layer3, activation=\"relu\"))\n",
        "\n",
        "# Output layer\n",
        "nn.add(tf.keras.layers.Dense(units=1, activation=\"sigmoid\"))\n",
        "\n",
        "# Check the structure of the model\n",
        "nn.summary()"
      ],
      "metadata": {
        "colab": {
          "base_uri": "https://localhost:8080/"
        },
        "id": "GiJegR0P5lud",
        "outputId": "9aa3e7cf-d2a8-444d-f7f6-c06663ba5b11"
      },
      "execution_count": null,
      "outputs": [
        {
          "output_type": "stream",
          "name": "stdout",
          "text": [
            "Model: \"sequential_2\"\n",
            "_________________________________________________________________\n",
            " Layer (type)                Output Shape              Param #   \n",
            "=================================================================\n",
            " dense_6 (Dense)             (None, 100)               4400      \n",
            "                                                                 \n",
            " dense_7 (Dense)             (None, 60)                6060      \n",
            "                                                                 \n",
            " dense_8 (Dense)             (None, 30)                1830      \n",
            "                                                                 \n",
            " dense_9 (Dense)             (None, 1)                 31        \n",
            "                                                                 \n",
            "=================================================================\n",
            "Total params: 12321 (48.13 KB)\n",
            "Trainable params: 12321 (48.13 KB)\n",
            "Non-trainable params: 0 (0.00 Byte)\n",
            "_________________________________________________________________\n"
          ]
        }
      ]
    },
    {
      "cell_type": "code",
      "source": [
        "# Compile the model\n",
        "nn.compile(loss=\"binary_crossentropy\", optimizer=\"adam\", metrics=[\"accuracy\"])"
      ],
      "metadata": {
        "id": "IXyd2Cy359vd"
      },
      "execution_count": null,
      "outputs": []
    },
    {
      "cell_type": "code",
      "source": [
        "# Define a callback to save model weights every five epochs\n",
        "checkpoint_callback = tf.keras.callbacks.ModelCheckpoint(\n",
        "    filepath=\"model_weights_1.h5\",  # Filepath to save the model weights\n",
        "    save_best_only=True,          # Save only the best model\n",
        "    save_weights_only=True,       # Save only the model weights\n",
        "    monitor=\"val_loss\",           # Metric to monitor (e.g., validation loss)\n",
        "    mode=\"min\",                   # \"min\" for loss, \"max\" for accuracy, \"auto\" for automatic\n",
        "    verbose=1,                    # Verbosity\n",
        "    period=5                      # Save every 5 epochs\n",
        ")\n",
        "\n",
        "# Example model fitting with the callback\n",
        "nn.fit(\n",
        "    X_train_no_outliers, y_train_no_outliers,\n",
        "    epochs=150,\n",
        "    callbacks=[checkpoint_callback]  # Include the callback during training\n",
        ")"
      ],
      "metadata": {
        "colab": {
          "base_uri": "https://localhost:8080/"
        },
        "id": "SseEuA8A6ALd",
        "outputId": "5e4514cc-0eff-45a4-824e-0071a23f3bb4"
      },
      "execution_count": null,
      "outputs": [
        {
          "output_type": "stream",
          "name": "stderr",
          "text": [
            "WARNING:tensorflow:`period` argument is deprecated. Please use `save_freq` to specify the frequency in number of batches seen.\n"
          ]
        },
        {
          "output_type": "stream",
          "name": "stdout",
          "text": [
            "Epoch 1/150\n",
            "418/418 [==============================] - 2s 3ms/step - loss: 0.5948 - accuracy: 0.7048\n",
            "Epoch 2/150\n",
            "418/418 [==============================] - 1s 3ms/step - loss: 0.5898 - accuracy: 0.7076\n",
            "Epoch 3/150\n",
            "418/418 [==============================] - 1s 3ms/step - loss: 0.5884 - accuracy: 0.7076\n",
            "Epoch 4/150\n",
            "418/418 [==============================] - 2s 4ms/step - loss: 0.5892 - accuracy: 0.7077\n",
            "Epoch 5/150\n",
            "406/418 [============================>.] - ETA: 0s - loss: 0.5890 - accuracy: 0.7071"
          ]
        },
        {
          "output_type": "stream",
          "name": "stderr",
          "text": [
            "WARNING:tensorflow:Can save best model only with val_loss available, skipping.\n"
          ]
        },
        {
          "output_type": "stream",
          "name": "stdout",
          "text": [
            "\b\b\b\b\b\b\b\b\b\b\b\b\b\b\b\b\b\b\b\b\b\b\b\b\b\b\b\b\b\b\b\b\b\b\b\b\b\b\b\b\b\b\b\b\b\b\b\b\b\b\b\b\b\b\b\b\b\b\b\b\b\b\b\b\b\b\b\b\b\b\b\b\b\b\b\b\b\b\b\b\b\b\b\b\r418/418 [==============================] - 2s 5ms/step - loss: 0.5890 - accuracy: 0.7078\n",
            "Epoch 6/150\n",
            "418/418 [==============================] - 2s 4ms/step - loss: 0.5881 - accuracy: 0.7082\n",
            "Epoch 7/150\n",
            "418/418 [==============================] - 2s 4ms/step - loss: 0.5883 - accuracy: 0.7085\n",
            "Epoch 8/150\n",
            "418/418 [==============================] - 2s 4ms/step - loss: 0.5878 - accuracy: 0.7097\n",
            "Epoch 9/150\n",
            "418/418 [==============================] - 2s 4ms/step - loss: 0.5887 - accuracy: 0.7094\n",
            "Epoch 10/150\n",
            "405/418 [============================>.] - ETA: 0s - loss: 0.5886 - accuracy: 0.7083"
          ]
        },
        {
          "output_type": "stream",
          "name": "stderr",
          "text": [
            "WARNING:tensorflow:Can save best model only with val_loss available, skipping.\n"
          ]
        },
        {
          "output_type": "stream",
          "name": "stdout",
          "text": [
            "\b\b\b\b\b\b\b\b\b\b\b\b\b\b\b\b\b\b\b\b\b\b\b\b\b\b\b\b\b\b\b\b\b\b\b\b\b\b\b\b\b\b\b\b\b\b\b\b\b\b\b\b\b\b\b\b\b\b\b\b\b\b\b\b\b\b\b\b\b\b\b\b\b\b\b\b\b\b\b\b\b\b\b\b\r418/418 [==============================] - 2s 4ms/step - loss: 0.5879 - accuracy: 0.7091\n",
            "Epoch 11/150\n",
            "418/418 [==============================] - 2s 4ms/step - loss: 0.5885 - accuracy: 0.7096\n",
            "Epoch 12/150\n",
            "418/418 [==============================] - 2s 6ms/step - loss: 0.5878 - accuracy: 0.7088\n",
            "Epoch 13/150\n",
            "418/418 [==============================] - 2s 4ms/step - loss: 0.5869 - accuracy: 0.7084\n",
            "Epoch 14/150\n",
            "418/418 [==============================] - 1s 3ms/step - loss: 0.5875 - accuracy: 0.7096\n",
            "Epoch 15/150\n",
            "405/418 [============================>.] - ETA: 0s - loss: 0.5871 - accuracy: 0.7097"
          ]
        },
        {
          "output_type": "stream",
          "name": "stderr",
          "text": [
            "WARNING:tensorflow:Can save best model only with val_loss available, skipping.\n"
          ]
        },
        {
          "output_type": "stream",
          "name": "stdout",
          "text": [
            "\b\b\b\b\b\b\b\b\b\b\b\b\b\b\b\b\b\b\b\b\b\b\b\b\b\b\b\b\b\b\b\b\b\b\b\b\b\b\b\b\b\b\b\b\b\b\b\b\b\b\b\b\b\b\b\b\b\b\b\b\b\b\b\b\b\b\b\b\b\b\b\b\b\b\b\b\b\b\b\b\b\b\b\b\r418/418 [==============================] - 2s 4ms/step - loss: 0.5873 - accuracy: 0.7093\n",
            "Epoch 16/150\n",
            "418/418 [==============================] - 1s 3ms/step - loss: 0.5871 - accuracy: 0.7090\n",
            "Epoch 17/150\n",
            "418/418 [==============================] - 1s 3ms/step - loss: 0.5871 - accuracy: 0.7088\n",
            "Epoch 18/150\n",
            "418/418 [==============================] - 1s 3ms/step - loss: 0.5870 - accuracy: 0.7092\n",
            "Epoch 19/150\n",
            "418/418 [==============================] - 1s 3ms/step - loss: 0.5871 - accuracy: 0.7095\n",
            "Epoch 20/150\n",
            "418/418 [==============================] - ETA: 0s - loss: 0.5869 - accuracy: 0.7097"
          ]
        },
        {
          "output_type": "stream",
          "name": "stderr",
          "text": [
            "WARNING:tensorflow:Can save best model only with val_loss available, skipping.\n"
          ]
        },
        {
          "output_type": "stream",
          "name": "stdout",
          "text": [
            "\b\b\b\b\b\b\b\b\b\b\b\b\b\b\b\b\b\b\b\b\b\b\b\b\b\b\b\b\b\b\b\b\b\b\b\b\b\b\b\b\b\b\b\b\b\b\b\b\b\b\b\b\b\b\b\b\b\b\b\b\b\b\b\b\b\b\b\b\b\b\b\b\b\b\b\b\b\b\b\b\b\b\b\b\r418/418 [==============================] - 2s 4ms/step - loss: 0.5869 - accuracy: 0.7097\n",
            "Epoch 21/150\n",
            "418/418 [==============================] - 2s 6ms/step - loss: 0.5868 - accuracy: 0.7088\n",
            "Epoch 22/150\n",
            "418/418 [==============================] - 1s 3ms/step - loss: 0.5867 - accuracy: 0.7092\n",
            "Epoch 23/150\n",
            "418/418 [==============================] - 1s 3ms/step - loss: 0.5867 - accuracy: 0.7095\n",
            "Epoch 24/150\n",
            "418/418 [==============================] - 2s 4ms/step - loss: 0.5871 - accuracy: 0.7086\n",
            "Epoch 25/150\n",
            "413/418 [============================>.] - ETA: 0s - loss: 0.5872 - accuracy: 0.7090"
          ]
        },
        {
          "output_type": "stream",
          "name": "stderr",
          "text": [
            "WARNING:tensorflow:Can save best model only with val_loss available, skipping.\n"
          ]
        },
        {
          "output_type": "stream",
          "name": "stdout",
          "text": [
            "\b\b\b\b\b\b\b\b\b\b\b\b\b\b\b\b\b\b\b\b\b\b\b\b\b\b\b\b\b\b\b\b\b\b\b\b\b\b\b\b\b\b\b\b\b\b\b\b\b\b\b\b\b\b\b\b\b\b\b\b\b\b\b\b\b\b\b\b\b\b\b\b\b\b\b\b\b\b\b\b\b\b\b\b\r418/418 [==============================] - 2s 4ms/step - loss: 0.5868 - accuracy: 0.7091\n",
            "Epoch 26/150\n",
            "418/418 [==============================] - 1s 4ms/step - loss: 0.5869 - accuracy: 0.7095\n",
            "Epoch 27/150\n",
            "418/418 [==============================] - 1s 3ms/step - loss: 0.5868 - accuracy: 0.7092\n",
            "Epoch 28/150\n",
            "418/418 [==============================] - 1s 3ms/step - loss: 0.5866 - accuracy: 0.7089\n",
            "Epoch 29/150\n",
            "418/418 [==============================] - 2s 5ms/step - loss: 0.5868 - accuracy: 0.7088\n",
            "Epoch 30/150\n",
            "418/418 [==============================] - ETA: 0s - loss: 0.5866 - accuracy: 0.7097"
          ]
        },
        {
          "output_type": "stream",
          "name": "stderr",
          "text": [
            "WARNING:tensorflow:Can save best model only with val_loss available, skipping.\n"
          ]
        },
        {
          "output_type": "stream",
          "name": "stdout",
          "text": [
            "\b\b\b\b\b\b\b\b\b\b\b\b\b\b\b\b\b\b\b\b\b\b\b\b\b\b\b\b\b\b\b\b\b\b\b\b\b\b\b\b\b\b\b\b\b\b\b\b\b\b\b\b\b\b\b\b\b\b\b\b\b\b\b\b\b\b\b\b\b\b\b\b\b\b\b\b\b\b\b\b\b\b\b\b\r418/418 [==============================] - 2s 5ms/step - loss: 0.5866 - accuracy: 0.7097\n",
            "Epoch 31/150\n",
            "418/418 [==============================] - 1s 3ms/step - loss: 0.5866 - accuracy: 0.7097\n",
            "Epoch 32/150\n",
            "418/418 [==============================] - 1s 3ms/step - loss: 0.5868 - accuracy: 0.7092\n",
            "Epoch 33/150\n",
            "418/418 [==============================] - 1s 4ms/step - loss: 0.5867 - accuracy: 0.7085\n",
            "Epoch 34/150\n",
            "418/418 [==============================] - 1s 3ms/step - loss: 0.5866 - accuracy: 0.7092\n",
            "Epoch 35/150\n",
            "408/418 [============================>.] - ETA: 0s - loss: 0.5857 - accuracy: 0.7099"
          ]
        },
        {
          "output_type": "stream",
          "name": "stderr",
          "text": [
            "WARNING:tensorflow:Can save best model only with val_loss available, skipping.\n"
          ]
        },
        {
          "output_type": "stream",
          "name": "stdout",
          "text": [
            "\b\b\b\b\b\b\b\b\b\b\b\b\b\b\b\b\b\b\b\b\b\b\b\b\b\b\b\b\b\b\b\b\b\b\b\b\b\b\b\b\b\b\b\b\b\b\b\b\b\b\b\b\b\b\b\b\b\b\b\b\b\b\b\b\b\b\b\b\b\b\b\b\b\b\b\b\b\b\b\b\b\b\b\b\r418/418 [==============================] - 1s 3ms/step - loss: 0.5867 - accuracy: 0.7091\n",
            "Epoch 36/150\n",
            "418/418 [==============================] - 1s 3ms/step - loss: 0.5863 - accuracy: 0.7094\n",
            "Epoch 37/150\n",
            "418/418 [==============================] - 2s 4ms/step - loss: 0.5867 - accuracy: 0.7093\n",
            "Epoch 38/150\n",
            "418/418 [==============================] - 2s 6ms/step - loss: 0.5867 - accuracy: 0.7096\n",
            "Epoch 39/150\n",
            "418/418 [==============================] - 1s 3ms/step - loss: 0.5864 - accuracy: 0.7097\n",
            "Epoch 40/150\n",
            "407/418 [============================>.] - ETA: 0s - loss: 0.5862 - accuracy: 0.7098"
          ]
        },
        {
          "output_type": "stream",
          "name": "stderr",
          "text": [
            "WARNING:tensorflow:Can save best model only with val_loss available, skipping.\n"
          ]
        },
        {
          "output_type": "stream",
          "name": "stdout",
          "text": [
            "\b\b\b\b\b\b\b\b\b\b\b\b\b\b\b\b\b\b\b\b\b\b\b\b\b\b\b\b\b\b\b\b\b\b\b\b\b\b\b\b\b\b\b\b\b\b\b\b\b\b\b\b\b\b\b\b\b\b\b\b\b\b\b\b\b\b\b\b\b\b\b\b\b\b\b\b\b\b\b\b\b\b\b\b\r418/418 [==============================] - 1s 3ms/step - loss: 0.5864 - accuracy: 0.7096\n",
            "Epoch 41/150\n",
            "418/418 [==============================] - 1s 3ms/step - loss: 0.5861 - accuracy: 0.7096\n",
            "Epoch 42/150\n",
            "418/418 [==============================] - 1s 3ms/step - loss: 0.5864 - accuracy: 0.7099\n",
            "Epoch 43/150\n",
            "418/418 [==============================] - 1s 4ms/step - loss: 0.5867 - accuracy: 0.7096\n",
            "Epoch 44/150\n",
            "418/418 [==============================] - 2s 4ms/step - loss: 0.5862 - accuracy: 0.7094\n",
            "Epoch 45/150\n",
            "418/418 [==============================] - ETA: 0s - loss: 0.5866 - accuracy: 0.7097"
          ]
        },
        {
          "output_type": "stream",
          "name": "stderr",
          "text": [
            "WARNING:tensorflow:Can save best model only with val_loss available, skipping.\n"
          ]
        },
        {
          "output_type": "stream",
          "name": "stdout",
          "text": [
            "\b\b\b\b\b\b\b\b\b\b\b\b\b\b\b\b\b\b\b\b\b\b\b\b\b\b\b\b\b\b\b\b\b\b\b\b\b\b\b\b\b\b\b\b\b\b\b\b\b\b\b\b\b\b\b\b\b\b\b\b\b\b\b\b\b\b\b\b\b\b\b\b\b\b\b\b\b\b\b\b\b\b\b\b\r418/418 [==============================] - 1s 2ms/step - loss: 0.5866 - accuracy: 0.7097\n",
            "Epoch 46/150\n",
            "418/418 [==============================] - 2s 4ms/step - loss: 0.5867 - accuracy: 0.7091\n",
            "Epoch 47/150\n",
            "418/418 [==============================] - 2s 5ms/step - loss: 0.5865 - accuracy: 0.7094\n",
            "Epoch 48/150\n",
            "418/418 [==============================] - 1s 3ms/step - loss: 0.5864 - accuracy: 0.7091\n",
            "Epoch 49/150\n",
            "418/418 [==============================] - 1s 3ms/step - loss: 0.5861 - accuracy: 0.7094\n",
            "Epoch 50/150\n",
            "416/418 [============================>.] - ETA: 0s - loss: 0.5856 - accuracy: 0.7100"
          ]
        },
        {
          "output_type": "stream",
          "name": "stderr",
          "text": [
            "WARNING:tensorflow:Can save best model only with val_loss available, skipping.\n"
          ]
        },
        {
          "output_type": "stream",
          "name": "stdout",
          "text": [
            "\b\b\b\b\b\b\b\b\b\b\b\b\b\b\b\b\b\b\b\b\b\b\b\b\b\b\b\b\b\b\b\b\b\b\b\b\b\b\b\b\b\b\b\b\b\b\b\b\b\b\b\b\b\b\b\b\b\b\b\b\b\b\b\b\b\b\b\b\b\b\b\b\b\b\b\b\b\b\b\b\b\b\b\b\r418/418 [==============================] - 2s 4ms/step - loss: 0.5862 - accuracy: 0.7094\n",
            "Epoch 51/150\n",
            "418/418 [==============================] - 1s 3ms/step - loss: 0.5862 - accuracy: 0.7095\n",
            "Epoch 52/150\n",
            "418/418 [==============================] - 1s 3ms/step - loss: 0.5862 - accuracy: 0.7097\n",
            "Epoch 53/150\n",
            "418/418 [==============================] - 1s 2ms/step - loss: 0.5862 - accuracy: 0.7096\n",
            "Epoch 54/150\n",
            "418/418 [==============================] - 1s 2ms/step - loss: 0.5862 - accuracy: 0.7096\n",
            "Epoch 55/150\n",
            "411/418 [============================>.] - ETA: 0s - loss: 0.5858 - accuracy: 0.7098"
          ]
        },
        {
          "output_type": "stream",
          "name": "stderr",
          "text": [
            "WARNING:tensorflow:Can save best model only with val_loss available, skipping.\n"
          ]
        },
        {
          "output_type": "stream",
          "name": "stdout",
          "text": [
            "\b\b\b\b\b\b\b\b\b\b\b\b\b\b\b\b\b\b\b\b\b\b\b\b\b\b\b\b\b\b\b\b\b\b\b\b\b\b\b\b\b\b\b\b\b\b\b\b\b\b\b\b\b\b\b\b\b\b\b\b\b\b\b\b\b\b\b\b\b\b\b\b\b\b\b\b\b\b\b\b\b\b\b\b\r418/418 [==============================] - 1s 3ms/step - loss: 0.5863 - accuracy: 0.7091\n",
            "Epoch 56/150\n",
            "418/418 [==============================] - 2s 4ms/step - loss: 0.5863 - accuracy: 0.7095\n",
            "Epoch 57/150\n",
            "418/418 [==============================] - 2s 4ms/step - loss: 0.5860 - accuracy: 0.7097\n",
            "Epoch 58/150\n",
            "418/418 [==============================] - 1s 3ms/step - loss: 0.5865 - accuracy: 0.7095\n",
            "Epoch 59/150\n",
            "418/418 [==============================] - 1s 3ms/step - loss: 0.5861 - accuracy: 0.7094\n",
            "Epoch 60/150\n",
            "415/418 [============================>.] - ETA: 0s - loss: 0.5863 - accuracy: 0.7096"
          ]
        },
        {
          "output_type": "stream",
          "name": "stderr",
          "text": [
            "WARNING:tensorflow:Can save best model only with val_loss available, skipping.\n"
          ]
        },
        {
          "output_type": "stream",
          "name": "stdout",
          "text": [
            "\b\b\b\b\b\b\b\b\b\b\b\b\b\b\b\b\b\b\b\b\b\b\b\b\b\b\b\b\b\b\b\b\b\b\b\b\b\b\b\b\b\b\b\b\b\b\b\b\b\b\b\b\b\b\b\b\b\b\b\b\b\b\b\b\b\b\b\b\b\b\b\b\b\b\b\b\b\b\b\b\b\b\b\b\r418/418 [==============================] - 1s 3ms/step - loss: 0.5862 - accuracy: 0.7096\n",
            "Epoch 61/150\n",
            "418/418 [==============================] - 1s 2ms/step - loss: 0.5861 - accuracy: 0.7096\n",
            "Epoch 62/150\n",
            "418/418 [==============================] - 1s 2ms/step - loss: 0.5861 - accuracy: 0.7095\n",
            "Epoch 63/150\n",
            "418/418 [==============================] - 1s 3ms/step - loss: 0.5863 - accuracy: 0.7088\n",
            "Epoch 64/150\n",
            "418/418 [==============================] - 1s 2ms/step - loss: 0.5861 - accuracy: 0.7096\n",
            "Epoch 65/150\n",
            "406/418 [============================>.] - ETA: 0s - loss: 0.5862 - accuracy: 0.7098"
          ]
        },
        {
          "output_type": "stream",
          "name": "stderr",
          "text": [
            "WARNING:tensorflow:Can save best model only with val_loss available, skipping.\n"
          ]
        },
        {
          "output_type": "stream",
          "name": "stdout",
          "text": [
            "\b\b\b\b\b\b\b\b\b\b\b\b\b\b\b\b\b\b\b\b\b\b\b\b\b\b\b\b\b\b\b\b\b\b\b\b\b\b\b\b\b\b\b\b\b\b\b\b\b\b\b\b\b\b\b\b\b\b\b\b\b\b\b\b\b\b\b\b\b\b\b\b\b\b\b\b\b\b\b\b\b\b\b\b\r418/418 [==============================] - 1s 3ms/step - loss: 0.5857 - accuracy: 0.7097\n",
            "Epoch 66/150\n",
            "418/418 [==============================] - 1s 2ms/step - loss: 0.5862 - accuracy: 0.7095\n",
            "Epoch 67/150\n",
            "418/418 [==============================] - 2s 4ms/step - loss: 0.5864 - accuracy: 0.7086\n",
            "Epoch 68/150\n",
            "418/418 [==============================] - 2s 4ms/step - loss: 0.5865 - accuracy: 0.7093\n",
            "Epoch 69/150\n",
            "418/418 [==============================] - 1s 3ms/step - loss: 0.5859 - accuracy: 0.7095\n",
            "Epoch 70/150\n",
            "410/418 [============================>.] - ETA: 0s - loss: 0.5862 - accuracy: 0.7096"
          ]
        },
        {
          "output_type": "stream",
          "name": "stderr",
          "text": [
            "WARNING:tensorflow:Can save best model only with val_loss available, skipping.\n"
          ]
        },
        {
          "output_type": "stream",
          "name": "stdout",
          "text": [
            "\b\b\b\b\b\b\b\b\b\b\b\b\b\b\b\b\b\b\b\b\b\b\b\b\b\b\b\b\b\b\b\b\b\b\b\b\b\b\b\b\b\b\b\b\b\b\b\b\b\b\b\b\b\b\b\b\b\b\b\b\b\b\b\b\b\b\b\b\b\b\b\b\b\b\b\b\b\b\b\b\b\b\b\b\r418/418 [==============================] - 2s 4ms/step - loss: 0.5859 - accuracy: 0.7097\n",
            "Epoch 71/150\n",
            "418/418 [==============================] - 1s 3ms/step - loss: 0.5861 - accuracy: 0.7093\n",
            "Epoch 72/150\n",
            "418/418 [==============================] - 1s 3ms/step - loss: 0.5859 - accuracy: 0.7097\n",
            "Epoch 73/150\n",
            "418/418 [==============================] - 2s 4ms/step - loss: 0.5859 - accuracy: 0.7094\n",
            "Epoch 74/150\n",
            "418/418 [==============================] - 2s 4ms/step - loss: 0.5863 - accuracy: 0.7097\n",
            "Epoch 75/150\n",
            "411/418 [============================>.] - ETA: 0s - loss: 0.5856 - accuracy: 0.7101"
          ]
        },
        {
          "output_type": "stream",
          "name": "stderr",
          "text": [
            "WARNING:tensorflow:Can save best model only with val_loss available, skipping.\n"
          ]
        },
        {
          "output_type": "stream",
          "name": "stdout",
          "text": [
            "\b\b\b\b\b\b\b\b\b\b\b\b\b\b\b\b\b\b\b\b\b\b\b\b\b\b\b\b\b\b\b\b\b\b\b\b\b\b\b\b\b\b\b\b\b\b\b\b\b\b\b\b\b\b\b\b\b\b\b\b\b\b\b\b\b\b\b\b\b\b\b\b\b\b\b\b\b\b\b\b\b\b\b\b\r418/418 [==============================] - 2s 4ms/step - loss: 0.5858 - accuracy: 0.7097\n",
            "Epoch 76/150\n",
            "418/418 [==============================] - 2s 6ms/step - loss: 0.5860 - accuracy: 0.7097\n",
            "Epoch 77/150\n",
            "418/418 [==============================] - 1s 4ms/step - loss: 0.5860 - accuracy: 0.7098\n",
            "Epoch 78/150\n",
            "418/418 [==============================] - 1s 3ms/step - loss: 0.5860 - accuracy: 0.7090\n",
            "Epoch 79/150\n",
            "418/418 [==============================] - 2s 4ms/step - loss: 0.5863 - accuracy: 0.7095\n",
            "Epoch 80/150\n",
            "415/418 [============================>.] - ETA: 0s - loss: 0.5854 - accuracy: 0.7105"
          ]
        },
        {
          "output_type": "stream",
          "name": "stderr",
          "text": [
            "WARNING:tensorflow:Can save best model only with val_loss available, skipping.\n"
          ]
        },
        {
          "output_type": "stream",
          "name": "stdout",
          "text": [
            "\b\b\b\b\b\b\b\b\b\b\b\b\b\b\b\b\b\b\b\b\b\b\b\b\b\b\b\b\b\b\b\b\b\b\b\b\b\b\b\b\b\b\b\b\b\b\b\b\b\b\b\b\b\b\b\b\b\b\b\b\b\b\b\b\b\b\b\b\b\b\b\b\b\b\b\b\b\b\b\b\b\b\b\b\r418/418 [==============================] - 2s 4ms/step - loss: 0.5859 - accuracy: 0.7097\n",
            "Epoch 81/150\n",
            "418/418 [==============================] - 2s 4ms/step - loss: 0.5861 - accuracy: 0.7097\n",
            "Epoch 82/150\n",
            "418/418 [==============================] - 2s 4ms/step - loss: 0.5861 - accuracy: 0.7094\n",
            "Epoch 83/150\n",
            "418/418 [==============================] - 2s 4ms/step - loss: 0.5859 - accuracy: 0.7097\n",
            "Epoch 84/150\n",
            "418/418 [==============================] - 2s 5ms/step - loss: 0.5859 - accuracy: 0.7094\n",
            "Epoch 85/150\n",
            "403/418 [===========================>..] - ETA: 0s - loss: 0.5850 - accuracy: 0.7110"
          ]
        },
        {
          "output_type": "stream",
          "name": "stderr",
          "text": [
            "WARNING:tensorflow:Can save best model only with val_loss available, skipping.\n"
          ]
        },
        {
          "output_type": "stream",
          "name": "stdout",
          "text": [
            "\b\b\b\b\b\b\b\b\b\b\b\b\b\b\b\b\b\b\b\b\b\b\b\b\b\b\b\b\b\b\b\b\b\b\b\b\b\b\b\b\b\b\b\b\b\b\b\b\b\b\b\b\b\b\b\b\b\b\b\b\b\b\b\b\b\b\b\b\b\b\b\b\b\b\b\b\b\b\b\b\b\b\b\b\r418/418 [==============================] - 2s 4ms/step - loss: 0.5859 - accuracy: 0.7095\n",
            "Epoch 86/150\n",
            "418/418 [==============================] - 2s 4ms/step - loss: 0.5856 - accuracy: 0.7097\n",
            "Epoch 87/150\n",
            "418/418 [==============================] - 2s 4ms/step - loss: 0.5859 - accuracy: 0.7097\n",
            "Epoch 88/150\n",
            "418/418 [==============================] - 2s 4ms/step - loss: 0.5860 - accuracy: 0.7095\n",
            "Epoch 89/150\n",
            "418/418 [==============================] - 1s 3ms/step - loss: 0.5862 - accuracy: 0.7092\n",
            "Epoch 90/150\n",
            "415/418 [============================>.] - ETA: 0s - loss: 0.5862 - accuracy: 0.7093"
          ]
        },
        {
          "output_type": "stream",
          "name": "stderr",
          "text": [
            "WARNING:tensorflow:Can save best model only with val_loss available, skipping.\n"
          ]
        },
        {
          "output_type": "stream",
          "name": "stdout",
          "text": [
            "\b\b\b\b\b\b\b\b\b\b\b\b\b\b\b\b\b\b\b\b\b\b\b\b\b\b\b\b\b\b\b\b\b\b\b\b\b\b\b\b\b\b\b\b\b\b\b\b\b\b\b\b\b\b\b\b\b\b\b\b\b\b\b\b\b\b\b\b\b\b\b\b\b\b\b\b\b\b\b\b\b\b\b\b\r418/418 [==============================] - 1s 4ms/step - loss: 0.5860 - accuracy: 0.7091\n",
            "Epoch 91/150\n",
            "418/418 [==============================] - 1s 3ms/step - loss: 0.5860 - accuracy: 0.7094\n",
            "Epoch 92/150\n",
            "418/418 [==============================] - 2s 5ms/step - loss: 0.5859 - accuracy: 0.7091\n",
            "Epoch 93/150\n",
            "418/418 [==============================] - 2s 5ms/step - loss: 0.5866 - accuracy: 0.7091\n",
            "Epoch 94/150\n",
            "418/418 [==============================] - 1s 3ms/step - loss: 0.5859 - accuracy: 0.7088\n",
            "Epoch 95/150\n",
            "410/418 [============================>.] - ETA: 0s - loss: 0.5857 - accuracy: 0.7104"
          ]
        },
        {
          "output_type": "stream",
          "name": "stderr",
          "text": [
            "WARNING:tensorflow:Can save best model only with val_loss available, skipping.\n"
          ]
        },
        {
          "output_type": "stream",
          "name": "stdout",
          "text": [
            "\b\b\b\b\b\b\b\b\b\b\b\b\b\b\b\b\b\b\b\b\b\b\b\b\b\b\b\b\b\b\b\b\b\b\b\b\b\b\b\b\b\b\b\b\b\b\b\b\b\b\b\b\b\b\b\b\b\b\b\b\b\b\b\b\b\b\b\b\b\b\b\b\b\b\b\b\b\b\b\b\b\b\b\b\r418/418 [==============================] - 1s 3ms/step - loss: 0.5860 - accuracy: 0.7097\n",
            "Epoch 96/150\n",
            "418/418 [==============================] - 1s 2ms/step - loss: 0.5858 - accuracy: 0.7100\n",
            "Epoch 97/150\n",
            "418/418 [==============================] - 1s 2ms/step - loss: 0.5859 - accuracy: 0.7095\n",
            "Epoch 98/150\n",
            "418/418 [==============================] - 2s 4ms/step - loss: 0.5860 - accuracy: 0.7094\n",
            "Epoch 99/150\n",
            "418/418 [==============================] - 1s 3ms/step - loss: 0.5857 - accuracy: 0.7091\n",
            "Epoch 100/150\n",
            "418/418 [==============================] - ETA: 0s - loss: 0.5856 - accuracy: 0.7101"
          ]
        },
        {
          "output_type": "stream",
          "name": "stderr",
          "text": [
            "WARNING:tensorflow:Can save best model only with val_loss available, skipping.\n"
          ]
        },
        {
          "output_type": "stream",
          "name": "stdout",
          "text": [
            "\b\b\b\b\b\b\b\b\b\b\b\b\b\b\b\b\b\b\b\b\b\b\b\b\b\b\b\b\b\b\b\b\b\b\b\b\b\b\b\b\b\b\b\b\b\b\b\b\b\b\b\b\b\b\b\b\b\b\b\b\b\b\b\b\b\b\b\b\b\b\b\b\b\b\b\b\b\b\b\b\b\b\b\b\r418/418 [==============================] - 2s 4ms/step - loss: 0.5856 - accuracy: 0.7101\n",
            "Epoch 101/150\n",
            "418/418 [==============================] - 2s 5ms/step - loss: 0.5858 - accuracy: 0.7095\n",
            "Epoch 102/150\n",
            "418/418 [==============================] - 2s 4ms/step - loss: 0.5861 - accuracy: 0.7097\n",
            "Epoch 103/150\n",
            "418/418 [==============================] - 1s 3ms/step - loss: 0.5857 - accuracy: 0.7097\n",
            "Epoch 104/150\n",
            "418/418 [==============================] - 1s 3ms/step - loss: 0.5858 - accuracy: 0.7092\n",
            "Epoch 105/150\n",
            "408/418 [============================>.] - ETA: 0s - loss: 0.5869 - accuracy: 0.7092"
          ]
        },
        {
          "output_type": "stream",
          "name": "stderr",
          "text": [
            "WARNING:tensorflow:Can save best model only with val_loss available, skipping.\n"
          ]
        },
        {
          "output_type": "stream",
          "name": "stdout",
          "text": [
            "\b\b\b\b\b\b\b\b\b\b\b\b\b\b\b\b\b\b\b\b\b\b\b\b\b\b\b\b\b\b\b\b\b\b\b\b\b\b\b\b\b\b\b\b\b\b\b\b\b\b\b\b\b\b\b\b\b\b\b\b\b\b\b\b\b\b\b\b\b\b\b\b\b\b\b\b\b\b\b\b\b\b\b\b\r418/418 [==============================] - 2s 4ms/step - loss: 0.5860 - accuracy: 0.7098\n",
            "Epoch 106/150\n",
            "418/418 [==============================] - 2s 4ms/step - loss: 0.5858 - accuracy: 0.7097\n",
            "Epoch 107/150\n",
            "418/418 [==============================] - 1s 4ms/step - loss: 0.5858 - accuracy: 0.7097\n",
            "Epoch 108/150\n",
            "418/418 [==============================] - 1s 3ms/step - loss: 0.5856 - accuracy: 0.7090\n",
            "Epoch 109/150\n",
            "418/418 [==============================] - 1s 3ms/step - loss: 0.5857 - accuracy: 0.7098\n",
            "Epoch 110/150\n",
            "414/418 [============================>.] - ETA: 0s - loss: 0.5852 - accuracy: 0.7104"
          ]
        },
        {
          "output_type": "stream",
          "name": "stderr",
          "text": [
            "WARNING:tensorflow:Can save best model only with val_loss available, skipping.\n"
          ]
        },
        {
          "output_type": "stream",
          "name": "stdout",
          "text": [
            "\b\b\b\b\b\b\b\b\b\b\b\b\b\b\b\b\b\b\b\b\b\b\b\b\b\b\b\b\b\b\b\b\b\b\b\b\b\b\b\b\b\b\b\b\b\b\b\b\b\b\b\b\b\b\b\b\b\b\b\b\b\b\b\b\b\b\b\b\b\b\b\b\b\b\b\b\b\b\b\b\b\b\b\b\r418/418 [==============================] - 2s 5ms/step - loss: 0.5858 - accuracy: 0.7098\n",
            "Epoch 111/150\n",
            "418/418 [==============================] - 2s 4ms/step - loss: 0.5857 - accuracy: 0.7097\n",
            "Epoch 112/150\n",
            "418/418 [==============================] - 1s 3ms/step - loss: 0.5856 - accuracy: 0.7095\n",
            "Epoch 113/150\n",
            "418/418 [==============================] - 1s 3ms/step - loss: 0.5856 - accuracy: 0.7096\n",
            "Epoch 114/150\n",
            "418/418 [==============================] - 2s 4ms/step - loss: 0.5858 - accuracy: 0.7095\n",
            "Epoch 115/150\n",
            "408/418 [============================>.] - ETA: 0s - loss: 0.5851 - accuracy: 0.7102"
          ]
        },
        {
          "output_type": "stream",
          "name": "stderr",
          "text": [
            "WARNING:tensorflow:Can save best model only with val_loss available, skipping.\n"
          ]
        },
        {
          "output_type": "stream",
          "name": "stdout",
          "text": [
            "\b\b\b\b\b\b\b\b\b\b\b\b\b\b\b\b\b\b\b\b\b\b\b\b\b\b\b\b\b\b\b\b\b\b\b\b\b\b\b\b\b\b\b\b\b\b\b\b\b\b\b\b\b\b\b\b\b\b\b\b\b\b\b\b\b\b\b\b\b\b\b\b\b\b\b\b\b\b\b\b\b\b\b\b\r418/418 [==============================] - 2s 4ms/step - loss: 0.5859 - accuracy: 0.7096\n",
            "Epoch 116/150\n",
            "418/418 [==============================] - 1s 3ms/step - loss: 0.5857 - accuracy: 0.7097\n",
            "Epoch 117/150\n",
            "418/418 [==============================] - 1s 2ms/step - loss: 0.5860 - accuracy: 0.7097\n",
            "Epoch 118/150\n",
            "418/418 [==============================] - 2s 5ms/step - loss: 0.5858 - accuracy: 0.7100\n",
            "Epoch 119/150\n",
            "418/418 [==============================] - 2s 5ms/step - loss: 0.5855 - accuracy: 0.7102\n",
            "Epoch 120/150\n",
            "418/418 [==============================] - ETA: 0s - loss: 0.5858 - accuracy: 0.7097"
          ]
        },
        {
          "output_type": "stream",
          "name": "stderr",
          "text": [
            "WARNING:tensorflow:Can save best model only with val_loss available, skipping.\n"
          ]
        },
        {
          "output_type": "stream",
          "name": "stdout",
          "text": [
            "\b\b\b\b\b\b\b\b\b\b\b\b\b\b\b\b\b\b\b\b\b\b\b\b\b\b\b\b\b\b\b\b\b\b\b\b\b\b\b\b\b\b\b\b\b\b\b\b\b\b\b\b\b\b\b\b\b\b\b\b\b\b\b\b\b\b\b\b\b\b\b\b\b\b\b\b\b\b\b\b\b\b\b\b\r418/418 [==============================] - 2s 4ms/step - loss: 0.5858 - accuracy: 0.7097\n",
            "Epoch 121/150\n",
            "418/418 [==============================] - 1s 3ms/step - loss: 0.5856 - accuracy: 0.7097\n",
            "Epoch 122/150\n",
            "418/418 [==============================] - 1s 2ms/step - loss: 0.5857 - accuracy: 0.7095\n",
            "Epoch 123/150\n",
            "418/418 [==============================] - 2s 4ms/step - loss: 0.5860 - accuracy: 0.7094\n",
            "Epoch 124/150\n",
            "418/418 [==============================] - 2s 4ms/step - loss: 0.5855 - accuracy: 0.7095\n",
            "Epoch 125/150\n",
            "402/418 [===========================>..] - ETA: 0s - loss: 0.5853 - accuracy: 0.7109"
          ]
        },
        {
          "output_type": "stream",
          "name": "stderr",
          "text": [
            "WARNING:tensorflow:Can save best model only with val_loss available, skipping.\n"
          ]
        },
        {
          "output_type": "stream",
          "name": "stdout",
          "text": [
            "\b\b\b\b\b\b\b\b\b\b\b\b\b\b\b\b\b\b\b\b\b\b\b\b\b\b\b\b\b\b\b\b\b\b\b\b\b\b\b\b\b\b\b\b\b\b\b\b\b\b\b\b\b\b\b\b\b\b\b\b\b\b\b\b\b\b\b\b\b\b\b\b\b\b\b\b\b\b\b\b\b\b\b\b\r418/418 [==============================] - 2s 4ms/step - loss: 0.5859 - accuracy: 0.7103\n",
            "Epoch 126/150\n",
            "418/418 [==============================] - 2s 5ms/step - loss: 0.5856 - accuracy: 0.7095\n",
            "Epoch 127/150\n",
            "418/418 [==============================] - 2s 5ms/step - loss: 0.5856 - accuracy: 0.7097\n",
            "Epoch 128/150\n",
            "418/418 [==============================] - 2s 4ms/step - loss: 0.5859 - accuracy: 0.7100\n",
            "Epoch 129/150\n",
            "418/418 [==============================] - 1s 3ms/step - loss: 0.5857 - accuracy: 0.7093\n",
            "Epoch 130/150\n",
            "406/418 [============================>.] - ETA: 0s - loss: 0.5854 - accuracy: 0.7085"
          ]
        },
        {
          "output_type": "stream",
          "name": "stderr",
          "text": [
            "WARNING:tensorflow:Can save best model only with val_loss available, skipping.\n"
          ]
        },
        {
          "output_type": "stream",
          "name": "stdout",
          "text": [
            "\b\b\b\b\b\b\b\b\b\b\b\b\b\b\b\b\b\b\b\b\b\b\b\b\b\b\b\b\b\b\b\b\b\b\b\b\b\b\b\b\b\b\b\b\b\b\b\b\b\b\b\b\b\b\b\b\b\b\b\b\b\b\b\b\b\b\b\b\b\b\b\b\b\b\b\b\b\b\b\b\b\b\b\b\r418/418 [==============================] - 1s 4ms/step - loss: 0.5856 - accuracy: 0.7086\n",
            "Epoch 131/150\n",
            "418/418 [==============================] - 1s 4ms/step - loss: 0.5858 - accuracy: 0.7096\n",
            "Epoch 132/150\n",
            "418/418 [==============================] - 1s 3ms/step - loss: 0.5856 - accuracy: 0.7094\n",
            "Epoch 133/150\n",
            "418/418 [==============================] - 1s 2ms/step - loss: 0.5853 - accuracy: 0.7091\n",
            "Epoch 134/150\n",
            "418/418 [==============================] - 1s 3ms/step - loss: 0.5856 - accuracy: 0.7097\n",
            "Epoch 135/150\n",
            "417/418 [============================>.] - ETA: 0s - loss: 0.5859 - accuracy: 0.7093"
          ]
        },
        {
          "output_type": "stream",
          "name": "stderr",
          "text": [
            "WARNING:tensorflow:Can save best model only with val_loss available, skipping.\n"
          ]
        },
        {
          "output_type": "stream",
          "name": "stdout",
          "text": [
            "\b\b\b\b\b\b\b\b\b\b\b\b\b\b\b\b\b\b\b\b\b\b\b\b\b\b\b\b\b\b\b\b\b\b\b\b\b\b\b\b\b\b\b\b\b\b\b\b\b\b\b\b\b\b\b\b\b\b\b\b\b\b\b\b\b\b\b\b\b\b\b\b\b\b\b\b\b\b\b\b\b\b\b\b\r418/418 [==============================] - 2s 4ms/step - loss: 0.5861 - accuracy: 0.7091\n",
            "Epoch 136/150\n",
            "418/418 [==============================] - 2s 4ms/step - loss: 0.5859 - accuracy: 0.7093\n",
            "Epoch 137/150\n",
            "418/418 [==============================] - 1s 3ms/step - loss: 0.5856 - accuracy: 0.7097\n",
            "Epoch 138/150\n",
            "418/418 [==============================] - 1s 3ms/step - loss: 0.5855 - accuracy: 0.7097\n",
            "Epoch 139/150\n",
            "418/418 [==============================] - 1s 2ms/step - loss: 0.5860 - accuracy: 0.7093\n",
            "Epoch 140/150\n",
            "414/418 [============================>.] - ETA: 0s - loss: 0.5857 - accuracy: 0.7095"
          ]
        },
        {
          "output_type": "stream",
          "name": "stderr",
          "text": [
            "WARNING:tensorflow:Can save best model only with val_loss available, skipping.\n"
          ]
        },
        {
          "output_type": "stream",
          "name": "stdout",
          "text": [
            "\b\b\b\b\b\b\b\b\b\b\b\b\b\b\b\b\b\b\b\b\b\b\b\b\b\b\b\b\b\b\b\b\b\b\b\b\b\b\b\b\b\b\b\b\b\b\b\b\b\b\b\b\b\b\b\b\b\b\b\b\b\b\b\b\b\b\b\b\b\b\b\b\b\b\b\b\b\b\b\b\b\b\b\b\r418/418 [==============================] - 1s 3ms/step - loss: 0.5857 - accuracy: 0.7095\n",
            "Epoch 141/150\n",
            "418/418 [==============================] - 1s 2ms/step - loss: 0.5855 - accuracy: 0.7100\n",
            "Epoch 142/150\n",
            "418/418 [==============================] - 1s 2ms/step - loss: 0.5858 - accuracy: 0.7099\n",
            "Epoch 143/150\n",
            "418/418 [==============================] - 1s 3ms/step - loss: 0.5857 - accuracy: 0.7097\n",
            "Epoch 144/150\n",
            "418/418 [==============================] - 1s 3ms/step - loss: 0.5857 - accuracy: 0.7095\n",
            "Epoch 145/150\n",
            "407/418 [============================>.] - ETA: 0s - loss: 0.5862 - accuracy: 0.7085"
          ]
        },
        {
          "output_type": "stream",
          "name": "stderr",
          "text": [
            "WARNING:tensorflow:Can save best model only with val_loss available, skipping.\n"
          ]
        },
        {
          "output_type": "stream",
          "name": "stdout",
          "text": [
            "\b\b\b\b\b\b\b\b\b\b\b\b\b\b\b\b\b\b\b\b\b\b\b\b\b\b\b\b\b\b\b\b\b\b\b\b\b\b\b\b\b\b\b\b\b\b\b\b\b\b\b\b\b\b\b\b\b\b\b\b\b\b\b\b\b\b\b\b\b\b\b\b\b\b\b\b\b\b\b\b\b\b\b\b\r418/418 [==============================] - 2s 5ms/step - loss: 0.5856 - accuracy: 0.7096\n",
            "Epoch 146/150\n",
            "418/418 [==============================] - 2s 4ms/step - loss: 0.5856 - accuracy: 0.7094\n",
            "Epoch 147/150\n",
            "418/418 [==============================] - 1s 2ms/step - loss: 0.5858 - accuracy: 0.7098\n",
            "Epoch 148/150\n",
            "418/418 [==============================] - 1s 2ms/step - loss: 0.5855 - accuracy: 0.7091\n",
            "Epoch 149/150\n",
            "418/418 [==============================] - 1s 2ms/step - loss: 0.5858 - accuracy: 0.7097\n",
            "Epoch 150/150\n",
            "404/418 [===========================>..] - ETA: 0s - loss: 0.5859 - accuracy: 0.7097"
          ]
        },
        {
          "output_type": "stream",
          "name": "stderr",
          "text": [
            "WARNING:tensorflow:Can save best model only with val_loss available, skipping.\n"
          ]
        },
        {
          "output_type": "stream",
          "name": "stdout",
          "text": [
            "\b\b\b\b\b\b\b\b\b\b\b\b\b\b\b\b\b\b\b\b\b\b\b\b\b\b\b\b\b\b\b\b\b\b\b\b\b\b\b\b\b\b\b\b\b\b\b\b\b\b\b\b\b\b\b\b\b\b\b\b\b\b\b\b\b\b\b\b\b\b\b\b\b\b\b\b\b\b\b\b\b\b\b\b\r418/418 [==============================] - 1s 3ms/step - loss: 0.5857 - accuracy: 0.7097\n"
          ]
        },
        {
          "output_type": "execute_result",
          "data": {
            "text/plain": [
              "<keras.src.callbacks.History at 0x7930be88f940>"
            ]
          },
          "metadata": {},
          "execution_count": 26
        }
      ]
    },
    {
      "cell_type": "code",
      "source": [
        "# Evaluate the model using the test data\n",
        "model_loss, model_accuracy = nn.evaluate(X_test_scaled,y_test,verbose=2)\n",
        "print(f\"Loss: {model_loss}, Accuracy: {model_accuracy}\")"
      ],
      "metadata": {
        "colab": {
          "base_uri": "https://localhost:8080/"
        },
        "id": "lMdqGPfh6F-w",
        "outputId": "e6f34bf4-40e9-41e1-eb5c-db353eba9798"
      },
      "execution_count": null,
      "outputs": [
        {
          "output_type": "stream",
          "name": "stdout",
          "text": [
            "268/268 - 1s - loss: 11.8970 - accuracy: 0.6248 - 524ms/epoch - 2ms/step\n",
            "Loss: 11.896970748901367, Accuracy: 0.6248396635055542\n"
          ]
        }
      ]
    },
    {
      "cell_type": "code",
      "source": [
        "# Export our model to HDF5 file\n",
        "nn.save(\"AlphabetSoupCharity_Optimization_1.h5\")"
      ],
      "metadata": {
        "id": "Lo5GeE7K6MSY"
      },
      "execution_count": null,
      "outputs": []
    },
    {
      "cell_type": "markdown",
      "source": [
        "### Attempt 2: Steps to Optimize Model\n",
        "\n",
        "1. Adding a hidden layer\n",
        "2. Increasing no. of neurons to 150, 80, and 50 respectively\n",
        "3. Increasing no. of epochs to 150\n",
        "4. Change activation function to tanh"
      ],
      "metadata": {
        "id": "bz60-2PL6eUj"
      }
    },
    {
      "cell_type": "code",
      "source": [
        "# Define the model - deep neural net, i.e., the number of input features and hidden nodes for each layer.\n",
        "number_input_features = len(X_train_scaled[0])\n",
        "hidden_nodes_layer1 =  150\n",
        "hidden_nodes_layer2 = 80\n",
        "hidden_nodes_layer3 = 50\n",
        "\n",
        "nn = tf.keras.models.Sequential()\n",
        "\n",
        "# First hidden layer\n",
        "nn.add(\n",
        "    tf.keras.layers.Dense(units=hidden_nodes_layer1, input_dim=number_input_features, activation=\"tanh\")\n",
        ")\n",
        "# Second hidden layer\n",
        "nn.add(tf.keras.layers.Dense(units=hidden_nodes_layer2, activation=\"tanh\"))\n",
        "\n",
        "# Third hidden layer\n",
        "nn.add(tf.keras.layers.Dense(units=hidden_nodes_layer3, activation=\"tanh\"))\n",
        "\n",
        "# Output layer\n",
        "nn.add(tf.keras.layers.Dense(units=1, activation=\"sigmoid\"))\n",
        "\n",
        "# Check the structure of the model\n",
        "nn.summary()"
      ],
      "metadata": {
        "colab": {
          "base_uri": "https://localhost:8080/"
        },
        "id": "mhEBsir06hyz",
        "outputId": "6bfb70cd-b356-424a-b10d-ba70df709af9"
      },
      "execution_count": null,
      "outputs": [
        {
          "output_type": "stream",
          "name": "stdout",
          "text": [
            "Model: \"sequential_3\"\n",
            "_________________________________________________________________\n",
            " Layer (type)                Output Shape              Param #   \n",
            "=================================================================\n",
            " dense_10 (Dense)            (None, 150)               6600      \n",
            "                                                                 \n",
            " dense_11 (Dense)            (None, 80)                12080     \n",
            "                                                                 \n",
            " dense_12 (Dense)            (None, 50)                4050      \n",
            "                                                                 \n",
            " dense_13 (Dense)            (None, 1)                 51        \n",
            "                                                                 \n",
            "=================================================================\n",
            "Total params: 22781 (88.99 KB)\n",
            "Trainable params: 22781 (88.99 KB)\n",
            "Non-trainable params: 0 (0.00 Byte)\n",
            "_________________________________________________________________\n"
          ]
        }
      ]
    },
    {
      "cell_type": "code",
      "source": [
        "# Compile the model\n",
        "nn.compile(loss=\"binary_crossentropy\", optimizer=\"adam\", metrics=[\"accuracy\"])"
      ],
      "metadata": {
        "id": "pVtpI4Ic6kjm"
      },
      "execution_count": null,
      "outputs": []
    },
    {
      "cell_type": "code",
      "source": [
        "# Define a callback to save model weights every five epochs\n",
        "checkpoint_callback = tf.keras.callbacks.ModelCheckpoint(\n",
        "    filepath=\"model_weights_1.h5\",  # Filepath to save the model weights\n",
        "    save_best_only=True,          # Save only the best model\n",
        "    save_weights_only=True,       # Save only the model weights\n",
        "    monitor=\"val_loss\",           # Metric to monitor (e.g., validation loss)\n",
        "    mode=\"min\",                   # \"min\" for loss, \"max\" for accuracy, \"auto\" for automatic\n",
        "    verbose=1,                    # Verbosity\n",
        "    period=5                      # Save every 5 epochs\n",
        ")\n",
        "\n",
        "# Example model fitting with the callback\n",
        "nn.fit(\n",
        "    X_train_scaled, y_train,\n",
        "    epochs=150,\n",
        "    callbacks=[checkpoint_callback])  # Include the callback during training"
      ],
      "metadata": {
        "colab": {
          "base_uri": "https://localhost:8080/"
        },
        "id": "u6iViqAw6mjn",
        "outputId": "b63a9a4c-af49-41af-d17b-c8ea6dd5d740"
      },
      "execution_count": null,
      "outputs": [
        {
          "output_type": "stream",
          "name": "stderr",
          "text": [
            "WARNING:tensorflow:`period` argument is deprecated. Please use `save_freq` to specify the frequency in number of batches seen.\n"
          ]
        },
        {
          "output_type": "stream",
          "name": "stdout",
          "text": [
            "Epoch 1/150\n",
            "804/804 [==============================] - 4s 3ms/step - loss: 0.5677 - accuracy: 0.7241\n",
            "Epoch 2/150\n",
            "804/804 [==============================] - 3s 3ms/step - loss: 0.5547 - accuracy: 0.7277\n",
            "Epoch 3/150\n",
            "804/804 [==============================] - 3s 3ms/step - loss: 0.5515 - accuracy: 0.7296\n",
            "Epoch 4/150\n",
            "804/804 [==============================] - 3s 4ms/step - loss: 0.5485 - accuracy: 0.7307\n",
            "Epoch 5/150\n",
            "800/804 [============================>.] - ETA: 0s - loss: 0.5467 - accuracy: 0.7324"
          ]
        },
        {
          "output_type": "stream",
          "name": "stderr",
          "text": [
            "WARNING:tensorflow:Can save best model only with val_loss available, skipping.\n"
          ]
        },
        {
          "output_type": "stream",
          "name": "stdout",
          "text": [
            "\b\b\b\b\b\b\b\b\b\b\b\b\b\b\b\b\b\b\b\b\b\b\b\b\b\b\b\b\b\b\b\b\b\b\b\b\b\b\b\b\b\b\b\b\b\b\b\b\b\b\b\b\b\b\b\b\b\b\b\b\b\b\b\b\b\b\b\b\b\b\b\b\b\b\b\b\b\b\b\b\b\b\b\b\r804/804 [==============================] - 3s 4ms/step - loss: 0.5470 - accuracy: 0.7320\n",
            "Epoch 6/150\n",
            "804/804 [==============================] - 3s 3ms/step - loss: 0.5466 - accuracy: 0.7301\n",
            "Epoch 7/150\n",
            "804/804 [==============================] - 3s 4ms/step - loss: 0.5447 - accuracy: 0.7342\n",
            "Epoch 8/150\n",
            "804/804 [==============================] - 2s 3ms/step - loss: 0.5439 - accuracy: 0.7346\n",
            "Epoch 9/150\n",
            "804/804 [==============================] - 4s 5ms/step - loss: 0.5430 - accuracy: 0.7353\n",
            "Epoch 10/150\n",
            "798/804 [============================>.] - ETA: 0s - loss: 0.5424 - accuracy: 0.7351"
          ]
        },
        {
          "output_type": "stream",
          "name": "stderr",
          "text": [
            "WARNING:tensorflow:Can save best model only with val_loss available, skipping.\n"
          ]
        },
        {
          "output_type": "stream",
          "name": "stdout",
          "text": [
            "\b\b\b\b\b\b\b\b\b\b\b\b\b\b\b\b\b\b\b\b\b\b\b\b\b\b\b\b\b\b\b\b\b\b\b\b\b\b\b\b\b\b\b\b\b\b\b\b\b\b\b\b\b\b\b\b\b\b\b\b\b\b\b\b\b\b\b\b\b\b\b\b\b\b\b\b\b\b\b\b\b\b\b\b\r804/804 [==============================] - 3s 4ms/step - loss: 0.5422 - accuracy: 0.7352\n",
            "Epoch 11/150\n",
            "804/804 [==============================] - 2s 3ms/step - loss: 0.5418 - accuracy: 0.7338\n",
            "Epoch 12/150\n",
            "804/804 [==============================] - 2s 3ms/step - loss: 0.5410 - accuracy: 0.7342\n",
            "Epoch 13/150\n",
            "804/804 [==============================] - 2s 3ms/step - loss: 0.5405 - accuracy: 0.7363\n",
            "Epoch 14/150\n",
            "804/804 [==============================] - 3s 4ms/step - loss: 0.5401 - accuracy: 0.7373\n",
            "Epoch 15/150\n",
            "801/804 [============================>.] - ETA: 0s - loss: 0.5389 - accuracy: 0.7372"
          ]
        },
        {
          "output_type": "stream",
          "name": "stderr",
          "text": [
            "WARNING:tensorflow:Can save best model only with val_loss available, skipping.\n"
          ]
        },
        {
          "output_type": "stream",
          "name": "stdout",
          "text": [
            "\b\b\b\b\b\b\b\b\b\b\b\b\b\b\b\b\b\b\b\b\b\b\b\b\b\b\b\b\b\b\b\b\b\b\b\b\b\b\b\b\b\b\b\b\b\b\b\b\b\b\b\b\b\b\b\b\b\b\b\b\b\b\b\b\b\b\b\b\b\b\b\b\b\b\b\b\b\b\b\b\b\b\b\b\r804/804 [==============================] - 2s 3ms/step - loss: 0.5393 - accuracy: 0.7369\n",
            "Epoch 16/150\n",
            "804/804 [==============================] - 2s 3ms/step - loss: 0.5384 - accuracy: 0.7367\n",
            "Epoch 17/150\n",
            "804/804 [==============================] - 3s 4ms/step - loss: 0.5386 - accuracy: 0.7356\n",
            "Epoch 18/150\n",
            "804/804 [==============================] - 3s 3ms/step - loss: 0.5374 - accuracy: 0.7370\n",
            "Epoch 19/150\n",
            "804/804 [==============================] - 4s 5ms/step - loss: 0.5375 - accuracy: 0.7381\n",
            "Epoch 20/150\n",
            "802/804 [============================>.] - ETA: 0s - loss: 0.5369 - accuracy: 0.7373"
          ]
        },
        {
          "output_type": "stream",
          "name": "stderr",
          "text": [
            "WARNING:tensorflow:Can save best model only with val_loss available, skipping.\n"
          ]
        },
        {
          "output_type": "stream",
          "name": "stdout",
          "text": [
            "\b\b\b\b\b\b\b\b\b\b\b\b\b\b\b\b\b\b\b\b\b\b\b\b\b\b\b\b\b\b\b\b\b\b\b\b\b\b\b\b\b\b\b\b\b\b\b\b\b\b\b\b\b\b\b\b\b\b\b\b\b\b\b\b\b\b\b\b\b\b\b\b\b\b\b\b\b\b\b\b\b\b\b\b\r804/804 [==============================] - 3s 4ms/step - loss: 0.5369 - accuracy: 0.7374\n",
            "Epoch 21/150\n",
            "804/804 [==============================] - 3s 3ms/step - loss: 0.5371 - accuracy: 0.7375\n",
            "Epoch 22/150\n",
            "804/804 [==============================] - 3s 4ms/step - loss: 0.5365 - accuracy: 0.7374\n",
            "Epoch 23/150\n",
            "804/804 [==============================] - 4s 5ms/step - loss: 0.5363 - accuracy: 0.7387\n",
            "Epoch 24/150\n",
            "804/804 [==============================] - 3s 4ms/step - loss: 0.5357 - accuracy: 0.7389\n",
            "Epoch 25/150\n",
            "795/804 [============================>.] - ETA: 0s - loss: 0.5355 - accuracy: 0.7390"
          ]
        },
        {
          "output_type": "stream",
          "name": "stderr",
          "text": [
            "WARNING:tensorflow:Can save best model only with val_loss available, skipping.\n"
          ]
        },
        {
          "output_type": "stream",
          "name": "stdout",
          "text": [
            "\b\b\b\b\b\b\b\b\b\b\b\b\b\b\b\b\b\b\b\b\b\b\b\b\b\b\b\b\b\b\b\b\b\b\b\b\b\b\b\b\b\b\b\b\b\b\b\b\b\b\b\b\b\b\b\b\b\b\b\b\b\b\b\b\b\b\b\b\b\b\b\b\b\b\b\b\b\b\b\b\b\b\b\b\r804/804 [==============================] - 3s 4ms/step - loss: 0.5356 - accuracy: 0.7390\n",
            "Epoch 26/150\n",
            "804/804 [==============================] - 3s 4ms/step - loss: 0.5352 - accuracy: 0.7381\n",
            "Epoch 27/150\n",
            "804/804 [==============================] - 4s 5ms/step - loss: 0.5349 - accuracy: 0.7380\n",
            "Epoch 28/150\n",
            "804/804 [==============================] - 3s 4ms/step - loss: 0.5351 - accuracy: 0.7399\n",
            "Epoch 29/150\n",
            "804/804 [==============================] - 3s 4ms/step - loss: 0.5347 - accuracy: 0.7387\n",
            "Epoch 30/150\n",
            "797/804 [============================>.] - ETA: 0s - loss: 0.5340 - accuracy: 0.7400"
          ]
        },
        {
          "output_type": "stream",
          "name": "stderr",
          "text": [
            "WARNING:tensorflow:Can save best model only with val_loss available, skipping.\n"
          ]
        },
        {
          "output_type": "stream",
          "name": "stdout",
          "text": [
            "\b\b\b\b\b\b\b\b\b\b\b\b\b\b\b\b\b\b\b\b\b\b\b\b\b\b\b\b\b\b\b\b\b\b\b\b\b\b\b\b\b\b\b\b\b\b\b\b\b\b\b\b\b\b\b\b\b\b\b\b\b\b\b\b\b\b\b\b\b\b\b\b\b\b\b\b\b\b\b\b\b\b\b\b\r804/804 [==============================] - 3s 4ms/step - loss: 0.5342 - accuracy: 0.7396\n",
            "Epoch 31/150\n",
            "804/804 [==============================] - 4s 5ms/step - loss: 0.5344 - accuracy: 0.7384\n",
            "Epoch 32/150\n",
            "804/804 [==============================] - 3s 4ms/step - loss: 0.5338 - accuracy: 0.7396\n",
            "Epoch 33/150\n",
            "804/804 [==============================] - 3s 4ms/step - loss: 0.5339 - accuracy: 0.7390\n",
            "Epoch 34/150\n",
            "804/804 [==============================] - 3s 3ms/step - loss: 0.5340 - accuracy: 0.7395\n",
            "Epoch 35/150\n",
            "803/804 [============================>.] - ETA: 0s - loss: 0.5336 - accuracy: 0.7392"
          ]
        },
        {
          "output_type": "stream",
          "name": "stderr",
          "text": [
            "WARNING:tensorflow:Can save best model only with val_loss available, skipping.\n"
          ]
        },
        {
          "output_type": "stream",
          "name": "stdout",
          "text": [
            "\b\b\b\b\b\b\b\b\b\b\b\b\b\b\b\b\b\b\b\b\b\b\b\b\b\b\b\b\b\b\b\b\b\b\b\b\b\b\b\b\b\b\b\b\b\b\b\b\b\b\b\b\b\b\b\b\b\b\b\b\b\b\b\b\b\b\b\b\b\b\b\b\b\b\b\b\b\b\b\b\b\b\b\b\r804/804 [==============================] - 4s 4ms/step - loss: 0.5335 - accuracy: 0.7392\n",
            "Epoch 36/150\n",
            "804/804 [==============================] - 3s 4ms/step - loss: 0.5329 - accuracy: 0.7391\n",
            "Epoch 37/150\n",
            "804/804 [==============================] - 3s 3ms/step - loss: 0.5329 - accuracy: 0.7406\n",
            "Epoch 38/150\n",
            "804/804 [==============================] - 3s 3ms/step - loss: 0.5326 - accuracy: 0.7410\n",
            "Epoch 39/150\n",
            "804/804 [==============================] - 3s 4ms/step - loss: 0.5330 - accuracy: 0.7390\n",
            "Epoch 40/150\n",
            "800/804 [============================>.] - ETA: 0s - loss: 0.5329 - accuracy: 0.7400"
          ]
        },
        {
          "output_type": "stream",
          "name": "stderr",
          "text": [
            "WARNING:tensorflow:Can save best model only with val_loss available, skipping.\n"
          ]
        },
        {
          "output_type": "stream",
          "name": "stdout",
          "text": [
            "\b\b\b\b\b\b\b\b\b\b\b\b\b\b\b\b\b\b\b\b\b\b\b\b\b\b\b\b\b\b\b\b\b\b\b\b\b\b\b\b\b\b\b\b\b\b\b\b\b\b\b\b\b\b\b\b\b\b\b\b\b\b\b\b\b\b\b\b\b\b\b\b\b\b\b\b\b\b\b\b\b\b\b\b\r804/804 [==============================] - 4s 5ms/step - loss: 0.5329 - accuracy: 0.7400\n",
            "Epoch 41/150\n",
            "804/804 [==============================] - 3s 4ms/step - loss: 0.5328 - accuracy: 0.7401\n",
            "Epoch 42/150\n",
            "804/804 [==============================] - 3s 4ms/step - loss: 0.5328 - accuracy: 0.7387\n",
            "Epoch 43/150\n",
            "804/804 [==============================] - 3s 4ms/step - loss: 0.5325 - accuracy: 0.7393\n",
            "Epoch 44/150\n",
            "804/804 [==============================] - 4s 5ms/step - loss: 0.5324 - accuracy: 0.7390\n",
            "Epoch 45/150\n",
            "799/804 [============================>.] - ETA: 0s - loss: 0.5321 - accuracy: 0.7399"
          ]
        },
        {
          "output_type": "stream",
          "name": "stderr",
          "text": [
            "WARNING:tensorflow:Can save best model only with val_loss available, skipping.\n"
          ]
        },
        {
          "output_type": "stream",
          "name": "stdout",
          "text": [
            "\b\b\b\b\b\b\b\b\b\b\b\b\b\b\b\b\b\b\b\b\b\b\b\b\b\b\b\b\b\b\b\b\b\b\b\b\b\b\b\b\b\b\b\b\b\b\b\b\b\b\b\b\b\b\b\b\b\b\b\b\b\b\b\b\b\b\b\b\b\b\b\b\b\b\b\b\b\b\b\b\b\b\b\b\r804/804 [==============================] - 2s 3ms/step - loss: 0.5323 - accuracy: 0.7397\n",
            "Epoch 46/150\n",
            "804/804 [==============================] - 3s 3ms/step - loss: 0.5323 - accuracy: 0.7401\n",
            "Epoch 47/150\n",
            "804/804 [==============================] - 2s 2ms/step - loss: 0.5324 - accuracy: 0.7411\n",
            "Epoch 48/150\n",
            "804/804 [==============================] - 4s 5ms/step - loss: 0.5320 - accuracy: 0.7402\n",
            "Epoch 49/150\n",
            "804/804 [==============================] - 3s 4ms/step - loss: 0.5318 - accuracy: 0.7397\n",
            "Epoch 50/150\n",
            "800/804 [============================>.] - ETA: 0s - loss: 0.5319 - accuracy: 0.7402"
          ]
        },
        {
          "output_type": "stream",
          "name": "stderr",
          "text": [
            "WARNING:tensorflow:Can save best model only with val_loss available, skipping.\n"
          ]
        },
        {
          "output_type": "stream",
          "name": "stdout",
          "text": [
            "\b\b\b\b\b\b\b\b\b\b\b\b\b\b\b\b\b\b\b\b\b\b\b\b\b\b\b\b\b\b\b\b\b\b\b\b\b\b\b\b\b\b\b\b\b\b\b\b\b\b\b\b\b\b\b\b\b\b\b\b\b\b\b\b\b\b\b\b\b\b\b\b\b\b\b\b\b\b\b\b\b\b\b\b\r804/804 [==============================] - 2s 2ms/step - loss: 0.5320 - accuracy: 0.7400\n",
            "Epoch 51/150\n",
            "804/804 [==============================] - 2s 2ms/step - loss: 0.5317 - accuracy: 0.7405\n",
            "Epoch 52/150\n",
            "804/804 [==============================] - 2s 2ms/step - loss: 0.5318 - accuracy: 0.7395\n",
            "Epoch 53/150\n",
            "804/804 [==============================] - 3s 3ms/step - loss: 0.5315 - accuracy: 0.7400\n",
            "Epoch 54/150\n",
            "804/804 [==============================] - 3s 4ms/step - loss: 0.5316 - accuracy: 0.7406\n",
            "Epoch 55/150\n",
            "794/804 [============================>.] - ETA: 0s - loss: 0.5316 - accuracy: 0.7411"
          ]
        },
        {
          "output_type": "stream",
          "name": "stderr",
          "text": [
            "WARNING:tensorflow:Can save best model only with val_loss available, skipping.\n"
          ]
        },
        {
          "output_type": "stream",
          "name": "stdout",
          "text": [
            "\b\b\b\b\b\b\b\b\b\b\b\b\b\b\b\b\b\b\b\b\b\b\b\b\b\b\b\b\b\b\b\b\b\b\b\b\b\b\b\b\b\b\b\b\b\b\b\b\b\b\b\b\b\b\b\b\b\b\b\b\b\b\b\b\b\b\b\b\b\b\b\b\b\b\b\b\b\b\b\b\b\b\b\b\r804/804 [==============================] - 2s 3ms/step - loss: 0.5315 - accuracy: 0.7414\n",
            "Epoch 56/150\n",
            "804/804 [==============================] - 2s 2ms/step - loss: 0.5316 - accuracy: 0.7404\n",
            "Epoch 57/150\n",
            "804/804 [==============================] - 2s 3ms/step - loss: 0.5312 - accuracy: 0.7407\n",
            "Epoch 58/150\n",
            "804/804 [==============================] - 2s 3ms/step - loss: 0.5318 - accuracy: 0.7399\n",
            "Epoch 59/150\n",
            "804/804 [==============================] - 4s 4ms/step - loss: 0.5312 - accuracy: 0.7406\n",
            "Epoch 60/150\n",
            "796/804 [============================>.] - ETA: 0s - loss: 0.5300 - accuracy: 0.7417"
          ]
        },
        {
          "output_type": "stream",
          "name": "stderr",
          "text": [
            "WARNING:tensorflow:Can save best model only with val_loss available, skipping.\n"
          ]
        },
        {
          "output_type": "stream",
          "name": "stdout",
          "text": [
            "\b\b\b\b\b\b\b\b\b\b\b\b\b\b\b\b\b\b\b\b\b\b\b\b\b\b\b\b\b\b\b\b\b\b\b\b\b\b\b\b\b\b\b\b\b\b\b\b\b\b\b\b\b\b\b\b\b\b\b\b\b\b\b\b\b\b\b\b\b\b\b\b\b\b\b\b\b\b\b\b\b\b\b\b\r804/804 [==============================] - 2s 3ms/step - loss: 0.5306 - accuracy: 0.7413\n",
            "Epoch 61/150\n",
            "804/804 [==============================] - 2s 2ms/step - loss: 0.5311 - accuracy: 0.7395\n",
            "Epoch 62/150\n",
            "804/804 [==============================] - 2s 3ms/step - loss: 0.5309 - accuracy: 0.7402\n",
            "Epoch 63/150\n",
            "804/804 [==============================] - 3s 4ms/step - loss: 0.5310 - accuracy: 0.7401\n",
            "Epoch 64/150\n",
            "804/804 [==============================] - 4s 5ms/step - loss: 0.5312 - accuracy: 0.7411\n",
            "Epoch 65/150\n",
            "798/804 [============================>.] - ETA: 0s - loss: 0.5308 - accuracy: 0.7409"
          ]
        },
        {
          "output_type": "stream",
          "name": "stderr",
          "text": [
            "WARNING:tensorflow:Can save best model only with val_loss available, skipping.\n"
          ]
        },
        {
          "output_type": "stream",
          "name": "stdout",
          "text": [
            "\b\b\b\b\b\b\b\b\b\b\b\b\b\b\b\b\b\b\b\b\b\b\b\b\b\b\b\b\b\b\b\b\b\b\b\b\b\b\b\b\b\b\b\b\b\b\b\b\b\b\b\b\b\b\b\b\b\b\b\b\b\b\b\b\b\b\b\b\b\b\b\b\b\b\b\b\b\b\b\b\b\b\b\b\r804/804 [==============================] - 3s 4ms/step - loss: 0.5307 - accuracy: 0.7412\n",
            "Epoch 66/150\n",
            "804/804 [==============================] - 3s 3ms/step - loss: 0.5316 - accuracy: 0.7404\n",
            "Epoch 67/150\n",
            "804/804 [==============================] - 3s 4ms/step - loss: 0.5310 - accuracy: 0.7399\n",
            "Epoch 68/150\n",
            "804/804 [==============================] - 4s 5ms/step - loss: 0.5309 - accuracy: 0.7409\n",
            "Epoch 69/150\n",
            "804/804 [==============================] - 3s 4ms/step - loss: 0.5307 - accuracy: 0.7402\n",
            "Epoch 70/150\n",
            "795/804 [============================>.] - ETA: 0s - loss: 0.5308 - accuracy: 0.7412"
          ]
        },
        {
          "output_type": "stream",
          "name": "stderr",
          "text": [
            "WARNING:tensorflow:Can save best model only with val_loss available, skipping.\n"
          ]
        },
        {
          "output_type": "stream",
          "name": "stdout",
          "text": [
            "\b\b\b\b\b\b\b\b\b\b\b\b\b\b\b\b\b\b\b\b\b\b\b\b\b\b\b\b\b\b\b\b\b\b\b\b\b\b\b\b\b\b\b\b\b\b\b\b\b\b\b\b\b\b\b\b\b\b\b\b\b\b\b\b\b\b\b\b\b\b\b\b\b\b\b\b\b\b\b\b\b\b\b\b\r804/804 [==============================] - 3s 4ms/step - loss: 0.5308 - accuracy: 0.7411\n",
            "Epoch 71/150\n",
            "804/804 [==============================] - 3s 4ms/step - loss: 0.5308 - accuracy: 0.7404\n",
            "Epoch 72/150\n",
            "804/804 [==============================] - 4s 5ms/step - loss: 0.5306 - accuracy: 0.7400\n",
            "Epoch 73/150\n",
            "804/804 [==============================] - 3s 4ms/step - loss: 0.5309 - accuracy: 0.7407\n",
            "Epoch 74/150\n",
            "804/804 [==============================] - 3s 4ms/step - loss: 0.5306 - accuracy: 0.7405\n",
            "Epoch 75/150\n",
            "800/804 [============================>.] - ETA: 0s - loss: 0.5307 - accuracy: 0.7400"
          ]
        },
        {
          "output_type": "stream",
          "name": "stderr",
          "text": [
            "WARNING:tensorflow:Can save best model only with val_loss available, skipping.\n"
          ]
        },
        {
          "output_type": "stream",
          "name": "stdout",
          "text": [
            "\b\b\b\b\b\b\b\b\b\b\b\b\b\b\b\b\b\b\b\b\b\b\b\b\b\b\b\b\b\b\b\b\b\b\b\b\b\b\b\b\b\b\b\b\b\b\b\b\b\b\b\b\b\b\b\b\b\b\b\b\b\b\b\b\b\b\b\b\b\b\b\b\b\b\b\b\b\b\b\b\b\b\b\b\r804/804 [==============================] - 3s 4ms/step - loss: 0.5306 - accuracy: 0.7402\n",
            "Epoch 76/150\n",
            "804/804 [==============================] - 3s 4ms/step - loss: 0.5306 - accuracy: 0.7400\n",
            "Epoch 77/150\n",
            "804/804 [==============================] - 3s 4ms/step - loss: 0.5306 - accuracy: 0.7406\n",
            "Epoch 78/150\n",
            "804/804 [==============================] - 3s 3ms/step - loss: 0.5302 - accuracy: 0.7417\n",
            "Epoch 79/150\n",
            "804/804 [==============================] - 3s 4ms/step - loss: 0.5306 - accuracy: 0.7410\n",
            "Epoch 80/150\n",
            "804/804 [==============================] - ETA: 0s - loss: 0.5305 - accuracy: 0.7395"
          ]
        },
        {
          "output_type": "stream",
          "name": "stderr",
          "text": [
            "WARNING:tensorflow:Can save best model only with val_loss available, skipping.\n"
          ]
        },
        {
          "output_type": "stream",
          "name": "stdout",
          "text": [
            "\b\b\b\b\b\b\b\b\b\b\b\b\b\b\b\b\b\b\b\b\b\b\b\b\b\b\b\b\b\b\b\b\b\b\b\b\b\b\b\b\b\b\b\b\b\b\b\b\b\b\b\b\b\b\b\b\b\b\b\b\b\b\b\b\b\b\b\b\b\b\b\b\b\b\b\b\b\b\b\b\b\b\b\b\r804/804 [==============================] - 3s 4ms/step - loss: 0.5305 - accuracy: 0.7395\n",
            "Epoch 81/150\n",
            "804/804 [==============================] - 3s 4ms/step - loss: 0.5304 - accuracy: 0.7404\n",
            "Epoch 82/150\n",
            "804/804 [==============================] - 2s 3ms/step - loss: 0.5304 - accuracy: 0.7407\n",
            "Epoch 83/150\n",
            "804/804 [==============================] - 2s 3ms/step - loss: 0.5305 - accuracy: 0.7408\n",
            "Epoch 84/150\n",
            "804/804 [==============================] - 2s 3ms/step - loss: 0.5308 - accuracy: 0.7411\n",
            "Epoch 85/150\n",
            "799/804 [============================>.] - ETA: 0s - loss: 0.5302 - accuracy: 0.7398"
          ]
        },
        {
          "output_type": "stream",
          "name": "stderr",
          "text": [
            "WARNING:tensorflow:Can save best model only with val_loss available, skipping.\n"
          ]
        },
        {
          "output_type": "stream",
          "name": "stdout",
          "text": [
            "\b\b\b\b\b\b\b\b\b\b\b\b\b\b\b\b\b\b\b\b\b\b\b\b\b\b\b\b\b\b\b\b\b\b\b\b\b\b\b\b\b\b\b\b\b\b\b\b\b\b\b\b\b\b\b\b\b\b\b\b\b\b\b\b\b\b\b\b\b\b\b\b\b\b\b\b\b\b\b\b\b\b\b\b\r804/804 [==============================] - 2s 3ms/step - loss: 0.5302 - accuracy: 0.7396\n",
            "Epoch 86/150\n",
            "804/804 [==============================] - 3s 4ms/step - loss: 0.5299 - accuracy: 0.7409\n",
            "Epoch 87/150\n",
            "804/804 [==============================] - 3s 4ms/step - loss: 0.5300 - accuracy: 0.7393\n",
            "Epoch 88/150\n",
            "804/804 [==============================] - 3s 3ms/step - loss: 0.5304 - accuracy: 0.7412\n",
            "Epoch 89/150\n",
            "804/804 [==============================] - 2s 3ms/step - loss: 0.5304 - accuracy: 0.7403\n",
            "Epoch 90/150\n",
            "791/804 [============================>.] - ETA: 0s - loss: 0.5306 - accuracy: 0.7403"
          ]
        },
        {
          "output_type": "stream",
          "name": "stderr",
          "text": [
            "WARNING:tensorflow:Can save best model only with val_loss available, skipping.\n"
          ]
        },
        {
          "output_type": "stream",
          "name": "stdout",
          "text": [
            "\b\b\b\b\b\b\b\b\b\b\b\b\b\b\b\b\b\b\b\b\b\b\b\b\b\b\b\b\b\b\b\b\b\b\b\b\b\b\b\b\b\b\b\b\b\b\b\b\b\b\b\b\b\b\b\b\b\b\b\b\b\b\b\b\b\b\b\b\b\b\b\b\b\b\b\b\b\b\b\b\b\b\b\b\r804/804 [==============================] - 2s 3ms/step - loss: 0.5305 - accuracy: 0.7403\n",
            "Epoch 91/150\n",
            "804/804 [==============================] - 4s 5ms/step - loss: 0.5302 - accuracy: 0.7401\n",
            "Epoch 92/150\n",
            "804/804 [==============================] - 3s 4ms/step - loss: 0.5296 - accuracy: 0.7407\n",
            "Epoch 93/150\n",
            "804/804 [==============================] - 2s 3ms/step - loss: 0.5297 - accuracy: 0.7405\n",
            "Epoch 94/150\n",
            "804/804 [==============================] - 3s 3ms/step - loss: 0.5298 - accuracy: 0.7393\n",
            "Epoch 95/150\n",
            "798/804 [============================>.] - ETA: 0s - loss: 0.5299 - accuracy: 0.7409"
          ]
        },
        {
          "output_type": "stream",
          "name": "stderr",
          "text": [
            "WARNING:tensorflow:Can save best model only with val_loss available, skipping.\n"
          ]
        },
        {
          "output_type": "stream",
          "name": "stdout",
          "text": [
            "\b\b\b\b\b\b\b\b\b\b\b\b\b\b\b\b\b\b\b\b\b\b\b\b\b\b\b\b\b\b\b\b\b\b\b\b\b\b\b\b\b\b\b\b\b\b\b\b\b\b\b\b\b\b\b\b\b\b\b\b\b\b\b\b\b\b\b\b\b\b\b\b\b\b\b\b\b\b\b\b\b\b\b\b\r804/804 [==============================] - 3s 3ms/step - loss: 0.5302 - accuracy: 0.7407\n",
            "Epoch 96/150\n",
            "804/804 [==============================] - 3s 4ms/step - loss: 0.5298 - accuracy: 0.7407\n",
            "Epoch 97/150\n",
            "804/804 [==============================] - 2s 3ms/step - loss: 0.5302 - accuracy: 0.7413\n",
            "Epoch 98/150\n",
            "804/804 [==============================] - 2s 3ms/step - loss: 0.5299 - accuracy: 0.7407\n",
            "Epoch 99/150\n",
            "804/804 [==============================] - 2s 3ms/step - loss: 0.5298 - accuracy: 0.7414\n",
            "Epoch 100/150\n",
            "802/804 [============================>.] - ETA: 0s - loss: 0.5295 - accuracy: 0.7407"
          ]
        },
        {
          "output_type": "stream",
          "name": "stderr",
          "text": [
            "WARNING:tensorflow:Can save best model only with val_loss available, skipping.\n"
          ]
        },
        {
          "output_type": "stream",
          "name": "stdout",
          "text": [
            "\b\b\b\b\b\b\b\b\b\b\b\b\b\b\b\b\b\b\b\b\b\b\b\b\b\b\b\b\b\b\b\b\b\b\b\b\b\b\b\b\b\b\b\b\b\b\b\b\b\b\b\b\b\b\b\b\b\b\b\b\b\b\b\b\b\b\b\b\b\b\b\b\b\b\b\b\b\b\b\b\b\b\b\b\r804/804 [==============================] - 3s 4ms/step - loss: 0.5294 - accuracy: 0.7407\n",
            "Epoch 101/150\n",
            "804/804 [==============================] - 4s 5ms/step - loss: 0.5299 - accuracy: 0.7413\n",
            "Epoch 102/150\n",
            "804/804 [==============================] - 3s 4ms/step - loss: 0.5294 - accuracy: 0.7413\n",
            "Epoch 103/150\n",
            "804/804 [==============================] - 2s 3ms/step - loss: 0.5299 - accuracy: 0.7413\n",
            "Epoch 104/150\n",
            "804/804 [==============================] - 3s 4ms/step - loss: 0.5305 - accuracy: 0.7404\n",
            "Epoch 105/150\n",
            "795/804 [============================>.] - ETA: 0s - loss: 0.5296 - accuracy: 0.7411"
          ]
        },
        {
          "output_type": "stream",
          "name": "stderr",
          "text": [
            "WARNING:tensorflow:Can save best model only with val_loss available, skipping.\n"
          ]
        },
        {
          "output_type": "stream",
          "name": "stdout",
          "text": [
            "\b\b\b\b\b\b\b\b\b\b\b\b\b\b\b\b\b\b\b\b\b\b\b\b\b\b\b\b\b\b\b\b\b\b\b\b\b\b\b\b\b\b\b\b\b\b\b\b\b\b\b\b\b\b\b\b\b\b\b\b\b\b\b\b\b\b\b\b\b\b\b\b\b\b\b\b\b\b\b\b\b\b\b\b\r804/804 [==============================] - 4s 5ms/step - loss: 0.5297 - accuracy: 0.7411\n",
            "Epoch 106/150\n",
            "804/804 [==============================] - 3s 4ms/step - loss: 0.5293 - accuracy: 0.7409\n",
            "Epoch 107/150\n",
            "804/804 [==============================] - 3s 4ms/step - loss: 0.5292 - accuracy: 0.7407\n",
            "Epoch 108/150\n",
            "804/804 [==============================] - 2s 3ms/step - loss: 0.5295 - accuracy: 0.7412\n",
            "Epoch 109/150\n",
            "804/804 [==============================] - 3s 4ms/step - loss: 0.5297 - accuracy: 0.7410\n",
            "Epoch 110/150\n",
            "799/804 [============================>.] - ETA: 0s - loss: 0.5298 - accuracy: 0.7405"
          ]
        },
        {
          "output_type": "stream",
          "name": "stderr",
          "text": [
            "WARNING:tensorflow:Can save best model only with val_loss available, skipping.\n"
          ]
        },
        {
          "output_type": "stream",
          "name": "stdout",
          "text": [
            "\b\b\b\b\b\b\b\b\b\b\b\b\b\b\b\b\b\b\b\b\b\b\b\b\b\b\b\b\b\b\b\b\b\b\b\b\b\b\b\b\b\b\b\b\b\b\b\b\b\b\b\b\b\b\b\b\b\b\b\b\b\b\b\b\b\b\b\b\b\b\b\b\b\b\b\b\b\b\b\b\b\b\b\b\r804/804 [==============================] - 3s 4ms/step - loss: 0.5298 - accuracy: 0.7406\n",
            "Epoch 111/150\n",
            "804/804 [==============================] - 3s 4ms/step - loss: 0.5296 - accuracy: 0.7410\n",
            "Epoch 112/150\n",
            "804/804 [==============================] - 2s 3ms/step - loss: 0.5296 - accuracy: 0.7410\n",
            "Epoch 113/150\n",
            "804/804 [==============================] - 2s 2ms/step - loss: 0.5293 - accuracy: 0.7414\n",
            "Epoch 114/150\n",
            "804/804 [==============================] - 4s 5ms/step - loss: 0.5293 - accuracy: 0.7420\n",
            "Epoch 115/150\n",
            "803/804 [============================>.] - ETA: 0s - loss: 0.5294 - accuracy: 0.7405"
          ]
        },
        {
          "output_type": "stream",
          "name": "stderr",
          "text": [
            "WARNING:tensorflow:Can save best model only with val_loss available, skipping.\n"
          ]
        },
        {
          "output_type": "stream",
          "name": "stdout",
          "text": [
            "\b\b\b\b\b\b\b\b\b\b\b\b\b\b\b\b\b\b\b\b\b\b\b\b\b\b\b\b\b\b\b\b\b\b\b\b\b\b\b\b\b\b\b\b\b\b\b\b\b\b\b\b\b\b\b\b\b\b\b\b\b\b\b\b\b\b\b\b\b\b\b\b\b\b\b\b\b\b\b\b\b\b\b\b\r804/804 [==============================] - 2s 3ms/step - loss: 0.5294 - accuracy: 0.7405\n",
            "Epoch 116/150\n",
            "804/804 [==============================] - 3s 4ms/step - loss: 0.5289 - accuracy: 0.7414\n",
            "Epoch 117/150\n",
            "804/804 [==============================] - 3s 3ms/step - loss: 0.5293 - accuracy: 0.7414\n",
            "Epoch 118/150\n",
            "804/804 [==============================] - 3s 3ms/step - loss: 0.5291 - accuracy: 0.7411\n",
            "Epoch 119/150\n",
            "804/804 [==============================] - 4s 5ms/step - loss: 0.5290 - accuracy: 0.7412\n",
            "Epoch 120/150\n",
            "799/804 [============================>.] - ETA: 0s - loss: 0.5298 - accuracy: 0.7413"
          ]
        },
        {
          "output_type": "stream",
          "name": "stderr",
          "text": [
            "WARNING:tensorflow:Can save best model only with val_loss available, skipping.\n"
          ]
        },
        {
          "output_type": "stream",
          "name": "stdout",
          "text": [
            "\b\b\b\b\b\b\b\b\b\b\b\b\b\b\b\b\b\b\b\b\b\b\b\b\b\b\b\b\b\b\b\b\b\b\b\b\b\b\b\b\b\b\b\b\b\b\b\b\b\b\b\b\b\b\b\b\b\b\b\b\b\b\b\b\b\b\b\b\b\b\b\b\b\b\b\b\b\b\b\b\b\b\b\b\r804/804 [==============================] - 3s 4ms/step - loss: 0.5296 - accuracy: 0.7414\n",
            "Epoch 121/150\n",
            "804/804 [==============================] - 3s 4ms/step - loss: 0.5293 - accuracy: 0.7408\n",
            "Epoch 122/150\n",
            "804/804 [==============================] - 3s 4ms/step - loss: 0.5295 - accuracy: 0.7405\n",
            "Epoch 123/150\n",
            "804/804 [==============================] - 4s 5ms/step - loss: 0.5295 - accuracy: 0.7399\n",
            "Epoch 124/150\n",
            "804/804 [==============================] - 3s 4ms/step - loss: 0.5293 - accuracy: 0.7409\n",
            "Epoch 125/150\n",
            "797/804 [============================>.] - ETA: 0s - loss: 0.5290 - accuracy: 0.7411"
          ]
        },
        {
          "output_type": "stream",
          "name": "stderr",
          "text": [
            "WARNING:tensorflow:Can save best model only with val_loss available, skipping.\n"
          ]
        },
        {
          "output_type": "stream",
          "name": "stdout",
          "text": [
            "\b\b\b\b\b\b\b\b\b\b\b\b\b\b\b\b\b\b\b\b\b\b\b\b\b\b\b\b\b\b\b\b\b\b\b\b\b\b\b\b\b\b\b\b\b\b\b\b\b\b\b\b\b\b\b\b\b\b\b\b\b\b\b\b\b\b\b\b\b\b\b\b\b\b\b\b\b\b\b\b\b\b\b\b\r804/804 [==============================] - 3s 3ms/step - loss: 0.5290 - accuracy: 0.7414\n",
            "Epoch 126/150\n",
            "804/804 [==============================] - 3s 4ms/step - loss: 0.5295 - accuracy: 0.7411\n",
            "Epoch 127/150\n",
            "804/804 [==============================] - 4s 5ms/step - loss: 0.5296 - accuracy: 0.7414\n",
            "Epoch 128/150\n",
            "804/804 [==============================] - 3s 4ms/step - loss: 0.5289 - accuracy: 0.7407\n",
            "Epoch 129/150\n",
            "804/804 [==============================] - 2s 3ms/step - loss: 0.5290 - accuracy: 0.7408\n",
            "Epoch 130/150\n",
            "796/804 [============================>.] - ETA: 0s - loss: 0.5290 - accuracy: 0.7417"
          ]
        },
        {
          "output_type": "stream",
          "name": "stderr",
          "text": [
            "WARNING:tensorflow:Can save best model only with val_loss available, skipping.\n"
          ]
        },
        {
          "output_type": "stream",
          "name": "stdout",
          "text": [
            "\b\b\b\b\b\b\b\b\b\b\b\b\b\b\b\b\b\b\b\b\b\b\b\b\b\b\b\b\b\b\b\b\b\b\b\b\b\b\b\b\b\b\b\b\b\b\b\b\b\b\b\b\b\b\b\b\b\b\b\b\b\b\b\b\b\b\b\b\b\b\b\b\b\b\b\b\b\b\b\b\b\b\b\b\r804/804 [==============================] - 2s 3ms/step - loss: 0.5291 - accuracy: 0.7416\n",
            "Epoch 131/150\n",
            "804/804 [==============================] - 4s 5ms/step - loss: 0.5291 - accuracy: 0.7417\n",
            "Epoch 132/150\n",
            "804/804 [==============================] - 3s 3ms/step - loss: 0.5289 - accuracy: 0.7411\n",
            "Epoch 133/150\n",
            "804/804 [==============================] - 2s 3ms/step - loss: 0.5292 - accuracy: 0.7407\n",
            "Epoch 134/150\n",
            "804/804 [==============================] - 2s 3ms/step - loss: 0.5289 - accuracy: 0.7417\n",
            "Epoch 135/150\n",
            "791/804 [============================>.] - ETA: 0s - loss: 0.5286 - accuracy: 0.7414"
          ]
        },
        {
          "output_type": "stream",
          "name": "stderr",
          "text": [
            "WARNING:tensorflow:Can save best model only with val_loss available, skipping.\n"
          ]
        },
        {
          "output_type": "stream",
          "name": "stdout",
          "text": [
            "\b\b\b\b\b\b\b\b\b\b\b\b\b\b\b\b\b\b\b\b\b\b\b\b\b\b\b\b\b\b\b\b\b\b\b\b\b\b\b\b\b\b\b\b\b\b\b\b\b\b\b\b\b\b\b\b\b\b\b\b\b\b\b\b\b\b\b\b\b\b\b\b\b\b\b\b\b\b\b\b\b\b\b\b\r804/804 [==============================] - 3s 3ms/step - loss: 0.5286 - accuracy: 0.7416\n",
            "Epoch 136/150\n",
            "804/804 [==============================] - 3s 3ms/step - loss: 0.5292 - accuracy: 0.7406\n",
            "Epoch 137/150\n",
            "804/804 [==============================] - 3s 3ms/step - loss: 0.5294 - accuracy: 0.7407\n",
            "Epoch 138/150\n",
            "804/804 [==============================] - 2s 3ms/step - loss: 0.5289 - accuracy: 0.7416\n",
            "Epoch 139/150\n",
            "804/804 [==============================] - 2s 3ms/step - loss: 0.5292 - accuracy: 0.7405\n",
            "Epoch 140/150\n",
            "802/804 [============================>.] - ETA: 0s - loss: 0.5293 - accuracy: 0.7413"
          ]
        },
        {
          "output_type": "stream",
          "name": "stderr",
          "text": [
            "WARNING:tensorflow:Can save best model only with val_loss available, skipping.\n"
          ]
        },
        {
          "output_type": "stream",
          "name": "stdout",
          "text": [
            "\b\b\b\b\b\b\b\b\b\b\b\b\b\b\b\b\b\b\b\b\b\b\b\b\b\b\b\b\b\b\b\b\b\b\b\b\b\b\b\b\b\b\b\b\b\b\b\b\b\b\b\b\b\b\b\b\b\b\b\b\b\b\b\b\b\b\b\b\b\b\b\b\b\b\b\b\b\b\b\b\b\b\b\b\r804/804 [==============================] - 2s 3ms/step - loss: 0.5293 - accuracy: 0.7412\n",
            "Epoch 141/150\n",
            "804/804 [==============================] - 2s 3ms/step - loss: 0.5292 - accuracy: 0.7410\n",
            "Epoch 142/150\n",
            "804/804 [==============================] - 4s 5ms/step - loss: 0.5290 - accuracy: 0.7428\n",
            "Epoch 143/150\n",
            "804/804 [==============================] - 3s 4ms/step - loss: 0.5288 - accuracy: 0.7420\n",
            "Epoch 144/150\n",
            "804/804 [==============================] - 3s 3ms/step - loss: 0.5294 - accuracy: 0.7408\n",
            "Epoch 145/150\n",
            "803/804 [============================>.] - ETA: 0s - loss: 0.5289 - accuracy: 0.7416"
          ]
        },
        {
          "output_type": "stream",
          "name": "stderr",
          "text": [
            "WARNING:tensorflow:Can save best model only with val_loss available, skipping.\n"
          ]
        },
        {
          "output_type": "stream",
          "name": "stdout",
          "text": [
            "\b\b\b\b\b\b\b\b\b\b\b\b\b\b\b\b\b\b\b\b\b\b\b\b\b\b\b\b\b\b\b\b\b\b\b\b\b\b\b\b\b\b\b\b\b\b\b\b\b\b\b\b\b\b\b\b\b\b\b\b\b\b\b\b\b\b\b\b\b\b\b\b\b\b\b\b\b\b\b\b\b\b\b\b\r804/804 [==============================] - 2s 3ms/step - loss: 0.5288 - accuracy: 0.7416\n",
            "Epoch 146/150\n",
            "804/804 [==============================] - 4s 5ms/step - loss: 0.5294 - accuracy: 0.7406\n",
            "Epoch 147/150\n",
            "804/804 [==============================] - 3s 4ms/step - loss: 0.5292 - accuracy: 0.7400\n",
            "Epoch 148/150\n",
            "804/804 [==============================] - 3s 4ms/step - loss: 0.5288 - accuracy: 0.7414\n",
            "Epoch 149/150\n",
            "804/804 [==============================] - 3s 3ms/step - loss: 0.5289 - accuracy: 0.7420\n",
            "Epoch 150/150\n",
            "799/804 [============================>.] - ETA: 0s - loss: 0.5292 - accuracy: 0.7406"
          ]
        },
        {
          "output_type": "stream",
          "name": "stderr",
          "text": [
            "WARNING:tensorflow:Can save best model only with val_loss available, skipping.\n"
          ]
        },
        {
          "output_type": "stream",
          "name": "stdout",
          "text": [
            "\b\b\b\b\b\b\b\b\b\b\b\b\b\b\b\b\b\b\b\b\b\b\b\b\b\b\b\b\b\b\b\b\b\b\b\b\b\b\b\b\b\b\b\b\b\b\b\b\b\b\b\b\b\b\b\b\b\b\b\b\b\b\b\b\b\b\b\b\b\b\b\b\b\b\b\b\b\b\b\b\b\b\b\b\r804/804 [==============================] - 4s 5ms/step - loss: 0.5290 - accuracy: 0.7407\n"
          ]
        },
        {
          "output_type": "execute_result",
          "data": {
            "text/plain": [
              "<keras.src.callbacks.History at 0x7930be85a4d0>"
            ]
          },
          "metadata": {},
          "execution_count": 31
        }
      ]
    },
    {
      "cell_type": "code",
      "source": [
        " # Evaluate the model using the test data\n",
        "model_loss, model_accuracy = nn.evaluate(X_test_scaled,y_test,verbose=2)\n",
        "print(f\"Loss: {model_loss}, Accuracy: {model_accuracy}\")"
      ],
      "metadata": {
        "colab": {
          "base_uri": "https://localhost:8080/"
        },
        "id": "4E_c31Yh6o0B",
        "outputId": "8dceca36-f474-4bdf-a352-0152cbca4e25"
      },
      "execution_count": null,
      "outputs": [
        {
          "output_type": "stream",
          "name": "stdout",
          "text": [
            "268/268 - 1s - loss: 0.5669 - accuracy: 0.7298 - 643ms/epoch - 2ms/step\n",
            "Loss: 0.5669205784797668, Accuracy: 0.7297959327697754\n"
          ]
        }
      ]
    },
    {
      "cell_type": "code",
      "source": [
        "# saving the model as HDF5 file\n",
        "nn.save(\"AlphabetSoupCharity_Optimization_2.h5\")\n"
      ],
      "metadata": {
        "id": "hBvZ9Tnh6sg0"
      },
      "execution_count": null,
      "outputs": []
    },
    {
      "cell_type": "markdown",
      "source": [
        "### Attempt 3: Steps to Optimize Model\n",
        "\n",
        "1. Adding another hidden layer\n",
        "2. Increasing no. of neurons to 150, 80, and 60 respectively\n",
        "3. Increasing no. of epochs to 150\n",
        "4. Change activation function to tanh\n",
        "5. Removing Classification and Application Type columns"
      ],
      "metadata": {
        "id": "EnXG5laX6z1C"
      }
    },
    {
      "cell_type": "code",
      "source": [
        "# Split our preprocessed data into our features and target arrays\n",
        "X = application_df_encoded.drop(columns='IS_SUCCESSFUL')\n",
        "X = X.drop(columns=application_df_encoded.filter(like='APPLICATION_TYPE').columns)\n",
        "X = X.drop(columns=application_df_encoded.filter(like='CLASSIFICATION').columns)\n",
        "\n",
        "y = application_df_encoded['IS_SUCCESSFUL']\n",
        "\n",
        "# Split the preprocessed data into a training and testing dataset\n",
        "X_train, X_test, y_train, y_test = train_test_split(X,\n",
        "                                                    y,\n",
        "                                                    random_state=1,\n",
        "                                                    stratify=y)\n"
      ],
      "metadata": {
        "id": "-79ZKyaX62mU"
      },
      "execution_count": null,
      "outputs": []
    },
    {
      "cell_type": "code",
      "source": [
        "# Fit the StandardScaler\n",
        "X_scaler = scaler.fit(X_train)\n",
        "\n",
        "# Scale the data\n",
        "X_train_scaled = X_scaler.transform(X_train)\n",
        "X_test_scaled = X_scaler.transform(X_test)"
      ],
      "metadata": {
        "id": "ilHd0x2N67Hi"
      },
      "execution_count": null,
      "outputs": []
    },
    {
      "cell_type": "code",
      "source": [
        "# Define the model - deep neural net, i.e., the number of input features and hidden nodes for each layer.\n",
        "number_input_features = len(X_train_scaled[0])\n",
        "hidden_nodes_layer1 =  150\n",
        "hidden_nodes_layer2 = 80\n",
        "hidden_nodes_layer3 = 60\n",
        "\n",
        "\n",
        "nn = tf.keras.models.Sequential()\n",
        "\n",
        "# First hidden layer\n",
        "nn.add(\n",
        "    tf.keras.layers.Dense(units=hidden_nodes_layer1, input_dim=number_input_features, activation=\"tanh\")\n",
        ")\n",
        "# Second hidden layer\n",
        "nn.add(tf.keras.layers.Dense(units=hidden_nodes_layer2, activation=\"tanh\"))\n",
        "\n",
        "# Third hidden layer\n",
        "nn.add(tf.keras.layers.Dense(units=hidden_nodes_layer3, activation=\"tanh\"))\n",
        "\n",
        "# Output layer\n",
        "nn.add(tf.keras.layers.Dense(units=1, activation=\"sigmoid\"))\n",
        "\n",
        "# Check the structure of the model\n",
        "nn.summary()"
      ],
      "metadata": {
        "colab": {
          "base_uri": "https://localhost:8080/"
        },
        "id": "4F-qzxgC69Kv",
        "outputId": "cd88f9ec-f3a7-46ef-b20d-2ef5d2f62579"
      },
      "execution_count": null,
      "outputs": [
        {
          "output_type": "stream",
          "name": "stdout",
          "text": [
            "Model: \"sequential_4\"\n",
            "_________________________________________________________________\n",
            " Layer (type)                Output Shape              Param #   \n",
            "=================================================================\n",
            " dense_14 (Dense)            (None, 150)               4200      \n",
            "                                                                 \n",
            " dense_15 (Dense)            (None, 80)                12080     \n",
            "                                                                 \n",
            " dense_16 (Dense)            (None, 60)                4860      \n",
            "                                                                 \n",
            " dense_17 (Dense)            (None, 1)                 61        \n",
            "                                                                 \n",
            "=================================================================\n",
            "Total params: 21201 (82.82 KB)\n",
            "Trainable params: 21201 (82.82 KB)\n",
            "Non-trainable params: 0 (0.00 Byte)\n",
            "_________________________________________________________________\n"
          ]
        }
      ]
    },
    {
      "cell_type": "code",
      "source": [
        "# Compile the model\n",
        "nn.compile(loss=\"binary_crossentropy\", optimizer=\"adam\", metrics=[\"accuracy\"])"
      ],
      "metadata": {
        "id": "C6Xt_-O86-_0"
      },
      "execution_count": null,
      "outputs": []
    },
    {
      "cell_type": "code",
      "source": [
        "# Train the model\n",
        "fit_model = nn.fit(X_train_scaled,y_train,epochs=100)"
      ],
      "metadata": {
        "colab": {
          "base_uri": "https://localhost:8080/"
        },
        "id": "j_BSX1SM7BME",
        "outputId": "f421c6a2-9e3b-4ffe-cdee-354c9b28c18c"
      },
      "execution_count": null,
      "outputs": [
        {
          "output_type": "stream",
          "name": "stdout",
          "text": [
            "Epoch 1/100\n",
            "804/804 [==============================] - 4s 3ms/step - loss: 0.6104 - accuracy: 0.6909\n",
            "Epoch 2/100\n",
            "804/804 [==============================] - 2s 3ms/step - loss: 0.6035 - accuracy: 0.6967\n",
            "Epoch 3/100\n",
            "804/804 [==============================] - 4s 5ms/step - loss: 0.6028 - accuracy: 0.6976\n",
            "Epoch 4/100\n",
            "804/804 [==============================] - 3s 4ms/step - loss: 0.6024 - accuracy: 0.6978\n",
            "Epoch 5/100\n",
            "804/804 [==============================] - 3s 3ms/step - loss: 0.6014 - accuracy: 0.6986\n",
            "Epoch 6/100\n",
            "804/804 [==============================] - 3s 3ms/step - loss: 0.6008 - accuracy: 0.6975\n",
            "Epoch 7/100\n",
            "804/804 [==============================] - 3s 3ms/step - loss: 0.5998 - accuracy: 0.6998\n",
            "Epoch 8/100\n",
            "804/804 [==============================] - 3s 4ms/step - loss: 0.5997 - accuracy: 0.6995\n",
            "Epoch 9/100\n",
            "804/804 [==============================] - 3s 4ms/step - loss: 0.5992 - accuracy: 0.7002\n",
            "Epoch 10/100\n",
            "804/804 [==============================] - 2s 3ms/step - loss: 0.5992 - accuracy: 0.6996\n",
            "Epoch 11/100\n",
            "804/804 [==============================] - 2s 3ms/step - loss: 0.5986 - accuracy: 0.6999\n",
            "Epoch 12/100\n",
            "804/804 [==============================] - 3s 3ms/step - loss: 0.5987 - accuracy: 0.7003\n",
            "Epoch 13/100\n",
            "804/804 [==============================] - 3s 4ms/step - loss: 0.5985 - accuracy: 0.7001\n",
            "Epoch 14/100\n",
            "804/804 [==============================] - 2s 2ms/step - loss: 0.5987 - accuracy: 0.6999\n",
            "Epoch 15/100\n",
            "804/804 [==============================] - 2s 3ms/step - loss: 0.5988 - accuracy: 0.6999\n",
            "Epoch 16/100\n",
            "804/804 [==============================] - 3s 3ms/step - loss: 0.5984 - accuracy: 0.7000\n",
            "Epoch 17/100\n",
            "804/804 [==============================] - 3s 4ms/step - loss: 0.5982 - accuracy: 0.7001\n",
            "Epoch 18/100\n",
            "804/804 [==============================] - 4s 4ms/step - loss: 0.5977 - accuracy: 0.7007\n",
            "Epoch 19/100\n",
            "804/804 [==============================] - 3s 4ms/step - loss: 0.5978 - accuracy: 0.6995\n",
            "Epoch 20/100\n",
            "804/804 [==============================] - 3s 4ms/step - loss: 0.5977 - accuracy: 0.7019\n",
            "Epoch 21/100\n",
            "804/804 [==============================] - 3s 4ms/step - loss: 0.5972 - accuracy: 0.7006\n",
            "Epoch 22/100\n",
            "804/804 [==============================] - 3s 4ms/step - loss: 0.5976 - accuracy: 0.7007\n",
            "Epoch 23/100\n",
            "804/804 [==============================] - 3s 4ms/step - loss: 0.5977 - accuracy: 0.7005\n",
            "Epoch 24/100\n",
            "804/804 [==============================] - 3s 4ms/step - loss: 0.5973 - accuracy: 0.7016\n",
            "Epoch 25/100\n",
            "804/804 [==============================] - 3s 4ms/step - loss: 0.5969 - accuracy: 0.7016\n",
            "Epoch 26/100\n",
            "804/804 [==============================] - 4s 5ms/step - loss: 0.5968 - accuracy: 0.7006\n",
            "Epoch 27/100\n",
            "804/804 [==============================] - 3s 4ms/step - loss: 0.5972 - accuracy: 0.7006\n",
            "Epoch 28/100\n",
            "804/804 [==============================] - 2s 3ms/step - loss: 0.5969 - accuracy: 0.7009\n",
            "Epoch 29/100\n",
            "804/804 [==============================] - 3s 4ms/step - loss: 0.5969 - accuracy: 0.7012\n",
            "Epoch 30/100\n",
            "804/804 [==============================] - 4s 5ms/step - loss: 0.5969 - accuracy: 0.7016\n",
            "Epoch 31/100\n",
            "804/804 [==============================] - 3s 4ms/step - loss: 0.5970 - accuracy: 0.7011\n",
            "Epoch 32/100\n",
            "804/804 [==============================] - 3s 3ms/step - loss: 0.5967 - accuracy: 0.7023\n",
            "Epoch 33/100\n",
            "804/804 [==============================] - 2s 3ms/step - loss: 0.5966 - accuracy: 0.7010\n",
            "Epoch 34/100\n",
            "804/804 [==============================] - 4s 5ms/step - loss: 0.5970 - accuracy: 0.7014\n",
            "Epoch 35/100\n",
            "804/804 [==============================] - 4s 5ms/step - loss: 0.5968 - accuracy: 0.7016\n",
            "Epoch 36/100\n",
            "804/804 [==============================] - 3s 4ms/step - loss: 0.5964 - accuracy: 0.7013\n",
            "Epoch 37/100\n",
            "804/804 [==============================] - 3s 3ms/step - loss: 0.5965 - accuracy: 0.7019\n",
            "Epoch 38/100\n",
            "804/804 [==============================] - 2s 3ms/step - loss: 0.5963 - accuracy: 0.7016\n",
            "Epoch 39/100\n",
            "804/804 [==============================] - 4s 5ms/step - loss: 0.5967 - accuracy: 0.7019\n",
            "Epoch 40/100\n",
            "804/804 [==============================] - 3s 4ms/step - loss: 0.5961 - accuracy: 0.7022\n",
            "Epoch 41/100\n",
            "804/804 [==============================] - 3s 4ms/step - loss: 0.5968 - accuracy: 0.7013\n",
            "Epoch 42/100\n",
            "804/804 [==============================] - 2s 3ms/step - loss: 0.5965 - accuracy: 0.7017\n",
            "Epoch 43/100\n",
            "804/804 [==============================] - 4s 5ms/step - loss: 0.5964 - accuracy: 0.7019\n",
            "Epoch 44/100\n",
            "804/804 [==============================] - 3s 3ms/step - loss: 0.5962 - accuracy: 0.7015\n",
            "Epoch 45/100\n",
            "804/804 [==============================] - 2s 2ms/step - loss: 0.5965 - accuracy: 0.7024\n",
            "Epoch 46/100\n",
            "804/804 [==============================] - 2s 3ms/step - loss: 0.5965 - accuracy: 0.7020\n",
            "Epoch 47/100\n",
            "804/804 [==============================] - 2s 3ms/step - loss: 0.5962 - accuracy: 0.7018\n",
            "Epoch 48/100\n",
            "804/804 [==============================] - 4s 5ms/step - loss: 0.5964 - accuracy: 0.7013\n",
            "Epoch 49/100\n",
            "804/804 [==============================] - 3s 3ms/step - loss: 0.5964 - accuracy: 0.7016\n",
            "Epoch 50/100\n",
            "804/804 [==============================] - 2s 2ms/step - loss: 0.5962 - accuracy: 0.7022\n",
            "Epoch 51/100\n",
            "804/804 [==============================] - 3s 3ms/step - loss: 0.5966 - accuracy: 0.7020\n",
            "Epoch 52/100\n",
            "804/804 [==============================] - 2s 2ms/step - loss: 0.5964 - accuracy: 0.7016\n",
            "Epoch 53/100\n",
            "804/804 [==============================] - 3s 4ms/step - loss: 0.5965 - accuracy: 0.7017\n",
            "Epoch 54/100\n",
            "804/804 [==============================] - 3s 3ms/step - loss: 0.5963 - accuracy: 0.7021\n",
            "Epoch 55/100\n",
            "804/804 [==============================] - 2s 2ms/step - loss: 0.5965 - accuracy: 0.7023\n",
            "Epoch 56/100\n",
            "804/804 [==============================] - 2s 3ms/step - loss: 0.5960 - accuracy: 0.7022\n",
            "Epoch 57/100\n",
            "804/804 [==============================] - 2s 3ms/step - loss: 0.5962 - accuracy: 0.7018\n",
            "Epoch 58/100\n",
            "804/804 [==============================] - 2s 3ms/step - loss: 0.5959 - accuracy: 0.7018\n",
            "Epoch 59/100\n",
            "804/804 [==============================] - 4s 4ms/step - loss: 0.5960 - accuracy: 0.7020\n",
            "Epoch 60/100\n",
            "804/804 [==============================] - 2s 3ms/step - loss: 0.5965 - accuracy: 0.7019\n",
            "Epoch 61/100\n",
            "804/804 [==============================] - 2s 3ms/step - loss: 0.5961 - accuracy: 0.7026\n",
            "Epoch 62/100\n",
            "804/804 [==============================] - 3s 3ms/step - loss: 0.5961 - accuracy: 0.7021\n",
            "Epoch 63/100\n",
            "804/804 [==============================] - 3s 3ms/step - loss: 0.5962 - accuracy: 0.7024\n",
            "Epoch 64/100\n",
            "804/804 [==============================] - 3s 4ms/step - loss: 0.5961 - accuracy: 0.7024\n",
            "Epoch 65/100\n",
            "804/804 [==============================] - 2s 3ms/step - loss: 0.5960 - accuracy: 0.7020\n",
            "Epoch 66/100\n",
            "804/804 [==============================] - 3s 4ms/step - loss: 0.5960 - accuracy: 0.7016\n",
            "Epoch 67/100\n",
            "804/804 [==============================] - 3s 3ms/step - loss: 0.5963 - accuracy: 0.7015\n",
            "Epoch 68/100\n",
            "804/804 [==============================] - 3s 4ms/step - loss: 0.5958 - accuracy: 0.7020\n",
            "Epoch 69/100\n",
            "804/804 [==============================] - 4s 5ms/step - loss: 0.5959 - accuracy: 0.7021\n",
            "Epoch 70/100\n",
            "804/804 [==============================] - 3s 4ms/step - loss: 0.5959 - accuracy: 0.7021\n",
            "Epoch 71/100\n",
            "804/804 [==============================] - 3s 4ms/step - loss: 0.5960 - accuracy: 0.7025\n",
            "Epoch 72/100\n",
            "804/804 [==============================] - 4s 4ms/step - loss: 0.5961 - accuracy: 0.7023\n",
            "Epoch 73/100\n",
            "804/804 [==============================] - 4s 4ms/step - loss: 0.5964 - accuracy: 0.7016\n",
            "Epoch 74/100\n",
            "804/804 [==============================] - 3s 4ms/step - loss: 0.5960 - accuracy: 0.7016\n",
            "Epoch 75/100\n",
            "804/804 [==============================] - 2s 3ms/step - loss: 0.5959 - accuracy: 0.7023\n",
            "Epoch 76/100\n",
            "804/804 [==============================] - 3s 3ms/step - loss: 0.5960 - accuracy: 0.7016\n",
            "Epoch 77/100\n",
            "804/804 [==============================] - 4s 5ms/step - loss: 0.5958 - accuracy: 0.7017\n",
            "Epoch 78/100\n",
            "804/804 [==============================] - 3s 4ms/step - loss: 0.5959 - accuracy: 0.7013\n",
            "Epoch 79/100\n",
            "804/804 [==============================] - 3s 4ms/step - loss: 0.5957 - accuracy: 0.7019\n",
            "Epoch 80/100\n",
            "804/804 [==============================] - 3s 4ms/step - loss: 0.5956 - accuracy: 0.7020\n",
            "Epoch 81/100\n",
            "804/804 [==============================] - 4s 5ms/step - loss: 0.5959 - accuracy: 0.7026\n",
            "Epoch 82/100\n",
            "804/804 [==============================] - 2s 3ms/step - loss: 0.5958 - accuracy: 0.7017\n",
            "Epoch 83/100\n",
            "804/804 [==============================] - 2s 3ms/step - loss: 0.5957 - accuracy: 0.7021\n",
            "Epoch 84/100\n",
            "804/804 [==============================] - 3s 3ms/step - loss: 0.5956 - accuracy: 0.7022\n",
            "Epoch 85/100\n",
            "804/804 [==============================] - 2s 3ms/step - loss: 0.5957 - accuracy: 0.7023\n",
            "Epoch 86/100\n",
            "804/804 [==============================] - 3s 4ms/step - loss: 0.5960 - accuracy: 0.7018\n",
            "Epoch 87/100\n",
            "804/804 [==============================] - 3s 4ms/step - loss: 0.5961 - accuracy: 0.7023\n",
            "Epoch 88/100\n",
            "804/804 [==============================] - 2s 3ms/step - loss: 0.5959 - accuracy: 0.7020\n",
            "Epoch 89/100\n",
            "804/804 [==============================] - 3s 4ms/step - loss: 0.5959 - accuracy: 0.7019\n",
            "Epoch 90/100\n",
            "804/804 [==============================] - 3s 4ms/step - loss: 0.5960 - accuracy: 0.7019\n",
            "Epoch 91/100\n",
            "804/804 [==============================] - 3s 4ms/step - loss: 0.5957 - accuracy: 0.7018\n",
            "Epoch 92/100\n",
            "804/804 [==============================] - 2s 2ms/step - loss: 0.5956 - accuracy: 0.7017\n",
            "Epoch 93/100\n",
            "804/804 [==============================] - 3s 3ms/step - loss: 0.5961 - accuracy: 0.7018\n",
            "Epoch 94/100\n",
            "804/804 [==============================] - 2s 3ms/step - loss: 0.5961 - accuracy: 0.7018\n",
            "Epoch 95/100\n",
            "804/804 [==============================] - 3s 4ms/step - loss: 0.5960 - accuracy: 0.7017\n",
            "Epoch 96/100\n",
            "804/804 [==============================] - 3s 4ms/step - loss: 0.5958 - accuracy: 0.7017\n",
            "Epoch 97/100\n",
            "804/804 [==============================] - 3s 4ms/step - loss: 0.5957 - accuracy: 0.7017\n",
            "Epoch 98/100\n",
            "804/804 [==============================] - 2s 3ms/step - loss: 0.5956 - accuracy: 0.7025\n",
            "Epoch 99/100\n",
            "804/804 [==============================] - 2s 3ms/step - loss: 0.5956 - accuracy: 0.7023\n",
            "Epoch 100/100\n",
            "804/804 [==============================] - 2s 3ms/step - loss: 0.5956 - accuracy: 0.7023\n"
          ]
        }
      ]
    },
    {
      "cell_type": "code",
      "source": [
        "# Evaluate the model using the test data\n",
        "model_loss, model_accuracy = nn.evaluate(X_test_scaled,y_test,verbose=2)\n",
        "print(f\"Loss: {model_loss}, Accuracy: {model_accuracy}\")"
      ],
      "metadata": {
        "colab": {
          "base_uri": "https://localhost:8080/"
        },
        "id": "2tVnH9E37DE3",
        "outputId": "47292020-c9d7-4929-f8fc-40dcc4e7e187"
      },
      "execution_count": null,
      "outputs": [
        {
          "output_type": "stream",
          "name": "stdout",
          "text": [
            "268/268 - 1s - loss: 0.6017 - accuracy: 0.6982 - 527ms/epoch - 2ms/step\n",
            "Loss: 0.601708710193634, Accuracy: 0.6981924176216125\n"
          ]
        }
      ]
    },
    {
      "cell_type": "code",
      "source": [
        "# Saving the model\n",
        "nn.save(\"AlphabetSoupCharity_Optimization_3.h5\")"
      ],
      "metadata": {
        "colab": {
          "base_uri": "https://localhost:8080/"
        },
        "id": "6FOq_rXB7G1b",
        "outputId": "15810438-6bad-4ad0-def2-505ce199d613"
      },
      "execution_count": null,
      "outputs": [
        {
          "output_type": "stream",
          "name": "stderr",
          "text": [
            "/usr/local/lib/python3.10/dist-packages/keras/src/engine/training.py:3079: UserWarning: You are saving your model as an HDF5 file via `model.save()`. This file format is considered legacy. We recommend using instead the native Keras format, e.g. `model.save('my_model.keras')`.\n",
            "  saving_api.save_model(\n"
          ]
        }
      ]
    },
    {
      "cell_type": "markdown",
      "source": [
        "## Using Keras Tuner to optimize model"
      ],
      "metadata": {
        "id": "dVZJ0Byx7Nle"
      }
    },
    {
      "cell_type": "code",
      "source": [
        "# Create a method that creates a new Sequential model with hyperparameter options\n",
        "def create_model(hp):\n",
        "    nn_model = tf.keras.models.Sequential()\n",
        "\n",
        "    # Allow kerastuner to decide which activation function to use in hidden layers\n",
        "    activation = hp.Choice('activation',['relu','tanh','sigmoid'])\n",
        "\n",
        "    # Allow kerastuner to decide number of neurons in first layer\n",
        "    nn_model.add(tf.keras.layers.Dense(units=hp.Int('first_units',\n",
        "        min_value=1,\n",
        "        max_value=150,\n",
        "        step=10), activation=activation, input_dim=43))\n",
        "\n",
        "     # Allow kerastuner to decide number of hidden layers and neurons in hidden layers\n",
        "    for i in range(hp.Int('num_layers', 1, 6)):\n",
        "        nn_model.add(tf.keras.layers.Dense(units=hp.Int('units_' + str(i),\n",
        "            min_value=1,\n",
        "            max_value=80,\n",
        "            step=5),\n",
        "            activation=activation))\n",
        "\n",
        "    nn_model.add(tf.keras.layers.Dense(units=1, activation=\"sigmoid\"))\n",
        "\n",
        "    # Compile the model\n",
        "    nn_model.compile(loss=\"binary_crossentropy\", optimizer='adam', metrics=[\"accuracy\"])\n",
        "\n",
        "    return nn_model"
      ],
      "metadata": {
        "id": "CiTqoB53mCAw"
      },
      "execution_count": null,
      "outputs": []
    },
    {
      "cell_type": "code",
      "source": [
        "tuner = kt.Hyperband(\n",
        "    create_model,\n",
        "    objective=\"val_accuracy\",\n",
        "    max_epochs=30,\n",
        "    hyperband_iterations=2)\n",
        "\n",
        "\n",
        "# Run the kerastuner search for best hyperparameters\n",
        "tuner.search(X_train_scaled,y_train,epochs=20,validation_data=(X_test_scaled,y_test))\n",
        "\n",
        "# Get best model hyperparameters\n",
        "best_hyper = tuner.get_best_hyperparameters(1)[0]\n",
        "best_hyper.values\n",
        "\n",
        "# Evaluate best model against full test data\n",
        "best_model = tuner.get_best_models(1)[0]\n",
        "model_loss, model_accuracy = best_model.evaluate(X_test_scaled,y_test,verbose=2)\n",
        "print(f\"Loss: {model_loss}, Accuracy: {model_accuracy}\")"
      ],
      "metadata": {
        "colab": {
          "base_uri": "https://localhost:8080/",
          "height": 825
        },
        "id": "Vk6qixjvmTr5",
        "outputId": "cde07057-2c0e-4028-b1c4-62d21d93fd25"
      },
      "execution_count": null,
      "outputs": [
        {
          "output_type": "stream",
          "name": "stdout",
          "text": [
            "Trial 179 Complete [00h 02m 28s]\n",
            "val_accuracy: 0.7321282625198364\n",
            "\n",
            "Best val_accuracy So Far: 0.7329446077346802\n",
            "Total elapsed time: 01h 32m 42s\n",
            "\n",
            "Search: Running Trial #180\n",
            "\n",
            "Value             |Best Value So Far |Hyperparameter\n",
            "sigmoid           |relu              |activation\n",
            "41                |141               |first_units\n",
            "1                 |3                 |num_layers\n",
            "6                 |41                |units_0\n",
            "16                |6                 |units_1\n",
            "56                |51                |units_2\n",
            "71                |71                |units_3\n",
            "26                |16                |units_4\n",
            "6                 |21                |units_5\n",
            "30                |30                |tuner/epochs\n",
            "0                 |0                 |tuner/initial_epoch\n",
            "0                 |0                 |tuner/bracket\n",
            "0                 |0                 |tuner/round\n",
            "\n",
            "Epoch 1/30\n",
            "803/804 [============================>.] - ETA: 0s - loss: 0.6049 - accuracy: 0.6980"
          ]
        },
        {
          "output_type": "error",
          "ename": "KeyboardInterrupt",
          "evalue": "ignored",
          "traceback": [
            "\u001b[0;31m---------------------------------------------------------------------------\u001b[0m",
            "\u001b[0;31mKeyboardInterrupt\u001b[0m                         Traceback (most recent call last)",
            "\u001b[0;32m<ipython-input-4-8b71dbbec223>\u001b[0m in \u001b[0;36m<cell line: 9>\u001b[0;34m()\u001b[0m\n\u001b[1;32m      7\u001b[0m \u001b[0;34m\u001b[0m\u001b[0m\n\u001b[1;32m      8\u001b[0m \u001b[0;31m# Run the kerastuner search for best hyperparameters\u001b[0m\u001b[0;34m\u001b[0m\u001b[0;34m\u001b[0m\u001b[0m\n\u001b[0;32m----> 9\u001b[0;31m \u001b[0mtuner\u001b[0m\u001b[0;34m.\u001b[0m\u001b[0msearch\u001b[0m\u001b[0;34m(\u001b[0m\u001b[0mX_train_scaled\u001b[0m\u001b[0;34m,\u001b[0m\u001b[0my_train\u001b[0m\u001b[0;34m,\u001b[0m\u001b[0mepochs\u001b[0m\u001b[0;34m=\u001b[0m\u001b[0;36m20\u001b[0m\u001b[0;34m,\u001b[0m\u001b[0mvalidation_data\u001b[0m\u001b[0;34m=\u001b[0m\u001b[0;34m(\u001b[0m\u001b[0mX_test_scaled\u001b[0m\u001b[0;34m,\u001b[0m\u001b[0my_test\u001b[0m\u001b[0;34m)\u001b[0m\u001b[0;34m)\u001b[0m\u001b[0;34m\u001b[0m\u001b[0;34m\u001b[0m\u001b[0m\n\u001b[0m\u001b[1;32m     10\u001b[0m \u001b[0;34m\u001b[0m\u001b[0m\n\u001b[1;32m     11\u001b[0m \u001b[0;31m# Get best model hyperparameters\u001b[0m\u001b[0;34m\u001b[0m\u001b[0;34m\u001b[0m\u001b[0m\n",
            "\u001b[0;32m/usr/local/lib/python3.10/dist-packages/keras_tuner/src/engine/base_tuner.py\u001b[0m in \u001b[0;36msearch\u001b[0;34m(self, *fit_args, **fit_kwargs)\u001b[0m\n\u001b[1;32m    231\u001b[0m \u001b[0;34m\u001b[0m\u001b[0m\n\u001b[1;32m    232\u001b[0m             \u001b[0mself\u001b[0m\u001b[0;34m.\u001b[0m\u001b[0mon_trial_begin\u001b[0m\u001b[0;34m(\u001b[0m\u001b[0mtrial\u001b[0m\u001b[0;34m)\u001b[0m\u001b[0;34m\u001b[0m\u001b[0;34m\u001b[0m\u001b[0m\n\u001b[0;32m--> 233\u001b[0;31m             \u001b[0mself\u001b[0m\u001b[0;34m.\u001b[0m\u001b[0m_try_run_and_update_trial\u001b[0m\u001b[0;34m(\u001b[0m\u001b[0mtrial\u001b[0m\u001b[0;34m,\u001b[0m \u001b[0;34m*\u001b[0m\u001b[0mfit_args\u001b[0m\u001b[0;34m,\u001b[0m \u001b[0;34m**\u001b[0m\u001b[0mfit_kwargs\u001b[0m\u001b[0;34m)\u001b[0m\u001b[0;34m\u001b[0m\u001b[0;34m\u001b[0m\u001b[0m\n\u001b[0m\u001b[1;32m    234\u001b[0m             \u001b[0mself\u001b[0m\u001b[0;34m.\u001b[0m\u001b[0mon_trial_end\u001b[0m\u001b[0;34m(\u001b[0m\u001b[0mtrial\u001b[0m\u001b[0;34m)\u001b[0m\u001b[0;34m\u001b[0m\u001b[0;34m\u001b[0m\u001b[0m\n\u001b[1;32m    235\u001b[0m         \u001b[0mself\u001b[0m\u001b[0;34m.\u001b[0m\u001b[0mon_search_end\u001b[0m\u001b[0;34m(\u001b[0m\u001b[0;34m)\u001b[0m\u001b[0;34m\u001b[0m\u001b[0;34m\u001b[0m\u001b[0m\n",
            "\u001b[0;32m/usr/local/lib/python3.10/dist-packages/keras_tuner/src/engine/base_tuner.py\u001b[0m in \u001b[0;36m_try_run_and_update_trial\u001b[0;34m(self, trial, *fit_args, **fit_kwargs)\u001b[0m\n\u001b[1;32m    271\u001b[0m     \u001b[0;32mdef\u001b[0m \u001b[0m_try_run_and_update_trial\u001b[0m\u001b[0;34m(\u001b[0m\u001b[0mself\u001b[0m\u001b[0;34m,\u001b[0m \u001b[0mtrial\u001b[0m\u001b[0;34m,\u001b[0m \u001b[0;34m*\u001b[0m\u001b[0mfit_args\u001b[0m\u001b[0;34m,\u001b[0m \u001b[0;34m**\u001b[0m\u001b[0mfit_kwargs\u001b[0m\u001b[0;34m)\u001b[0m\u001b[0;34m:\u001b[0m\u001b[0;34m\u001b[0m\u001b[0;34m\u001b[0m\u001b[0m\n\u001b[1;32m    272\u001b[0m         \u001b[0;32mtry\u001b[0m\u001b[0;34m:\u001b[0m\u001b[0;34m\u001b[0m\u001b[0;34m\u001b[0m\u001b[0m\n\u001b[0;32m--> 273\u001b[0;31m             \u001b[0mself\u001b[0m\u001b[0;34m.\u001b[0m\u001b[0m_run_and_update_trial\u001b[0m\u001b[0;34m(\u001b[0m\u001b[0mtrial\u001b[0m\u001b[0;34m,\u001b[0m \u001b[0;34m*\u001b[0m\u001b[0mfit_args\u001b[0m\u001b[0;34m,\u001b[0m \u001b[0;34m**\u001b[0m\u001b[0mfit_kwargs\u001b[0m\u001b[0;34m)\u001b[0m\u001b[0;34m\u001b[0m\u001b[0;34m\u001b[0m\u001b[0m\n\u001b[0m\u001b[1;32m    274\u001b[0m             \u001b[0mtrial\u001b[0m\u001b[0;34m.\u001b[0m\u001b[0mstatus\u001b[0m \u001b[0;34m=\u001b[0m \u001b[0mtrial_module\u001b[0m\u001b[0;34m.\u001b[0m\u001b[0mTrialStatus\u001b[0m\u001b[0;34m.\u001b[0m\u001b[0mCOMPLETED\u001b[0m\u001b[0;34m\u001b[0m\u001b[0;34m\u001b[0m\u001b[0m\n\u001b[1;32m    275\u001b[0m             \u001b[0;32mreturn\u001b[0m\u001b[0;34m\u001b[0m\u001b[0;34m\u001b[0m\u001b[0m\n",
            "\u001b[0;32m/usr/local/lib/python3.10/dist-packages/keras_tuner/src/engine/base_tuner.py\u001b[0m in \u001b[0;36m_run_and_update_trial\u001b[0;34m(self, trial, *fit_args, **fit_kwargs)\u001b[0m\n\u001b[1;32m    236\u001b[0m \u001b[0;34m\u001b[0m\u001b[0m\n\u001b[1;32m    237\u001b[0m     \u001b[0;32mdef\u001b[0m \u001b[0m_run_and_update_trial\u001b[0m\u001b[0;34m(\u001b[0m\u001b[0mself\u001b[0m\u001b[0;34m,\u001b[0m \u001b[0mtrial\u001b[0m\u001b[0;34m,\u001b[0m \u001b[0;34m*\u001b[0m\u001b[0mfit_args\u001b[0m\u001b[0;34m,\u001b[0m \u001b[0;34m**\u001b[0m\u001b[0mfit_kwargs\u001b[0m\u001b[0;34m)\u001b[0m\u001b[0;34m:\u001b[0m\u001b[0;34m\u001b[0m\u001b[0;34m\u001b[0m\u001b[0m\n\u001b[0;32m--> 238\u001b[0;31m         \u001b[0mresults\u001b[0m \u001b[0;34m=\u001b[0m \u001b[0mself\u001b[0m\u001b[0;34m.\u001b[0m\u001b[0mrun_trial\u001b[0m\u001b[0;34m(\u001b[0m\u001b[0mtrial\u001b[0m\u001b[0;34m,\u001b[0m \u001b[0;34m*\u001b[0m\u001b[0mfit_args\u001b[0m\u001b[0;34m,\u001b[0m \u001b[0;34m**\u001b[0m\u001b[0mfit_kwargs\u001b[0m\u001b[0;34m)\u001b[0m\u001b[0;34m\u001b[0m\u001b[0;34m\u001b[0m\u001b[0m\n\u001b[0m\u001b[1;32m    239\u001b[0m         if self.oracle.get_trial(trial.trial_id).metrics.exists(\n\u001b[1;32m    240\u001b[0m             \u001b[0mself\u001b[0m\u001b[0;34m.\u001b[0m\u001b[0moracle\u001b[0m\u001b[0;34m.\u001b[0m\u001b[0mobjective\u001b[0m\u001b[0;34m.\u001b[0m\u001b[0mname\u001b[0m\u001b[0;34m\u001b[0m\u001b[0;34m\u001b[0m\u001b[0m\n",
            "\u001b[0;32m/usr/local/lib/python3.10/dist-packages/keras_tuner/src/tuners/hyperband.py\u001b[0m in \u001b[0;36mrun_trial\u001b[0;34m(self, trial, *fit_args, **fit_kwargs)\u001b[0m\n\u001b[1;32m    425\u001b[0m             \u001b[0mfit_kwargs\u001b[0m\u001b[0;34m[\u001b[0m\u001b[0;34m\"epochs\"\u001b[0m\u001b[0;34m]\u001b[0m \u001b[0;34m=\u001b[0m \u001b[0mhp\u001b[0m\u001b[0;34m.\u001b[0m\u001b[0mvalues\u001b[0m\u001b[0;34m[\u001b[0m\u001b[0;34m\"tuner/epochs\"\u001b[0m\u001b[0;34m]\u001b[0m\u001b[0;34m\u001b[0m\u001b[0;34m\u001b[0m\u001b[0m\n\u001b[1;32m    426\u001b[0m             \u001b[0mfit_kwargs\u001b[0m\u001b[0;34m[\u001b[0m\u001b[0;34m\"initial_epoch\"\u001b[0m\u001b[0;34m]\u001b[0m \u001b[0;34m=\u001b[0m \u001b[0mhp\u001b[0m\u001b[0;34m.\u001b[0m\u001b[0mvalues\u001b[0m\u001b[0;34m[\u001b[0m\u001b[0;34m\"tuner/initial_epoch\"\u001b[0m\u001b[0;34m]\u001b[0m\u001b[0;34m\u001b[0m\u001b[0;34m\u001b[0m\u001b[0m\n\u001b[0;32m--> 427\u001b[0;31m         \u001b[0;32mreturn\u001b[0m \u001b[0msuper\u001b[0m\u001b[0;34m(\u001b[0m\u001b[0;34m)\u001b[0m\u001b[0;34m.\u001b[0m\u001b[0mrun_trial\u001b[0m\u001b[0;34m(\u001b[0m\u001b[0mtrial\u001b[0m\u001b[0;34m,\u001b[0m \u001b[0;34m*\u001b[0m\u001b[0mfit_args\u001b[0m\u001b[0;34m,\u001b[0m \u001b[0;34m**\u001b[0m\u001b[0mfit_kwargs\u001b[0m\u001b[0;34m)\u001b[0m\u001b[0;34m\u001b[0m\u001b[0;34m\u001b[0m\u001b[0m\n\u001b[0m\u001b[1;32m    428\u001b[0m \u001b[0;34m\u001b[0m\u001b[0m\n\u001b[1;32m    429\u001b[0m     \u001b[0;32mdef\u001b[0m \u001b[0m_build_hypermodel\u001b[0m\u001b[0;34m(\u001b[0m\u001b[0mself\u001b[0m\u001b[0;34m,\u001b[0m \u001b[0mhp\u001b[0m\u001b[0;34m)\u001b[0m\u001b[0;34m:\u001b[0m\u001b[0;34m\u001b[0m\u001b[0;34m\u001b[0m\u001b[0m\n",
            "\u001b[0;32m/usr/local/lib/python3.10/dist-packages/keras_tuner/src/engine/tuner.py\u001b[0m in \u001b[0;36mrun_trial\u001b[0;34m(self, trial, *args, **kwargs)\u001b[0m\n\u001b[1;32m    312\u001b[0m             \u001b[0mcallbacks\u001b[0m\u001b[0;34m.\u001b[0m\u001b[0mappend\u001b[0m\u001b[0;34m(\u001b[0m\u001b[0mmodel_checkpoint\u001b[0m\u001b[0;34m)\u001b[0m\u001b[0;34m\u001b[0m\u001b[0;34m\u001b[0m\u001b[0m\n\u001b[1;32m    313\u001b[0m             \u001b[0mcopied_kwargs\u001b[0m\u001b[0;34m[\u001b[0m\u001b[0;34m\"callbacks\"\u001b[0m\u001b[0;34m]\u001b[0m \u001b[0;34m=\u001b[0m \u001b[0mcallbacks\u001b[0m\u001b[0;34m\u001b[0m\u001b[0;34m\u001b[0m\u001b[0m\n\u001b[0;32m--> 314\u001b[0;31m             \u001b[0mobj_value\u001b[0m \u001b[0;34m=\u001b[0m \u001b[0mself\u001b[0m\u001b[0;34m.\u001b[0m\u001b[0m_build_and_fit_model\u001b[0m\u001b[0;34m(\u001b[0m\u001b[0mtrial\u001b[0m\u001b[0;34m,\u001b[0m \u001b[0;34m*\u001b[0m\u001b[0margs\u001b[0m\u001b[0;34m,\u001b[0m \u001b[0;34m**\u001b[0m\u001b[0mcopied_kwargs\u001b[0m\u001b[0;34m)\u001b[0m\u001b[0;34m\u001b[0m\u001b[0;34m\u001b[0m\u001b[0m\n\u001b[0m\u001b[1;32m    315\u001b[0m \u001b[0;34m\u001b[0m\u001b[0m\n\u001b[1;32m    316\u001b[0m             \u001b[0mhistories\u001b[0m\u001b[0;34m.\u001b[0m\u001b[0mappend\u001b[0m\u001b[0;34m(\u001b[0m\u001b[0mobj_value\u001b[0m\u001b[0;34m)\u001b[0m\u001b[0;34m\u001b[0m\u001b[0;34m\u001b[0m\u001b[0m\n",
            "\u001b[0;32m/usr/local/lib/python3.10/dist-packages/keras_tuner/src/engine/tuner.py\u001b[0m in \u001b[0;36m_build_and_fit_model\u001b[0;34m(self, trial, *args, **kwargs)\u001b[0m\n\u001b[1;32m    231\u001b[0m         \u001b[0mhp\u001b[0m \u001b[0;34m=\u001b[0m \u001b[0mtrial\u001b[0m\u001b[0;34m.\u001b[0m\u001b[0mhyperparameters\u001b[0m\u001b[0;34m\u001b[0m\u001b[0;34m\u001b[0m\u001b[0m\n\u001b[1;32m    232\u001b[0m         \u001b[0mmodel\u001b[0m \u001b[0;34m=\u001b[0m \u001b[0mself\u001b[0m\u001b[0;34m.\u001b[0m\u001b[0m_try_build\u001b[0m\u001b[0;34m(\u001b[0m\u001b[0mhp\u001b[0m\u001b[0;34m)\u001b[0m\u001b[0;34m\u001b[0m\u001b[0;34m\u001b[0m\u001b[0m\n\u001b[0;32m--> 233\u001b[0;31m         \u001b[0mresults\u001b[0m \u001b[0;34m=\u001b[0m \u001b[0mself\u001b[0m\u001b[0;34m.\u001b[0m\u001b[0mhypermodel\u001b[0m\u001b[0;34m.\u001b[0m\u001b[0mfit\u001b[0m\u001b[0;34m(\u001b[0m\u001b[0mhp\u001b[0m\u001b[0;34m,\u001b[0m \u001b[0mmodel\u001b[0m\u001b[0;34m,\u001b[0m \u001b[0;34m*\u001b[0m\u001b[0margs\u001b[0m\u001b[0;34m,\u001b[0m \u001b[0;34m**\u001b[0m\u001b[0mkwargs\u001b[0m\u001b[0;34m)\u001b[0m\u001b[0;34m\u001b[0m\u001b[0;34m\u001b[0m\u001b[0m\n\u001b[0m\u001b[1;32m    234\u001b[0m \u001b[0;34m\u001b[0m\u001b[0m\n\u001b[1;32m    235\u001b[0m         \u001b[0;31m# Save the build config for model loading later.\u001b[0m\u001b[0;34m\u001b[0m\u001b[0;34m\u001b[0m\u001b[0m\n",
            "\u001b[0;32m/usr/local/lib/python3.10/dist-packages/keras_tuner/src/engine/hypermodel.py\u001b[0m in \u001b[0;36mfit\u001b[0;34m(self, hp, model, *args, **kwargs)\u001b[0m\n\u001b[1;32m    147\u001b[0m             \u001b[0mIf\u001b[0m \u001b[0;32mreturn\u001b[0m \u001b[0ma\u001b[0m \u001b[0mfloat\u001b[0m\u001b[0;34m,\u001b[0m \u001b[0mit\u001b[0m \u001b[0mshould\u001b[0m \u001b[0mbe\u001b[0m \u001b[0mthe\u001b[0m\u001b[0;31m \u001b[0m\u001b[0;31m`\u001b[0m\u001b[0mobjective\u001b[0m\u001b[0;31m`\u001b[0m \u001b[0mvalue\u001b[0m\u001b[0;34m.\u001b[0m\u001b[0;34m\u001b[0m\u001b[0;34m\u001b[0m\u001b[0m\n\u001b[1;32m    148\u001b[0m         \"\"\"\n\u001b[0;32m--> 149\u001b[0;31m         \u001b[0;32mreturn\u001b[0m \u001b[0mmodel\u001b[0m\u001b[0;34m.\u001b[0m\u001b[0mfit\u001b[0m\u001b[0;34m(\u001b[0m\u001b[0;34m*\u001b[0m\u001b[0margs\u001b[0m\u001b[0;34m,\u001b[0m \u001b[0;34m**\u001b[0m\u001b[0mkwargs\u001b[0m\u001b[0;34m)\u001b[0m\u001b[0;34m\u001b[0m\u001b[0;34m\u001b[0m\u001b[0m\n\u001b[0m\u001b[1;32m    150\u001b[0m \u001b[0;34m\u001b[0m\u001b[0m\n\u001b[1;32m    151\u001b[0m \u001b[0;34m\u001b[0m\u001b[0m\n",
            "\u001b[0;32m/usr/local/lib/python3.10/dist-packages/keras/src/utils/traceback_utils.py\u001b[0m in \u001b[0;36merror_handler\u001b[0;34m(*args, **kwargs)\u001b[0m\n\u001b[1;32m     63\u001b[0m         \u001b[0mfiltered_tb\u001b[0m \u001b[0;34m=\u001b[0m \u001b[0;32mNone\u001b[0m\u001b[0;34m\u001b[0m\u001b[0;34m\u001b[0m\u001b[0m\n\u001b[1;32m     64\u001b[0m         \u001b[0;32mtry\u001b[0m\u001b[0;34m:\u001b[0m\u001b[0;34m\u001b[0m\u001b[0;34m\u001b[0m\u001b[0m\n\u001b[0;32m---> 65\u001b[0;31m             \u001b[0;32mreturn\u001b[0m \u001b[0mfn\u001b[0m\u001b[0;34m(\u001b[0m\u001b[0;34m*\u001b[0m\u001b[0margs\u001b[0m\u001b[0;34m,\u001b[0m \u001b[0;34m**\u001b[0m\u001b[0mkwargs\u001b[0m\u001b[0;34m)\u001b[0m\u001b[0;34m\u001b[0m\u001b[0;34m\u001b[0m\u001b[0m\n\u001b[0m\u001b[1;32m     66\u001b[0m         \u001b[0;32mexcept\u001b[0m \u001b[0mException\u001b[0m \u001b[0;32mas\u001b[0m \u001b[0me\u001b[0m\u001b[0;34m:\u001b[0m\u001b[0;34m\u001b[0m\u001b[0;34m\u001b[0m\u001b[0m\n\u001b[1;32m     67\u001b[0m             \u001b[0mfiltered_tb\u001b[0m \u001b[0;34m=\u001b[0m \u001b[0m_process_traceback_frames\u001b[0m\u001b[0;34m(\u001b[0m\u001b[0me\u001b[0m\u001b[0;34m.\u001b[0m\u001b[0m__traceback__\u001b[0m\u001b[0;34m)\u001b[0m\u001b[0;34m\u001b[0m\u001b[0;34m\u001b[0m\u001b[0m\n",
            "\u001b[0;32m/usr/local/lib/python3.10/dist-packages/keras/src/engine/training.py\u001b[0m in \u001b[0;36mfit\u001b[0;34m(self, x, y, batch_size, epochs, verbose, callbacks, validation_split, validation_data, shuffle, class_weight, sample_weight, initial_epoch, steps_per_epoch, validation_steps, validation_batch_size, validation_freq, max_queue_size, workers, use_multiprocessing)\u001b[0m\n\u001b[1;32m   1830\u001b[0m                             \u001b[0mpss_evaluation_shards\u001b[0m\u001b[0;34m=\u001b[0m\u001b[0mself\u001b[0m\u001b[0;34m.\u001b[0m\u001b[0m_pss_evaluation_shards\u001b[0m\u001b[0;34m,\u001b[0m\u001b[0;34m\u001b[0m\u001b[0;34m\u001b[0m\u001b[0m\n\u001b[1;32m   1831\u001b[0m                         )\n\u001b[0;32m-> 1832\u001b[0;31m                     val_logs = self.evaluate(\n\u001b[0m\u001b[1;32m   1833\u001b[0m                         \u001b[0mx\u001b[0m\u001b[0;34m=\u001b[0m\u001b[0mval_x\u001b[0m\u001b[0;34m,\u001b[0m\u001b[0;34m\u001b[0m\u001b[0;34m\u001b[0m\u001b[0m\n\u001b[1;32m   1834\u001b[0m                         \u001b[0my\u001b[0m\u001b[0;34m=\u001b[0m\u001b[0mval_y\u001b[0m\u001b[0;34m,\u001b[0m\u001b[0;34m\u001b[0m\u001b[0;34m\u001b[0m\u001b[0m\n",
            "\u001b[0;32m/usr/local/lib/python3.10/dist-packages/keras/src/utils/traceback_utils.py\u001b[0m in \u001b[0;36merror_handler\u001b[0;34m(*args, **kwargs)\u001b[0m\n\u001b[1;32m     63\u001b[0m         \u001b[0mfiltered_tb\u001b[0m \u001b[0;34m=\u001b[0m \u001b[0;32mNone\u001b[0m\u001b[0;34m\u001b[0m\u001b[0;34m\u001b[0m\u001b[0m\n\u001b[1;32m     64\u001b[0m         \u001b[0;32mtry\u001b[0m\u001b[0;34m:\u001b[0m\u001b[0;34m\u001b[0m\u001b[0;34m\u001b[0m\u001b[0m\n\u001b[0;32m---> 65\u001b[0;31m             \u001b[0;32mreturn\u001b[0m \u001b[0mfn\u001b[0m\u001b[0;34m(\u001b[0m\u001b[0;34m*\u001b[0m\u001b[0margs\u001b[0m\u001b[0;34m,\u001b[0m \u001b[0;34m**\u001b[0m\u001b[0mkwargs\u001b[0m\u001b[0;34m)\u001b[0m\u001b[0;34m\u001b[0m\u001b[0;34m\u001b[0m\u001b[0m\n\u001b[0m\u001b[1;32m     66\u001b[0m         \u001b[0;32mexcept\u001b[0m \u001b[0mException\u001b[0m \u001b[0;32mas\u001b[0m \u001b[0me\u001b[0m\u001b[0;34m:\u001b[0m\u001b[0;34m\u001b[0m\u001b[0;34m\u001b[0m\u001b[0m\n\u001b[1;32m     67\u001b[0m             \u001b[0mfiltered_tb\u001b[0m \u001b[0;34m=\u001b[0m \u001b[0m_process_traceback_frames\u001b[0m\u001b[0;34m(\u001b[0m\u001b[0me\u001b[0m\u001b[0;34m.\u001b[0m\u001b[0m__traceback__\u001b[0m\u001b[0;34m)\u001b[0m\u001b[0;34m\u001b[0m\u001b[0;34m\u001b[0m\u001b[0m\n",
            "\u001b[0;31mKeyboardInterrupt\u001b[0m: "
          ]
        }
      ]
    },
    {
      "cell_type": "markdown",
      "source": [
        "### Keras Tuner Results:\n",
        "\n",
        "Stopped running the loop at Trial 179. It appears the additional improvements in accuracy are quite minute.\n",
        "\n",
        "Best Model So Far:\n",
        "\n",
        "*   Activation: relu\n",
        "*   Input Layer Nodes: 141\n",
        "*   No. of hidden layers: 3\n",
        "*   Layer 1 Nodes: 41\n",
        "*   Layer 2 Nodes: 6\n",
        "*   Layer 3 Nodes: 51\n",
        "*   Output Layer: Sigmoid, 1 Node\n",
        "\n",
        "Accuracy: 73.3%"
      ],
      "metadata": {
        "id": "s0eKyzKsCVzU"
      }
    },
    {
      "cell_type": "code",
      "source": [
        "# Define the model - deep neural net, i.e., the number of input features and hidden nodes for each layer.\n",
        "number_input_features = len(X_train_scaled[0])\n",
        "hidden_nodes_layer1 =  141\n",
        "hidden_nodes_layer2 = 41\n",
        "hidden_nodes_layer3 = 6\n",
        "hidden_nodes_layer4 = 51\n",
        "\n",
        "nn = tf.keras.models.Sequential()\n",
        "\n",
        "# Input hidden layer\n",
        "nn.add(\n",
        "    tf.keras.layers.Dense(units=hidden_nodes_layer1, input_dim=number_input_features, activation=\"relu\")\n",
        ")\n",
        "# First hidden layer\n",
        "nn.add(tf.keras.layers.Dense(units=hidden_nodes_layer2, activation=\"relu\"))\n",
        "\n",
        "# Second hidden layer\n",
        "nn.add(tf.keras.layers.Dense(units=hidden_nodes_layer3, activation=\"relu\"))\n",
        "\n",
        "# Third hidden layer\n",
        "nn.add(tf.keras.layers.Dense(units=hidden_nodes_layer4, activation=\"relu\"))\n",
        "\n",
        "# Output layer\n",
        "nn.add(tf.keras.layers.Dense(units=1, activation=\"sigmoid\"))\n",
        "\n",
        "# Check the structure of the model\n",
        "nn.summary()"
      ],
      "metadata": {
        "colab": {
          "base_uri": "https://localhost:8080/"
        },
        "id": "PKo5aHrODkan",
        "outputId": "089b1f72-cb0f-4b5e-e647-08436e230969"
      },
      "execution_count": null,
      "outputs": [
        {
          "output_type": "stream",
          "name": "stdout",
          "text": [
            "Model: \"sequential_8\"\n",
            "_________________________________________________________________\n",
            " Layer (type)                Output Shape              Param #   \n",
            "=================================================================\n",
            " dense_32 (Dense)            (None, 141)               3948      \n",
            "                                                                 \n",
            " dense_33 (Dense)            (None, 41)                5822      \n",
            "                                                                 \n",
            " dense_34 (Dense)            (None, 6)                 252       \n",
            "                                                                 \n",
            " dense_35 (Dense)            (None, 51)                357       \n",
            "                                                                 \n",
            " dense_36 (Dense)            (None, 1)                 52        \n",
            "                                                                 \n",
            "=================================================================\n",
            "Total params: 10431 (40.75 KB)\n",
            "Trainable params: 10431 (40.75 KB)\n",
            "Non-trainable params: 0 (0.00 Byte)\n",
            "_________________________________________________________________\n"
          ]
        }
      ]
    },
    {
      "cell_type": "code",
      "source": [
        "# Compile the model\n",
        "nn.compile(loss=\"binary_crossentropy\", optimizer=\"adam\", metrics=[\"accuracy\"])"
      ],
      "metadata": {
        "id": "kGl8xIz8FfA6"
      },
      "execution_count": null,
      "outputs": []
    },
    {
      "cell_type": "code",
      "source": [
        "# Example model fitting with the callback\n",
        "nn.fit(\n",
        "    X_train_scaled, y_train,\n",
        "    epochs=100\n",
        ")"
      ],
      "metadata": {
        "colab": {
          "base_uri": "https://localhost:8080/"
        },
        "id": "VbUgm8NpFh03",
        "outputId": "78d4a860-28e7-4b95-9543-8e94ebc15f46"
      },
      "execution_count": null,
      "outputs": [
        {
          "output_type": "stream",
          "name": "stdout",
          "text": [
            "Epoch 1/100\n",
            "804/804 [==============================] - 5s 5ms/step - loss: 0.6095 - accuracy: 0.6890\n",
            "Epoch 2/100\n",
            "804/804 [==============================] - 3s 4ms/step - loss: 0.6012 - accuracy: 0.6982\n",
            "Epoch 3/100\n",
            "804/804 [==============================] - 3s 4ms/step - loss: 0.6010 - accuracy: 0.6993\n",
            "Epoch 4/100\n",
            "804/804 [==============================] - 2s 3ms/step - loss: 0.6004 - accuracy: 0.6994\n",
            "Epoch 5/100\n",
            "804/804 [==============================] - 4s 5ms/step - loss: 0.6000 - accuracy: 0.6991\n",
            "Epoch 6/100\n",
            "804/804 [==============================] - 4s 5ms/step - loss: 0.6001 - accuracy: 0.6989\n",
            "Epoch 7/100\n",
            "804/804 [==============================] - 3s 4ms/step - loss: 0.5993 - accuracy: 0.6997\n",
            "Epoch 8/100\n",
            "804/804 [==============================] - 3s 4ms/step - loss: 0.5998 - accuracy: 0.6995\n",
            "Epoch 9/100\n",
            "804/804 [==============================] - 3s 4ms/step - loss: 0.5992 - accuracy: 0.7000\n",
            "Epoch 10/100\n",
            "804/804 [==============================] - 3s 3ms/step - loss: 0.5993 - accuracy: 0.7001\n",
            "Epoch 11/100\n",
            "804/804 [==============================] - 2s 3ms/step - loss: 0.5988 - accuracy: 0.7000\n",
            "Epoch 12/100\n",
            "804/804 [==============================] - 2s 3ms/step - loss: 0.5990 - accuracy: 0.7002\n",
            "Epoch 13/100\n",
            "804/804 [==============================] - 2s 3ms/step - loss: 0.5988 - accuracy: 0.6999\n",
            "Epoch 14/100\n",
            "804/804 [==============================] - 2s 3ms/step - loss: 0.5986 - accuracy: 0.7002\n",
            "Epoch 15/100\n",
            "804/804 [==============================] - 3s 4ms/step - loss: 0.5984 - accuracy: 0.7007\n",
            "Epoch 16/100\n",
            "804/804 [==============================] - 3s 3ms/step - loss: 0.5982 - accuracy: 0.7010\n",
            "Epoch 17/100\n",
            "804/804 [==============================] - 2s 3ms/step - loss: 0.5983 - accuracy: 0.7007\n",
            "Epoch 18/100\n",
            "804/804 [==============================] - 3s 4ms/step - loss: 0.5983 - accuracy: 0.7008\n",
            "Epoch 19/100\n",
            "804/804 [==============================] - 3s 3ms/step - loss: 0.5984 - accuracy: 0.7011\n",
            "Epoch 20/100\n",
            "804/804 [==============================] - 3s 4ms/step - loss: 0.5981 - accuracy: 0.7009\n",
            "Epoch 21/100\n",
            "804/804 [==============================] - 3s 4ms/step - loss: 0.5983 - accuracy: 0.7010\n",
            "Epoch 22/100\n",
            "804/804 [==============================] - 3s 4ms/step - loss: 0.5978 - accuracy: 0.7017\n",
            "Epoch 23/100\n",
            "804/804 [==============================] - 4s 5ms/step - loss: 0.5979 - accuracy: 0.7013\n",
            "Epoch 24/100\n",
            "804/804 [==============================] - 3s 4ms/step - loss: 0.5978 - accuracy: 0.7009\n",
            "Epoch 25/100\n",
            "804/804 [==============================] - 3s 4ms/step - loss: 0.5980 - accuracy: 0.7009\n",
            "Epoch 26/100\n",
            "804/804 [==============================] - 3s 4ms/step - loss: 0.5978 - accuracy: 0.7012\n",
            "Epoch 27/100\n",
            "804/804 [==============================] - 4s 5ms/step - loss: 0.5975 - accuracy: 0.7013\n",
            "Epoch 28/100\n",
            "804/804 [==============================] - 3s 4ms/step - loss: 0.5978 - accuracy: 0.7012\n",
            "Epoch 29/100\n",
            "804/804 [==============================] - 3s 4ms/step - loss: 0.5976 - accuracy: 0.7013\n",
            "Epoch 30/100\n",
            "804/804 [==============================] - 4s 5ms/step - loss: 0.5976 - accuracy: 0.7009\n",
            "Epoch 31/100\n",
            "804/804 [==============================] - 3s 4ms/step - loss: 0.5976 - accuracy: 0.6991\n",
            "Epoch 32/100\n",
            "804/804 [==============================] - 3s 3ms/step - loss: 0.5978 - accuracy: 0.7007\n",
            "Epoch 33/100\n",
            "804/804 [==============================] - 3s 4ms/step - loss: 0.5975 - accuracy: 0.7016\n",
            "Epoch 34/100\n",
            "804/804 [==============================] - 4s 5ms/step - loss: 0.5976 - accuracy: 0.7012\n",
            "Epoch 35/100\n",
            "804/804 [==============================] - 3s 4ms/step - loss: 0.5971 - accuracy: 0.7019\n",
            "Epoch 36/100\n",
            "804/804 [==============================] - 3s 4ms/step - loss: 0.5970 - accuracy: 0.7014\n",
            "Epoch 37/100\n",
            "804/804 [==============================] - 3s 4ms/step - loss: 0.5970 - accuracy: 0.7014\n",
            "Epoch 38/100\n",
            "804/804 [==============================] - 4s 4ms/step - loss: 0.5974 - accuracy: 0.7006\n",
            "Epoch 39/100\n",
            "804/804 [==============================] - 3s 4ms/step - loss: 0.5972 - accuracy: 0.7012\n",
            "Epoch 40/100\n",
            "804/804 [==============================] - 3s 4ms/step - loss: 0.5971 - accuracy: 0.7013\n",
            "Epoch 41/100\n",
            "804/804 [==============================] - 2s 3ms/step - loss: 0.5968 - accuracy: 0.7012\n",
            "Epoch 42/100\n",
            "804/804 [==============================] - 4s 5ms/step - loss: 0.5965 - accuracy: 0.7018\n",
            "Epoch 43/100\n",
            "804/804 [==============================] - 3s 4ms/step - loss: 0.5971 - accuracy: 0.7003\n",
            "Epoch 44/100\n",
            "804/804 [==============================] - 3s 4ms/step - loss: 0.5971 - accuracy: 0.6994\n",
            "Epoch 45/100\n",
            "804/804 [==============================] - 3s 4ms/step - loss: 0.5970 - accuracy: 0.7007\n",
            "Epoch 46/100\n",
            "804/804 [==============================] - 3s 3ms/step - loss: 0.5969 - accuracy: 0.7007\n",
            "Epoch 47/100\n",
            "804/804 [==============================] - 3s 3ms/step - loss: 0.5966 - accuracy: 0.7019\n",
            "Epoch 48/100\n",
            "804/804 [==============================] - 3s 4ms/step - loss: 0.5969 - accuracy: 0.7016\n",
            "Epoch 49/100\n",
            "804/804 [==============================] - 3s 3ms/step - loss: 0.5964 - accuracy: 0.7017\n",
            "Epoch 50/100\n",
            "804/804 [==============================] - 3s 4ms/step - loss: 0.5967 - accuracy: 0.7018\n",
            "Epoch 51/100\n",
            "804/804 [==============================] - 2s 3ms/step - loss: 0.5963 - accuracy: 0.7016\n",
            "Epoch 52/100\n",
            "804/804 [==============================] - 2s 3ms/step - loss: 0.5964 - accuracy: 0.7014\n",
            "Epoch 53/100\n",
            "804/804 [==============================] - 3s 4ms/step - loss: 0.5967 - accuracy: 0.7019\n",
            "Epoch 54/100\n",
            "804/804 [==============================] - 4s 5ms/step - loss: 0.5965 - accuracy: 0.7020\n",
            "Epoch 55/100\n",
            "804/804 [==============================] - 3s 3ms/step - loss: 0.5963 - accuracy: 0.7018\n",
            "Epoch 56/100\n",
            "804/804 [==============================] - 3s 3ms/step - loss: 0.5967 - accuracy: 0.7015\n",
            "Epoch 57/100\n",
            "804/804 [==============================] - 3s 4ms/step - loss: 0.5967 - accuracy: 0.7019\n",
            "Epoch 58/100\n",
            "804/804 [==============================] - 4s 5ms/step - loss: 0.5964 - accuracy: 0.7020\n",
            "Epoch 59/100\n",
            "804/804 [==============================] - 4s 4ms/step - loss: 0.5965 - accuracy: 0.7020\n",
            "Epoch 60/100\n",
            "804/804 [==============================] - 3s 4ms/step - loss: 0.5963 - accuracy: 0.7016\n",
            "Epoch 61/100\n",
            "804/804 [==============================] - 3s 4ms/step - loss: 0.5964 - accuracy: 0.7014\n",
            "Epoch 62/100\n",
            "804/804 [==============================] - 3s 3ms/step - loss: 0.5964 - accuracy: 0.7011\n",
            "Epoch 63/100\n",
            "804/804 [==============================] - 3s 4ms/step - loss: 0.5964 - accuracy: 0.7018\n",
            "Epoch 64/100\n",
            "804/804 [==============================] - 3s 4ms/step - loss: 0.5964 - accuracy: 0.7018\n",
            "Epoch 65/100\n",
            "804/804 [==============================] - 4s 5ms/step - loss: 0.5963 - accuracy: 0.7015\n",
            "Epoch 66/100\n",
            "804/804 [==============================] - 3s 3ms/step - loss: 0.5963 - accuracy: 0.7023\n",
            "Epoch 67/100\n",
            "804/804 [==============================] - 3s 3ms/step - loss: 0.5961 - accuracy: 0.7019\n",
            "Epoch 68/100\n",
            "804/804 [==============================] - 3s 3ms/step - loss: 0.5966 - accuracy: 0.7020\n",
            "Epoch 69/100\n",
            "804/804 [==============================] - 3s 4ms/step - loss: 0.5963 - accuracy: 0.7022\n",
            "Epoch 70/100\n",
            "804/804 [==============================] - 4s 4ms/step - loss: 0.5961 - accuracy: 0.7018\n",
            "Epoch 71/100\n",
            "804/804 [==============================] - 3s 3ms/step - loss: 0.5972 - accuracy: 0.7010\n",
            "Epoch 72/100\n",
            "804/804 [==============================] - 3s 4ms/step - loss: 0.5963 - accuracy: 0.7006\n",
            "Epoch 73/100\n",
            "804/804 [==============================] - 2s 3ms/step - loss: 0.5965 - accuracy: 0.7015\n",
            "Epoch 74/100\n",
            "804/804 [==============================] - 3s 4ms/step - loss: 0.5959 - accuracy: 0.7019\n",
            "Epoch 75/100\n",
            "804/804 [==============================] - 2s 3ms/step - loss: 0.5964 - accuracy: 0.7014\n",
            "Epoch 76/100\n",
            "804/804 [==============================] - 2s 3ms/step - loss: 0.5959 - accuracy: 0.7017\n",
            "Epoch 77/100\n",
            "804/804 [==============================] - 3s 4ms/step - loss: 0.5962 - accuracy: 0.7018\n",
            "Epoch 78/100\n",
            "804/804 [==============================] - 3s 3ms/step - loss: 0.5961 - accuracy: 0.7018\n",
            "Epoch 79/100\n",
            "804/804 [==============================] - 2s 3ms/step - loss: 0.5961 - accuracy: 0.7016\n",
            "Epoch 80/100\n",
            "804/804 [==============================] - 3s 4ms/step - loss: 0.5961 - accuracy: 0.7020\n",
            "Epoch 81/100\n",
            "804/804 [==============================] - 3s 3ms/step - loss: 0.5961 - accuracy: 0.7020\n",
            "Epoch 82/100\n",
            "804/804 [==============================] - 2s 3ms/step - loss: 0.5959 - accuracy: 0.7024\n",
            "Epoch 83/100\n",
            "804/804 [==============================] - 3s 4ms/step - loss: 0.5964 - accuracy: 0.7017\n",
            "Epoch 84/100\n",
            "804/804 [==============================] - 2s 3ms/step - loss: 0.5960 - accuracy: 0.7021\n",
            "Epoch 85/100\n",
            "804/804 [==============================] - 3s 3ms/step - loss: 0.5960 - accuracy: 0.7022\n",
            "Epoch 86/100\n",
            "804/804 [==============================] - 3s 4ms/step - loss: 0.5959 - accuracy: 0.7018\n",
            "Epoch 87/100\n",
            "804/804 [==============================] - 3s 4ms/step - loss: 0.5960 - accuracy: 0.7018\n",
            "Epoch 88/100\n",
            "804/804 [==============================] - 3s 4ms/step - loss: 0.5958 - accuracy: 0.7023\n",
            "Epoch 89/100\n",
            "804/804 [==============================] - 3s 4ms/step - loss: 0.5960 - accuracy: 0.7018\n",
            "Epoch 90/100\n",
            "804/804 [==============================] - 3s 4ms/step - loss: 0.5966 - accuracy: 0.7010\n",
            "Epoch 91/100\n",
            "804/804 [==============================] - 3s 4ms/step - loss: 0.5963 - accuracy: 0.7022\n",
            "Epoch 92/100\n",
            "804/804 [==============================] - 3s 4ms/step - loss: 0.5964 - accuracy: 0.7018\n",
            "Epoch 93/100\n",
            "804/804 [==============================] - 3s 4ms/step - loss: 0.5957 - accuracy: 0.7021\n",
            "Epoch 94/100\n",
            "804/804 [==============================] - 3s 4ms/step - loss: 0.5957 - accuracy: 0.7022\n",
            "Epoch 95/100\n",
            "804/804 [==============================] - 4s 5ms/step - loss: 0.5958 - accuracy: 0.7017\n",
            "Epoch 96/100\n",
            "804/804 [==============================] - 2s 3ms/step - loss: 0.5958 - accuracy: 0.7023\n",
            "Epoch 97/100\n",
            "804/804 [==============================] - 2s 3ms/step - loss: 0.5957 - accuracy: 0.7017\n",
            "Epoch 98/100\n",
            "804/804 [==============================] - 2s 3ms/step - loss: 0.5954 - accuracy: 0.7014\n",
            "Epoch 99/100\n",
            "804/804 [==============================] - 2s 3ms/step - loss: 0.5960 - accuracy: 0.7019\n",
            "Epoch 100/100\n",
            "804/804 [==============================] - 3s 4ms/step - loss: 0.5958 - accuracy: 0.7023\n"
          ]
        },
        {
          "output_type": "execute_result",
          "data": {
            "text/plain": [
              "<keras.src.callbacks.History at 0x7930b37afe50>"
            ]
          },
          "metadata": {},
          "execution_count": 52
        }
      ]
    },
    {
      "cell_type": "code",
      "source": [
        "# Evaluate the model using the test data\n",
        "model_loss, model_accuracy = nn.evaluate(X_test_scaled,y_test,verbose=2)\n",
        "print(f\"Loss: {model_loss}, Accuracy: {model_accuracy}\")"
      ],
      "metadata": {
        "colab": {
          "base_uri": "https://localhost:8080/"
        },
        "id": "57ARY0OeF_vx",
        "outputId": "7a567cb4-ec41-4b18-8ceb-c7a6fa6033de"
      },
      "execution_count": null,
      "outputs": [
        {
          "output_type": "stream",
          "name": "stdout",
          "text": [
            "268/268 - 1s - loss: 0.6043 - accuracy: 0.6988 - 750ms/epoch - 3ms/step\n",
            "Loss: 0.6042799353599548, Accuracy: 0.6987755298614502\n"
          ]
        }
      ]
    },
    {
      "cell_type": "code",
      "source": [],
      "metadata": {
        "id": "Pj4_iFjsGByv"
      },
      "execution_count": null,
      "outputs": []
    }
  ]
}